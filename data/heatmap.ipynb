{
 "cells": [
  {
   "cell_type": "code",
   "execution_count": 34,
   "id": "initial_id",
   "metadata": {
    "collapsed": true,
    "ExecuteTime": {
     "end_time": "2025-05-15T19:17:22.402210Z",
     "start_time": "2025-05-15T19:17:22.016176Z"
    }
   },
   "outputs": [],
   "source": [
    "import matplotlib.pyplot as plt\n",
    "import seaborn as sns\n",
    "import pandas as pd\n",
    "import numpy as np\n",
    "\n",
    "players = pd.read_csv('Player.csv')\n",
    "player_atts = pd.read_csv('Player_Attributes.csv')\n",
    "teams = pd.read_csv('Team.csv')\n",
    "matches = pd.read_csv('Match.csv')\n",
    "leagues = pd.read_csv('League.csv')\n",
    "\n",
    "player_atts['potential_rating_ratio'] = ((player_atts['potential'] / player_atts['overall_rating']) * 100)"
   ]
  },
  {
   "cell_type": "code",
   "outputs": [
    {
     "data": {
      "text/plain": "        id  team_api_id  team_fifa_api_id team_long_name team_short_name\n265  43049         8558             452.0   RCD Espanyol             ESP",
      "text/html": "<div>\n<style scoped>\n    .dataframe tbody tr th:only-of-type {\n        vertical-align: middle;\n    }\n\n    .dataframe tbody tr th {\n        vertical-align: top;\n    }\n\n    .dataframe thead th {\n        text-align: right;\n    }\n</style>\n<table border=\"1\" class=\"dataframe\">\n  <thead>\n    <tr style=\"text-align: right;\">\n      <th></th>\n      <th>id</th>\n      <th>team_api_id</th>\n      <th>team_fifa_api_id</th>\n      <th>team_long_name</th>\n      <th>team_short_name</th>\n    </tr>\n  </thead>\n  <tbody>\n    <tr>\n      <th>265</th>\n      <td>43049</td>\n      <td>8558</td>\n      <td>452.0</td>\n      <td>RCD Espanyol</td>\n      <td>ESP</td>\n    </tr>\n  </tbody>\n</table>\n</div>"
     },
     "execution_count": 7,
     "metadata": {},
     "output_type": "execute_result"
    }
   ],
   "source": [
    "teams[teams['team_long_name']=='RCD Espanyol']"
   ],
   "metadata": {
    "collapsed": false,
    "ExecuteTime": {
     "end_time": "2025-05-15T18:39:24.536995Z",
     "start_time": "2025-05-15T18:39:24.532101Z"
    }
   },
   "id": "5f6999d2e93cd111",
   "execution_count": 7
  },
  {
   "cell_type": "code",
   "outputs": [],
   "source": [
    "matches['date'] = pd.to_datetime(matches['date'])\n",
    "rcde_matches = matches[matches['home_team_api_id']== 8558]"
   ],
   "metadata": {
    "collapsed": false,
    "ExecuteTime": {
     "end_time": "2025-05-15T19:04:40.444569Z",
     "start_time": "2025-05-15T19:04:40.423947Z"
    }
   },
   "id": "ef8077129be9d247",
   "execution_count": 18
  },
  {
   "cell_type": "code",
   "outputs": [
    {
     "name": "stderr",
     "output_type": "stream",
     "text": [
      "/var/folders/gq/d76lmnf57776ty42h5bk0f080000gn/T/ipykernel_24250/1459947872.py:3: SettingWithCopyWarning: \n",
      "A value is trying to be set on a copy of a slice from a DataFrame.\n",
      "Try using .loc[row_indexer,col_indexer] = value instead\n",
      "\n",
      "See the caveats in the documentation: https://pandas.pydata.org/pandas-docs/stable/user_guide/indexing.html#returning-a-view-versus-a-copy\n",
      "  rcde_matches[column] = rcde_matches[column].astype('Int64')\n"
     ]
    }
   ],
   "source": [
    "for column in rcde_matches:\n",
    "    if 'home_player' in column:\n",
    "        rcde_matches[column] = rcde_matches[column].astype('Int64')\n",
    "        rcde_matches = rcde_matches.merge(players, left_on=column, right_on='player_api_id', how='left', suffixes=('','_new'))"
   ],
   "metadata": {
    "collapsed": false,
    "ExecuteTime": {
     "end_time": "2025-05-15T19:08:38.829171Z",
     "start_time": "2025-05-15T19:08:38.709998Z"
    }
   },
   "id": "e02b2c9a48fc71cc",
   "execution_count": 25
  },
  {
   "cell_type": "code",
   "outputs": [],
   "source": [
    "rcde_names = pd.unique(rcde_matches['player_name_new'].values.ravel()).tolist()\n",
    "rcde_players = players[players['player_name'].isin(rcde_names)]\n"
   ],
   "metadata": {
    "collapsed": false,
    "ExecuteTime": {
     "end_time": "2025-05-15T19:14:43.548117Z",
     "start_time": "2025-05-15T19:14:43.544609Z"
    }
   },
   "id": "7eda21fdcb36930f",
   "execution_count": 31
  },
  {
   "cell_type": "code",
   "outputs": [],
   "source": [
    "rcde_ids = player_atts[player_atts['player_api_id'].isin(rcde_players['player_api_id'])]"
   ],
   "metadata": {
    "collapsed": false,
    "ExecuteTime": {
     "end_time": "2025-05-15T19:18:52.866676Z",
     "start_time": "2025-05-15T19:18:52.852772Z"
    }
   },
   "id": "42d57d4971129868",
   "execution_count": 35
  }
 ],
 "metadata": {
  "kernelspec": {
   "display_name": "Python 3",
   "language": "python",
   "name": "python3"
  },
  "language_info": {
   "codemirror_mode": {
    "name": "ipython",
    "version": 2
   },
   "file_extension": ".py",
   "mimetype": "text/x-python",
   "name": "python",
   "nbconvert_exporter": "python",
   "pygments_lexer": "ipython2",
   "version": "2.7.6"
  }
 },
 "nbformat": 4,
 "nbformat_minor": 5
}
