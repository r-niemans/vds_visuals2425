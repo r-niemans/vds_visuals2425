{
 "cells": [
  {
   "cell_type": "code",
   "id": "initial_id",
   "metadata": {
    "collapsed": true,
    "ExecuteTime": {
     "end_time": "2025-05-22T14:21:33.063858Z",
     "start_time": "2025-05-22T14:21:32.614653Z"
    }
   },
   "source": [
    "import matplotlib.pyplot as plt\n",
    "import seaborn as sns\n",
    "import pandas as pd\n",
    "import numpy as np\n",
    "import plotly.graph_objects as go\n",
    "import re\n",
    "from collections import defaultdict\n",
    "import plotly.io as pio\n",
    "\n",
    "players = pd.read_csv('data/Player.csv')\n",
    "player_atts = pd.read_csv('data/Player_Attributes.csv')\n",
    "teams = pd.read_csv('data/Team.csv')\n",
    "matches = pd.read_csv('data/Match.csv')\n",
    "leagues = pd.read_csv('data/League.csv')\n",
    "positions = pd.read_csv('data/PositionReference.csv')\n",
    "\n",
    "player_atts['potential_rating_ratio'] = ((player_atts['potential'] / player_atts['overall_rating']) * 100)"
   ],
   "outputs": [],
   "execution_count": 2
  },
  {
   "cell_type": "code",
   "outputs": [],
   "source": [
    "teams[teams['team_long_name']=='RCD Espanyol']"
   ],
   "metadata": {
    "collapsed": false
   },
   "id": "5f6999d2e93cd111",
   "execution_count": null
  },
  {
   "cell_type": "code",
   "source": [
    "matches['date'] = pd.to_datetime(matches['date'])\n",
    "rcde_matches = matches[matches['home_team_api_id']== 8558]"
   ],
   "metadata": {
    "collapsed": false,
    "ExecuteTime": {
     "end_time": "2025-05-22T14:27:12.161893Z",
     "start_time": "2025-05-22T14:27:12.031309Z"
    }
   },
   "id": "ef8077129be9d247",
   "outputs": [],
   "execution_count": 10
  },
  {
   "metadata": {
    "ExecuteTime": {
     "end_time": "2025-05-22T14:31:48.811029Z",
     "start_time": "2025-05-22T14:31:48.808042Z"
    }
   },
   "cell_type": "code",
   "source": "filtered_players_rcde = [col for col in rcde_matches.columns if re.match(r'home_player_\\d+$', col)]",
   "id": "f674a95acd83e1a1",
   "outputs": [],
   "execution_count": 12
  },
  {
   "metadata": {
    "ExecuteTime": {
     "end_time": "2025-05-22T14:46:16.925864Z",
     "start_time": "2025-05-22T14:46:16.913702Z"
    }
   },
   "cell_type": "code",
   "source": "rcde_matches",
   "id": "64849ec650563908",
   "outputs": [
    {
     "data": {
      "text/plain": [
       "        id  country_id  league_id     season  stage       date  match_api_id  \\\n",
       "0    21525       21518      21518  2008/2009      1 2008-08-30        530090   \n",
       "1    21540       21518      21518  2008/2009     11 2008-11-16        530245   \n",
       "2    21560       21518      21518  2008/2009     13 2008-11-30        530325   \n",
       "3    21595       21518      21518  2008/2009     16 2008-12-20        530360   \n",
       "4    21611       21518      21518  2008/2009     18 2009-01-11        530376   \n",
       "..     ...         ...        ...        ...    ...        ...           ...   \n",
       "147  24454       21518      21518  2015/2016     34 2016-04-19       2030494   \n",
       "148  24473       21518      21518  2015/2016     36 2016-05-01       2030513   \n",
       "149  24492       21518      21518  2015/2016     38 2016-05-15       2030532   \n",
       "150  24515       21518      21518  2015/2016      5 2015-09-22       2030129   \n",
       "151  24536       21518      21518  2015/2016      7 2015-10-03       2030150   \n",
       "\n",
       "     home_team_api_id  away_team_api_id  home_team_goal  ...  \\\n",
       "0                8558             10281               1  ...   \n",
       "1                8558              8388               3  ...   \n",
       "2                8558              9869               0  ...   \n",
       "3                8558              9906               2  ...   \n",
       "4                8558              9865               2  ...   \n",
       "..                ...               ...             ...  ...   \n",
       "147              8558              9910               1  ...   \n",
       "148              8558              8302               1  ...   \n",
       "149              8558              8372               4  ...   \n",
       "150              8558             10267               1  ...   \n",
       "151              8558              9869               1  ...   \n",
       "\n",
       "     weight_home_player_10_info  home_player_10_position  \\\n",
       "0                           163                     10.0   \n",
       "1                           154                      8.0   \n",
       "2                           152                     10.0   \n",
       "3                           154                      8.0   \n",
       "4                           154                      8.0   \n",
       "..                          ...                      ...   \n",
       "147                         165                     10.0   \n",
       "148                         185                     10.0   \n",
       "149                         154                      8.0   \n",
       "150                         152                      8.0   \n",
       "151                         152                      8.0   \n",
       "\n",
       "     id_home_player_11_info  player_api_id_home_player_11_info  \\\n",
       "0                      6356                              24852   \n",
       "1                      8831                              32764   \n",
       "2                      8831                              32764   \n",
       "3                      5348                             150330   \n",
       "4                      6356                              24852   \n",
       "..                      ...                                ...   \n",
       "147                    6680                             498033   \n",
       "148                    6680                             498033   \n",
       "149                    3774                             246438   \n",
       "150                    3278                              41622   \n",
       "151                    3278                              41622   \n",
       "\n",
       "     player_name_home_player_11_info  player_fifa_api_id_home_player_11_info  \\\n",
       "0                        Luis Garcia                                      16   \n",
       "1                        Raul Tamudo                                    2264   \n",
       "2                        Raul Tamudo                                    2264   \n",
       "3                Jose Maria Callejon                                  185020   \n",
       "4                        Luis Garcia                                      16   \n",
       "..                               ...                                     ...   \n",
       "147                    Marco Asensio                                  220834   \n",
       "148                    Marco Asensio                                  220834   \n",
       "149                    Gerard Moreno                                  208093   \n",
       "150                   Felipe Caicedo                                  175254   \n",
       "151                   Felipe Caicedo                                  175254   \n",
       "\n",
       "     birthday_home_player_11_info  height_home_player_11_info  \\\n",
       "0             1981-02-06 00:00:00                      177.80   \n",
       "1             1977-10-19 00:00:00                      180.34   \n",
       "2             1977-10-19 00:00:00                      180.34   \n",
       "3             1987-02-11 00:00:00                      177.80   \n",
       "4             1981-02-06 00:00:00                      177.80   \n",
       "..                            ...                         ...   \n",
       "147           1996-01-21 00:00:00                      177.80   \n",
       "148           1996-01-21 00:00:00                      177.80   \n",
       "149           1992-04-07 00:00:00                      177.80   \n",
       "150           1988-09-05 00:00:00                      182.88   \n",
       "151           1988-09-05 00:00:00                      182.88   \n",
       "\n",
       "     weight_home_player_11_info  home_player_11_position  \n",
       "0                           152                     10.0  \n",
       "1                           163                     11.0  \n",
       "2                           163                     10.0  \n",
       "3                           161                     11.0  \n",
       "4                           152                     11.0  \n",
       "..                          ...                      ...  \n",
       "147                         154                     10.0  \n",
       "148                         154                     10.0  \n",
       "149                         165                     11.0  \n",
       "150                         185                     11.0  \n",
       "151                         185                     11.0  \n",
       "\n",
       "[152 rows x 242 columns]"
      ],
      "text/html": [
       "<div>\n",
       "<style scoped>\n",
       "    .dataframe tbody tr th:only-of-type {\n",
       "        vertical-align: middle;\n",
       "    }\n",
       "\n",
       "    .dataframe tbody tr th {\n",
       "        vertical-align: top;\n",
       "    }\n",
       "\n",
       "    .dataframe thead th {\n",
       "        text-align: right;\n",
       "    }\n",
       "</style>\n",
       "<table border=\"1\" class=\"dataframe\">\n",
       "  <thead>\n",
       "    <tr style=\"text-align: right;\">\n",
       "      <th></th>\n",
       "      <th>id</th>\n",
       "      <th>country_id</th>\n",
       "      <th>league_id</th>\n",
       "      <th>season</th>\n",
       "      <th>stage</th>\n",
       "      <th>date</th>\n",
       "      <th>match_api_id</th>\n",
       "      <th>home_team_api_id</th>\n",
       "      <th>away_team_api_id</th>\n",
       "      <th>home_team_goal</th>\n",
       "      <th>...</th>\n",
       "      <th>weight_home_player_10_info</th>\n",
       "      <th>home_player_10_position</th>\n",
       "      <th>id_home_player_11_info</th>\n",
       "      <th>player_api_id_home_player_11_info</th>\n",
       "      <th>player_name_home_player_11_info</th>\n",
       "      <th>player_fifa_api_id_home_player_11_info</th>\n",
       "      <th>birthday_home_player_11_info</th>\n",
       "      <th>height_home_player_11_info</th>\n",
       "      <th>weight_home_player_11_info</th>\n",
       "      <th>home_player_11_position</th>\n",
       "    </tr>\n",
       "  </thead>\n",
       "  <tbody>\n",
       "    <tr>\n",
       "      <th>0</th>\n",
       "      <td>21525</td>\n",
       "      <td>21518</td>\n",
       "      <td>21518</td>\n",
       "      <td>2008/2009</td>\n",
       "      <td>1</td>\n",
       "      <td>2008-08-30</td>\n",
       "      <td>530090</td>\n",
       "      <td>8558</td>\n",
       "      <td>10281</td>\n",
       "      <td>1</td>\n",
       "      <td>...</td>\n",
       "      <td>163</td>\n",
       "      <td>10.0</td>\n",
       "      <td>6356</td>\n",
       "      <td>24852</td>\n",
       "      <td>Luis Garcia</td>\n",
       "      <td>16</td>\n",
       "      <td>1981-02-06 00:00:00</td>\n",
       "      <td>177.80</td>\n",
       "      <td>152</td>\n",
       "      <td>10.0</td>\n",
       "    </tr>\n",
       "    <tr>\n",
       "      <th>1</th>\n",
       "      <td>21540</td>\n",
       "      <td>21518</td>\n",
       "      <td>21518</td>\n",
       "      <td>2008/2009</td>\n",
       "      <td>11</td>\n",
       "      <td>2008-11-16</td>\n",
       "      <td>530245</td>\n",
       "      <td>8558</td>\n",
       "      <td>8388</td>\n",
       "      <td>3</td>\n",
       "      <td>...</td>\n",
       "      <td>154</td>\n",
       "      <td>8.0</td>\n",
       "      <td>8831</td>\n",
       "      <td>32764</td>\n",
       "      <td>Raul Tamudo</td>\n",
       "      <td>2264</td>\n",
       "      <td>1977-10-19 00:00:00</td>\n",
       "      <td>180.34</td>\n",
       "      <td>163</td>\n",
       "      <td>11.0</td>\n",
       "    </tr>\n",
       "    <tr>\n",
       "      <th>2</th>\n",
       "      <td>21560</td>\n",
       "      <td>21518</td>\n",
       "      <td>21518</td>\n",
       "      <td>2008/2009</td>\n",
       "      <td>13</td>\n",
       "      <td>2008-11-30</td>\n",
       "      <td>530325</td>\n",
       "      <td>8558</td>\n",
       "      <td>9869</td>\n",
       "      <td>0</td>\n",
       "      <td>...</td>\n",
       "      <td>152</td>\n",
       "      <td>10.0</td>\n",
       "      <td>8831</td>\n",
       "      <td>32764</td>\n",
       "      <td>Raul Tamudo</td>\n",
       "      <td>2264</td>\n",
       "      <td>1977-10-19 00:00:00</td>\n",
       "      <td>180.34</td>\n",
       "      <td>163</td>\n",
       "      <td>10.0</td>\n",
       "    </tr>\n",
       "    <tr>\n",
       "      <th>3</th>\n",
       "      <td>21595</td>\n",
       "      <td>21518</td>\n",
       "      <td>21518</td>\n",
       "      <td>2008/2009</td>\n",
       "      <td>16</td>\n",
       "      <td>2008-12-20</td>\n",
       "      <td>530360</td>\n",
       "      <td>8558</td>\n",
       "      <td>9906</td>\n",
       "      <td>2</td>\n",
       "      <td>...</td>\n",
       "      <td>154</td>\n",
       "      <td>8.0</td>\n",
       "      <td>5348</td>\n",
       "      <td>150330</td>\n",
       "      <td>Jose Maria Callejon</td>\n",
       "      <td>185020</td>\n",
       "      <td>1987-02-11 00:00:00</td>\n",
       "      <td>177.80</td>\n",
       "      <td>161</td>\n",
       "      <td>11.0</td>\n",
       "    </tr>\n",
       "    <tr>\n",
       "      <th>4</th>\n",
       "      <td>21611</td>\n",
       "      <td>21518</td>\n",
       "      <td>21518</td>\n",
       "      <td>2008/2009</td>\n",
       "      <td>18</td>\n",
       "      <td>2009-01-11</td>\n",
       "      <td>530376</td>\n",
       "      <td>8558</td>\n",
       "      <td>9865</td>\n",
       "      <td>2</td>\n",
       "      <td>...</td>\n",
       "      <td>154</td>\n",
       "      <td>8.0</td>\n",
       "      <td>6356</td>\n",
       "      <td>24852</td>\n",
       "      <td>Luis Garcia</td>\n",
       "      <td>16</td>\n",
       "      <td>1981-02-06 00:00:00</td>\n",
       "      <td>177.80</td>\n",
       "      <td>152</td>\n",
       "      <td>11.0</td>\n",
       "    </tr>\n",
       "    <tr>\n",
       "      <th>...</th>\n",
       "      <td>...</td>\n",
       "      <td>...</td>\n",
       "      <td>...</td>\n",
       "      <td>...</td>\n",
       "      <td>...</td>\n",
       "      <td>...</td>\n",
       "      <td>...</td>\n",
       "      <td>...</td>\n",
       "      <td>...</td>\n",
       "      <td>...</td>\n",
       "      <td>...</td>\n",
       "      <td>...</td>\n",
       "      <td>...</td>\n",
       "      <td>...</td>\n",
       "      <td>...</td>\n",
       "      <td>...</td>\n",
       "      <td>...</td>\n",
       "      <td>...</td>\n",
       "      <td>...</td>\n",
       "      <td>...</td>\n",
       "      <td>...</td>\n",
       "    </tr>\n",
       "    <tr>\n",
       "      <th>147</th>\n",
       "      <td>24454</td>\n",
       "      <td>21518</td>\n",
       "      <td>21518</td>\n",
       "      <td>2015/2016</td>\n",
       "      <td>34</td>\n",
       "      <td>2016-04-19</td>\n",
       "      <td>2030494</td>\n",
       "      <td>8558</td>\n",
       "      <td>9910</td>\n",
       "      <td>1</td>\n",
       "      <td>...</td>\n",
       "      <td>165</td>\n",
       "      <td>10.0</td>\n",
       "      <td>6680</td>\n",
       "      <td>498033</td>\n",
       "      <td>Marco Asensio</td>\n",
       "      <td>220834</td>\n",
       "      <td>1996-01-21 00:00:00</td>\n",
       "      <td>177.80</td>\n",
       "      <td>154</td>\n",
       "      <td>10.0</td>\n",
       "    </tr>\n",
       "    <tr>\n",
       "      <th>148</th>\n",
       "      <td>24473</td>\n",
       "      <td>21518</td>\n",
       "      <td>21518</td>\n",
       "      <td>2015/2016</td>\n",
       "      <td>36</td>\n",
       "      <td>2016-05-01</td>\n",
       "      <td>2030513</td>\n",
       "      <td>8558</td>\n",
       "      <td>8302</td>\n",
       "      <td>1</td>\n",
       "      <td>...</td>\n",
       "      <td>185</td>\n",
       "      <td>10.0</td>\n",
       "      <td>6680</td>\n",
       "      <td>498033</td>\n",
       "      <td>Marco Asensio</td>\n",
       "      <td>220834</td>\n",
       "      <td>1996-01-21 00:00:00</td>\n",
       "      <td>177.80</td>\n",
       "      <td>154</td>\n",
       "      <td>10.0</td>\n",
       "    </tr>\n",
       "    <tr>\n",
       "      <th>149</th>\n",
       "      <td>24492</td>\n",
       "      <td>21518</td>\n",
       "      <td>21518</td>\n",
       "      <td>2015/2016</td>\n",
       "      <td>38</td>\n",
       "      <td>2016-05-15</td>\n",
       "      <td>2030532</td>\n",
       "      <td>8558</td>\n",
       "      <td>8372</td>\n",
       "      <td>4</td>\n",
       "      <td>...</td>\n",
       "      <td>154</td>\n",
       "      <td>8.0</td>\n",
       "      <td>3774</td>\n",
       "      <td>246438</td>\n",
       "      <td>Gerard Moreno</td>\n",
       "      <td>208093</td>\n",
       "      <td>1992-04-07 00:00:00</td>\n",
       "      <td>177.80</td>\n",
       "      <td>165</td>\n",
       "      <td>11.0</td>\n",
       "    </tr>\n",
       "    <tr>\n",
       "      <th>150</th>\n",
       "      <td>24515</td>\n",
       "      <td>21518</td>\n",
       "      <td>21518</td>\n",
       "      <td>2015/2016</td>\n",
       "      <td>5</td>\n",
       "      <td>2015-09-22</td>\n",
       "      <td>2030129</td>\n",
       "      <td>8558</td>\n",
       "      <td>10267</td>\n",
       "      <td>1</td>\n",
       "      <td>...</td>\n",
       "      <td>152</td>\n",
       "      <td>8.0</td>\n",
       "      <td>3278</td>\n",
       "      <td>41622</td>\n",
       "      <td>Felipe Caicedo</td>\n",
       "      <td>175254</td>\n",
       "      <td>1988-09-05 00:00:00</td>\n",
       "      <td>182.88</td>\n",
       "      <td>185</td>\n",
       "      <td>11.0</td>\n",
       "    </tr>\n",
       "    <tr>\n",
       "      <th>151</th>\n",
       "      <td>24536</td>\n",
       "      <td>21518</td>\n",
       "      <td>21518</td>\n",
       "      <td>2015/2016</td>\n",
       "      <td>7</td>\n",
       "      <td>2015-10-03</td>\n",
       "      <td>2030150</td>\n",
       "      <td>8558</td>\n",
       "      <td>9869</td>\n",
       "      <td>1</td>\n",
       "      <td>...</td>\n",
       "      <td>152</td>\n",
       "      <td>8.0</td>\n",
       "      <td>3278</td>\n",
       "      <td>41622</td>\n",
       "      <td>Felipe Caicedo</td>\n",
       "      <td>175254</td>\n",
       "      <td>1988-09-05 00:00:00</td>\n",
       "      <td>182.88</td>\n",
       "      <td>185</td>\n",
       "      <td>11.0</td>\n",
       "    </tr>\n",
       "  </tbody>\n",
       "</table>\n",
       "<p>152 rows × 242 columns</p>\n",
       "</div>"
      ]
     },
     "execution_count": 24,
     "metadata": {},
     "output_type": "execute_result"
    }
   ],
   "execution_count": 24
  },
  {
   "cell_type": "code",
   "source": [
    "for column in rcde_matches:\n",
    "    if re.match(r'home_player_\\d+$', column):\n",
    "        rcde_matches[column] = rcde_matches[column].astype('Int64')\n",
    "        rcde_matches = rcde_matches.merge(players, left_on=column, right_on='player_api_id', how='left', suffixes=('','_new'))"
   ],
   "metadata": {
    "collapsed": false,
    "ExecuteTime": {
     "end_time": "2025-05-22T14:36:02.815043Z",
     "start_time": "2025-05-22T14:36:02.775470Z"
    }
   },
   "id": "e02b2c9a48fc71cc",
   "outputs": [
    {
     "name": "stderr",
     "output_type": "stream",
     "text": [
      "/var/folders/gq/d76lmnf57776ty42h5bk0f080000gn/T/ipykernel_87156/2649699021.py:3: SettingWithCopyWarning: \n",
      "A value is trying to be set on a copy of a slice from a DataFrame.\n",
      "Try using .loc[row_indexer,col_indexer] = value instead\n",
      "\n",
      "See the caveats in the documentation: https://pandas.pydata.org/pandas-docs/stable/user_guide/indexing.html#returning-a-view-versus-a-copy\n",
      "  rcde_matches[column] = rcde_matches[column].astype('Int64')\n"
     ]
    }
   ],
   "execution_count": 15
  },
  {
   "metadata": {
    "ExecuteTime": {
     "end_time": "2025-05-22T14:46:20.340422Z",
     "start_time": "2025-05-22T14:46:20.301767Z"
    }
   },
   "cell_type": "code",
   "source": [
    "player_cols = [col for col in rcde_matches.columns if re.fullmatch(r'home_player_\\d+', col)]\n",
    "\n",
    "# Step 2: For each player column, find its corresponding position column and merge\n",
    "for col in player_cols:\n",
    "    # Find the corresponding Y column (e.g., 'home_player_Y1' for 'home_player_1')\n",
    "    y_col = col.replace('home_player_', 'home_player_Y')\n",
    "\n",
    "    # Cast player column to nullable int for merge\n",
    "    rcde_matches[col] = rcde_matches[col].astype('Int64')\n",
    "\n",
    "    # Merge with players table on player ID\n",
    "    rcde_matches = rcde_matches.merge(\n",
    "        players,\n",
    "        left_on=col,\n",
    "        right_on='player_api_id',\n",
    "        how='left',\n",
    "        suffixes=('', f'_{col}_info')\n",
    "    )\n",
    "\n",
    "    # Optional: Add position info from the Y column to the merged data\n",
    "    rcde_matches[f'{col}_position'] = rcde_matches[y_col]"
   ],
   "id": "995a1f93dd5821c0",
   "outputs": [],
   "execution_count": 25
  },
  {
   "metadata": {},
   "cell_type": "code",
   "outputs": [],
   "execution_count": null,
   "source": [
    "rcde_player_atts = player_atts[player_atts['player_api_id'].isin(rcde_players['player_api_id'])]\n",
    "# add name into the player attributes df\n",
    "rcde_player_atts = rcde_player_atts.merge(rcde_players[['player_api_id', 'player_name']], on='player_api_id', how='left')"
   ],
   "id": "7b77e3ba6e2891cd"
  },
  {
   "metadata": {
    "ExecuteTime": {
     "end_time": "2025-05-22T16:44:19.621690Z",
     "start_time": "2025-05-22T16:44:19.607136Z"
    }
   },
   "cell_type": "code",
   "source": [
    "# Extract relevant name and position columns again\n",
    "home_players_df = pd.read_csv('data/Filtered_Home_Player_Data.csv')\n",
    "name_cols = [col for col in home_players_df.columns if 'player_name_home_player_' in col]\n",
    "pos_cols = [col for col in home_players_df.columns if re.fullmatch(r'home_player_\\d+_position', col)]\n",
    "\n",
    "player_position_dict = {}\n",
    "\n",
    "for name_col in name_cols:\n",
    "    player_number = re.search(r'\\d+', name_col).group()\n",
    "    pos_col = f'home_player_{player_number}_position'\n",
    "\n",
    "    for name, pos in zip(home_players_df[name_col], home_players_df[pos_col]):\n",
    "        if pd.notna(name) and pd.notna(pos):\n",
    "            player_position_dict[name] = int(pos)\n"
   ],
   "id": "ae2f0290f5847332",
   "outputs": [
    {
     "data": {
      "text/plain": [
       "({'Carlos Kameni': 1,\n",
       "  'Cristian Alvarez': 1,\n",
       "  'Francisco Casilla': 1,\n",
       "  'Pau Sabata': 1,\n",
       "  'Giedrius Arlauskis': 1,\n",
       "  'Sergio Sanchez': 3,\n",
       "  'Steve Finnan': 3,\n",
       "  'Francisco Chica': 3,\n",
       "  'Ivan Pillud': 3,\n",
       "  'Facundo Sebastian Roncaglia': 3,\n",
       "  'Jordi Amat': 3,\n",
       "  'Javi Lopez': 7,\n",
       "  'Ernesto Galan': 3,\n",
       "  'Victor Sanchez Mata': 8,\n",
       "  'Raul Rodriguez': 7,\n",
       "  'Felipe Mattioni Rohde': 3,\n",
       "  'Anaitz Arbilla': 6,\n",
       "  'Alvaro Gonzalez Soberon': 3,\n",
       "  'Roberto Correa': 3,\n",
       "  'Daniel Jarque': 3,\n",
       "  'Marc Torrejon Moya': 3,\n",
       "  'Nicolas Pareja': 3,\n",
       "  'Victor Ruiz': 3,\n",
       "  'Hurtado Perez Moises': 6,\n",
       "  'Juan Forlin': 6,\n",
       "  'Hector Moreno': 3,\n",
       "  'Diego Daniel Colotto': 3,\n",
       "  'Sidnei': 3,\n",
       "  'Enzo Roco': 3,\n",
       "  'Didac Vila': 3,\n",
       "  'Eric Bertrand Bailly': 3,\n",
       "  'Michael Ciani': 3,\n",
       "  'Oscar Duarte': 7,\n",
       "  'Gregory Beranger': 3,\n",
       "  'David Garcia': 3,\n",
       "  'Victor Alvarez': 8,\n",
       "  'Joan Capdevila': 3,\n",
       "  'Juan Rafael Fuentes': 3,\n",
       "  'Ruben Duarte': 3,\n",
       "  'Roman Martinez': 7,\n",
       "  'Angel Cervara': 6,\n",
       "  'Milan Smiljanic': 6,\n",
       "  'Jose Maria Callejon': 11,\n",
       "  'Ferran Corominas': 8,\n",
       "  'Luis Garcia': 11,\n",
       "  'Ivan de la Pena': 8,\n",
       "  'Joan Verdu': 8,\n",
       "  'Jose Raul Baena': 6,\n",
       "  'Shunsuke Nakamura': 8,\n",
       "  'Javi Moreno Marquez': 7,\n",
       "  'Aldo Pedro Duscher': 7,\n",
       "  'Romaric': 8,\n",
       "  'Cristian Stuani': 11,\n",
       "  'David Lopez': 7,\n",
       "  'Lucas Vazquez': 7,\n",
       "  'Jose Canas': 7,\n",
       "  'Salva Sevilla': 8,\n",
       "  'Pape Kouli Diop': 8,\n",
       "  'Joan Jordan': 6,\n",
       "  'Marco Asensio': 10,\n",
       "  'Abraham Gonzalez': 8,\n",
       "  'Christian Gomez': 8,\n",
       "  'Hernan Perez': 10,\n",
       "  'Francisco Rufete': 8,\n",
       "  'Fernando Marquez': 8,\n",
       "  'Sergio Garcia': 10,\n",
       "  'Vladimir Weiss': 8,\n",
       "  'Rui Fonte': 11,\n",
       "  'Thievy Bifouma': 11,\n",
       "  'Philippe Coutinho': 8,\n",
       "  'Christian Alfonso': 8,\n",
       "  'Wakaso Mubarak': 8,\n",
       "  'Juan Albin': 8,\n",
       "  'Samuele Longo': 11,\n",
       "  'Pizzi': 8,\n",
       "  'Manu Lanzarote': 10,\n",
       "  'Paco Montanes': 8,\n",
       "  'Gerard Moreno': 11,\n",
       "  'Valdo': 10,\n",
       "  'Nene': 8,\n",
       "  'Ivan Alonso': 11,\n",
       "  'Alvaro Vazquez': 11,\n",
       "  'Alex Fernandez': 8,\n",
       "  'Simao': 10,\n",
       "  'Raul Tamudo': 10,\n",
       "  'Ben Sahar': 8,\n",
       "  'Jesus Datolo': 8,\n",
       "  'Jhon Cordoba': 11,\n",
       "  'Gabriel Torje': 10,\n",
       "  'Felipe Caicedo': 11,\n",
       "  'Burgui': 10,\n",
       "  'Pablo Osvaldo': 11,\n",
       "  'Kalu Uche': 11},\n",
       " 93)"
      ]
     },
     "execution_count": 68,
     "metadata": {},
     "output_type": "execute_result"
    }
   ],
   "execution_count": 68
  },
  {
   "metadata": {
    "ExecuteTime": {
     "end_time": "2025-05-22T16:32:13.587697Z",
     "start_time": "2025-05-22T16:32:13.579543Z"
    }
   },
   "cell_type": "code",
   "source": [
    "# not sure if still needed\n",
    "player_info = []\n",
    "for column in rcde_matches:\n",
    "    if column in name_columns:\n",
    "        player_info.append(pd.unique(rcde_matches[column].values.ravel()).tolist())\n",
    "\n",
    "flat_list = [name for sublist in player_info for name in sublist if pd.notna(name)]\n",
    "unique_rcde_names = pd.unique(flat_list).tolist()"
   ],
   "id": "4197f83afeed315d",
   "outputs": [],
   "execution_count": 64
  },
  {
   "metadata": {},
   "cell_type": "code",
   "outputs": [],
   "execution_count": null,
   "source": [
    "# only get the role_y information since we did not explictly mention anything about left or right\n",
    "pos_role_dict = {}\n",
    "for position, role in zip(positions['player_pos_y'], positions['role_y']):\n",
    "    pos_role_dict[position] = role"
   ],
   "id": "7bf2c5d6defdd98b"
  },
  {
   "metadata": {
    "ExecuteTime": {
     "end_time": "2025-05-22T16:48:00.596042Z",
     "start_time": "2025-05-22T16:48:00.591363Z"
    }
   },
   "cell_type": "code",
   "source": [
    "# map player position numbers and map to role\n",
    "player_role_dict = {player: pos_role_dict.get(int(position), 'Unknown') for player, position in player_position_dict.items()}"
   ],
   "id": "6c7f8a469c3c6940",
   "outputs": [
    {
     "data": {
      "text/plain": [
       "({'Carlos Kameni': 'GK',\n",
       "  'Cristian Alvarez': 'GK',\n",
       "  'Francisco Casilla': 'GK',\n",
       "  'Pau Sabata': 'GK',\n",
       "  'Giedrius Arlauskis': 'GK',\n",
       "  'Sergio Sanchez': 'BK',\n",
       "  'Steve Finnan': 'BK',\n",
       "  'Francisco Chica': 'BK',\n",
       "  'Ivan Pillud': 'BK',\n",
       "  'Facundo Sebastian Roncaglia': 'BK',\n",
       "  'Jordi Amat': 'BK',\n",
       "  'Javi Lopez': 'MF',\n",
       "  'Ernesto Galan': 'BK',\n",
       "  'Victor Sanchez Mata': 'MF',\n",
       "  'Raul Rodriguez': 'MF',\n",
       "  'Felipe Mattioni Rohde': 'BK',\n",
       "  'Anaitz Arbilla': 'MF',\n",
       "  'Alvaro Gonzalez Soberon': 'BK',\n",
       "  'Roberto Correa': 'BK',\n",
       "  'Daniel Jarque': 'BK',\n",
       "  'Marc Torrejon Moya': 'BK',\n",
       "  'Nicolas Pareja': 'BK',\n",
       "  'Victor Ruiz': 'BK',\n",
       "  'Hurtado Perez Moises': 'MF',\n",
       "  'Juan Forlin': 'MF',\n",
       "  'Hector Moreno': 'BK',\n",
       "  'Diego Daniel Colotto': 'BK',\n",
       "  'Sidnei': 'BK',\n",
       "  'Enzo Roco': 'BK',\n",
       "  'Didac Vila': 'BK',\n",
       "  'Eric Bertrand Bailly': 'BK',\n",
       "  'Michael Ciani': 'BK',\n",
       "  'Oscar Duarte': 'MF',\n",
       "  'Gregory Beranger': 'BK',\n",
       "  'David Garcia': 'BK',\n",
       "  'Victor Alvarez': 'MF',\n",
       "  'Joan Capdevila': 'BK',\n",
       "  'Juan Rafael Fuentes': 'BK',\n",
       "  'Ruben Duarte': 'BK',\n",
       "  'Roman Martinez': 'MF',\n",
       "  'Angel Cervara': 'MF',\n",
       "  'Milan Smiljanic': 'MF',\n",
       "  'Jose Maria Callejon': 'FW',\n",
       "  'Ferran Corominas': 'MF',\n",
       "  'Luis Garcia': 'FW',\n",
       "  'Ivan de la Pena': 'MF',\n",
       "  'Joan Verdu': 'MF',\n",
       "  'Jose Raul Baena': 'MF',\n",
       "  'Shunsuke Nakamura': 'MF',\n",
       "  'Javi Moreno Marquez': 'MF',\n",
       "  'Aldo Pedro Duscher': 'MF',\n",
       "  'Romaric': 'MF',\n",
       "  'Cristian Stuani': 'FW',\n",
       "  'David Lopez': 'MF',\n",
       "  'Lucas Vazquez': 'MF',\n",
       "  'Jose Canas': 'MF',\n",
       "  'Salva Sevilla': 'MF',\n",
       "  'Pape Kouli Diop': 'MF',\n",
       "  'Joan Jordan': 'MF',\n",
       "  'Marco Asensio': 'FW',\n",
       "  'Abraham Gonzalez': 'MF',\n",
       "  'Christian Gomez': 'MF',\n",
       "  'Hernan Perez': 'FW',\n",
       "  'Francisco Rufete': 'MF',\n",
       "  'Fernando Marquez': 'MF',\n",
       "  'Sergio Garcia': 'FW',\n",
       "  'Vladimir Weiss': 'MF',\n",
       "  'Rui Fonte': 'FW',\n",
       "  'Thievy Bifouma': 'FW',\n",
       "  'Philippe Coutinho': 'MF',\n",
       "  'Christian Alfonso': 'MF',\n",
       "  'Wakaso Mubarak': 'MF',\n",
       "  'Juan Albin': 'MF',\n",
       "  'Samuele Longo': 'FW',\n",
       "  'Pizzi': 'MF',\n",
       "  'Manu Lanzarote': 'FW',\n",
       "  'Paco Montanes': 'MF',\n",
       "  'Gerard Moreno': 'FW',\n",
       "  'Valdo': 'FW',\n",
       "  'Nene': 'MF',\n",
       "  'Ivan Alonso': 'FW',\n",
       "  'Alvaro Vazquez': 'FW',\n",
       "  'Alex Fernandez': 'MF',\n",
       "  'Simao': 'FW',\n",
       "  'Raul Tamudo': 'FW',\n",
       "  'Ben Sahar': 'MF',\n",
       "  'Jesus Datolo': 'MF',\n",
       "  'Jhon Cordoba': 'FW',\n",
       "  'Gabriel Torje': 'FW',\n",
       "  'Felipe Caicedo': 'FW',\n",
       "  'Burgui': 'FW',\n",
       "  'Pablo Osvaldo': 'FW',\n",
       "  'Kalu Uche': 'FW'},\n",
       " 93)"
      ]
     },
     "execution_count": 71,
     "metadata": {},
     "output_type": "execute_result"
    }
   ],
   "execution_count": 71
  },
  {
   "metadata": {
    "ExecuteTime": {
     "end_time": "2025-05-22T16:51:24.023364Z",
     "start_time": "2025-05-22T16:51:24.017199Z"
    }
   },
   "cell_type": "code",
   "source": [
    "# sort player names per rol on the soccer pitch\n",
    "roles = defaultdict(list)\n",
    "for player, role in player_role_dict.items():\n",
    "    roles[role].append(player)\n",
    "\n",
    "unique_roles = sorted(roles.keys())\n",
    "role_counts = {role: len(players) for role, players in roles.items()}\n",
    "\n",
    "gk_player_names = roles['GK']\n",
    "bk_player_names = roles['BK']\n",
    "mf_player_names = roles['MF']\n",
    "fw_player_names = roles['FW']"
   ],
   "id": "de3d657404c05df0",
   "outputs": [],
   "execution_count": 72
  },
  {
   "metadata": {
    "ExecuteTime": {
     "end_time": "2025-05-22T17:16:25.470320Z",
     "start_time": "2025-05-22T17:16:25.442674Z"
    }
   },
   "cell_type": "code",
   "source": [
    "# initalize dataframes to base the heatmaps on\n",
    "\n",
    "bk_players = rcde_player_atts[rcde_player_atts['player_name'].isin(bk_player_names)]\n",
    "mf_players = rcde_player_atts[rcde_player_atts['player_name'].isin(mf_player_names)]\n",
    "fw_players = rcde_player_atts[rcde_player_atts['player_name'].isin(fw_player_names)]"
   ],
   "id": "547b4e86da173487",
   "outputs": [],
   "execution_count": 88
  },
  {
   "metadata": {
    "ExecuteTime": {
     "end_time": "2025-05-22T15:14:28.499797Z",
     "start_time": "2025-05-22T15:14:28.494015Z"
    }
   },
   "cell_type": "code",
   "source": "rcde_players = players[players['player_name'].isin(unique_rcde_names)]",
   "id": "13035af71060455b",
   "outputs": [],
   "execution_count": 44
  },
  {
   "metadata": {
    "ExecuteTime": {
     "end_time": "2025-05-22T17:13:22.119139Z",
     "start_time": "2025-05-22T17:13:22.115219Z"
    }
   },
   "cell_type": "code",
   "outputs": [
    {
     "data": {
      "text/plain": [
       "101"
      ]
     },
     "execution_count": 85,
     "metadata": {},
     "output_type": "execute_result"
    }
   ],
   "execution_count": 85,
   "source": "# retain only gk attributes here for GKs and remove gk attributes for non-GK players\n",
   "id": "bac28342edca7b47"
  },
  {
   "cell_type": "code",
   "source": [
    "# reorder columns in all dfs\n",
    "\n",
    "cols = rcde_player_atts.columns.tolist()\n",
    "cols_to_move = ['player_name', 'potential_rating_ratio']\n",
    "target_col = 'player_api_id'\n",
    "\n",
    "for i in cols_to_move:\n",
    "    cols.remove(i)\n",
    "cols.insert(cols.index(target_col) + 1, cols_to_move[0])\n",
    "cols.insert(cols.index(target_col) + 2, cols_to_move[1])\n",
    "\n",
    "rcde_player_atts = rcde_player_atts[cols]"
   ],
   "metadata": {
    "collapsed": false,
    "ExecuteTime": {
     "end_time": "2025-05-22T17:21:48.483828Z",
     "start_time": "2025-05-22T17:21:48.474014Z"
    }
   },
   "id": "b4ef27e2461eaa0a",
   "outputs": [],
   "execution_count": 92
  },
  {
   "cell_type": "code",
   "source": [
    "rcde_player_atts.sort_values('potential_rating_ratio', ascending=False, inplace=True)"
   ],
   "metadata": {
    "collapsed": false,
    "ExecuteTime": {
     "end_time": "2025-05-22T17:21:50.187591Z",
     "start_time": "2025-05-22T17:21:50.184048Z"
    }
   },
   "id": "4a95965d4ed54fe6",
   "outputs": [],
   "execution_count": 93
  },
  {
   "metadata": {
    "ExecuteTime": {
     "end_time": "2025-05-22T17:27:28.012272Z",
     "start_time": "2025-05-22T17:27:27.855746Z"
    }
   },
   "cell_type": "code",
   "source": "pio.renderers.default = \"notebook_connected\"",
   "id": "f5c173b7a1eb39f6",
   "outputs": [],
   "execution_count": 98
  },
  {
   "metadata": {
    "ExecuteTime": {
     "end_time": "2025-05-22T17:32:27.363891Z",
     "start_time": "2025-05-22T17:32:27.359803Z"
    }
   },
   "cell_type": "code",
   "source": [
    "def create_heatmap(df):\n",
    "    disposable_cols = ['player_api_id', 'player_fifa_api_id', 'date', 'id',\n",
    "                       'gk_diving', 'gk_kicking', 'gk_handling', 'gk_positioning', 'gk_reflexes']\n",
    "    attribute_cols = df.select_dtypes(include='number').columns.difference(disposable_cols + ['potential_rating_ratio']).tolist()\n",
    "    attribute_cols = ['potential_rating_ratio'] + attribute_cols\n",
    "\n",
    "    pivot_df = df.pivot_table(index=None, columns='player_name', values=attribute_cols, aggfunc='mean')\n",
    "    pivot_df = pivot_df.T\n",
    "    pio.renderers.default = \"notebook_connected\"\n",
    "\n",
    "    fig = go.Figure(\n",
    "        data=go.Heatmap(\n",
    "            z=pivot_df.values,\n",
    "            x=pivot_df.columns,\n",
    "            y=pivot_df.index,\n",
    "            colorscale='Greens',\n",
    "            colorbar=dict(title='Attribute Value'),\n",
    "            hovertemplate='Player: %{x}<br>Attribute: %{y}<br>Value: %{z}<extra></extra>'\n",
    "        )\n",
    "    )\n",
    "\n",
    "    # Layout adjustments\n",
    "    fig.update_layout(\n",
    "        xaxis=dict(title='Attributes', tickangle=45),\n",
    "        yaxis=dict(title='Player Names'),\n",
    "        autosize=True,\n",
    "        height=600,\n",
    "        width=1200\n",
    "    )\n",
    "\n",
    "    fig.show()\n"
   ],
   "id": "629d20ead6186b28",
   "outputs": [],
   "execution_count": 104
  },
  {
   "metadata": {
    "ExecuteTime": {
     "end_time": "2025-05-22T17:32:30.216053Z",
     "start_time": "2025-05-22T17:32:30.195455Z"
    }
   },
   "cell_type": "code",
   "source": [
    "# for midfield\n",
    "create_heatmap(mf_players)"
   ],
   "id": "60ad9d6963fbce80",
   "outputs": [
    {
     "data": {
      "text/html": [
       "        <script type=\"text/javascript\">\n",
       "        window.PlotlyConfig = {MathJaxConfig: 'local'};\n",
       "        if (window.MathJax && window.MathJax.Hub && window.MathJax.Hub.Config) {window.MathJax.Hub.Config({SVG: {font: \"STIX-Web\"}});}\n",
       "        </script>\n",
       "        <script type=\"module\">import \"https://cdn.plot.ly/plotly-3.0.1.min\"</script>\n",
       "        "
      ]
     },
     "metadata": {},
     "output_type": "display_data"
    },
    {
     "data": {
      "text/html": [
       "<div>            <script src=\"https://cdnjs.cloudflare.com/ajax/libs/mathjax/2.7.5/MathJax.js?config=TeX-AMS-MML_SVG\"></script><script type=\"text/javascript\">if (window.MathJax && window.MathJax.Hub && window.MathJax.Hub.Config) {window.MathJax.Hub.Config({SVG: {font: \"STIX-Web\"}});}</script>                <script type=\"text/javascript\">window.PlotlyConfig = {MathJaxConfig: 'local'};</script>\n",
       "        <script charset=\"utf-8\" src=\"https://cdn.plot.ly/plotly-3.0.1.min.js\"></script>                <div id=\"6ec65e7a-042a-4ba9-9d85-3ad68775f5c4\" class=\"plotly-graph-div\" style=\"height:600px; width:1200px;\"></div>            <script type=\"text/javascript\">                window.PLOTLYENV=window.PLOTLYENV || {};                                if (document.getElementById(\"6ec65e7a-042a-4ba9-9d85-3ad68775f5c4\")) {                    Plotly.newPlot(                        \"6ec65e7a-042a-4ba9-9d85-3ad68775f5c4\",                        [{\"colorbar\":{\"title\":{\"text\":\"Attribute Value\"}},\"colorscale\":[[0.0,\"rgb(247,252,245)\"],[0.125,\"rgb(229,245,224)\"],[0.25,\"rgb(199,233,192)\"],[0.375,\"rgb(161,217,155)\"],[0.5,\"rgb(116,196,118)\"],[0.625,\"rgb(65,171,93)\"],[0.75,\"rgb(35,139,69)\"],[0.875,\"rgb(0,109,44)\"],[1.0,\"rgb(0,68,27)\"]],\"hovertemplate\":\"Player: %{x}\\u003cbr\\u003eAttribute: %{y}\\u003cbr\\u003eValue: %{z}\\u003cextra\\u003e\\u003c\\u002fextra\\u003e\",\"x\":[\"acceleration\",\"aggression\",\"agility\",\"balance\",\"ball_control\",\"crossing\",\"curve\",\"dribbling\",\"finishing\",\"free_kick_accuracy\",\"heading_accuracy\",\"interceptions\",\"jumping\",\"long_passing\",\"long_shots\",\"marking\",\"overall_rating\",\"penalties\",\"positioning\",\"potential\",\"potential_rating_ratio\",\"reactions\",\"short_passing\",\"shot_power\",\"sliding_tackle\",\"sprint_speed\",\"stamina\",\"standing_tackle\",\"strength\",\"vision\",\"volleys\"],\"y\":[\"Abraham Gonzalez\",\"Aldo Pedro Duscher\",\"Alex Fernandez\",\"Anaitz Arbilla\",\"Angel Cervara\",\"Ben Sahar\",\"Christian Alfonso\",\"Christian Gomez\",\"David Lopez\",\"Fernando Marquez\",\"Ferran Corominas\",\"Francisco Rufete\",\"Hurtado Perez Moises\",\"Ivan de la Pena\",\"Javi Lopez\",\"Javi Moreno Marquez\",\"Jesus Datolo\",\"Joan Jordan\",\"Joan Verdu\",\"Jose Canas\",\"Jose Raul Baena\",\"Juan Albin\",\"Juan Forlin\",\"Lucas Vazquez\",\"Milan Smiljanic\",\"Nene\",\"Oscar Duarte\",\"Paco Montanes\",\"Pape Kouli Diop\",\"Philippe Coutinho\",\"Pizzi\",\"Raul Rodriguez\",\"Roman Martinez\",\"Romaric\",\"Salva Sevilla\",\"Shunsuke Nakamura\",\"Victor Alvarez\",\"Victor Sanchez Mata\",\"Vladimir Weiss\",\"Wakaso Mubarak\"],\"z\":{\"dtype\":\"f8\",\"bdata\":\"mpmZmZmZS0AK16NwPQpNQDMzMzMzs05AzczMzMxMTkDXo3A9ChdRQHE9CtejcFBAhetRuB6FU0AfhetRuJ5NQHsUrkfhekxAj8L1KFxPUUCuR+F6FC5HQEjhehSuR0tAUrgehetRQ0ApXI\\u002fC9WhTQHsUrkfhulFA9ihcj8L1SUAK16NwPQpRQOF6FK5HYU5AMzMzMzOzT0B7FK5H4XpRQG1Z42XurVlAKVyPwvUoT0CamZmZmVlTQIXrUbgehVJAZmZmZmbmR0AfhetRuB5LQEjhehSuB1FA7FG4HoXrTEAAAAAAAIBOQFyPwvUoHFJAzczMzMxMSECSJEmSJAlRQJIkSZIkyVZAAAAAAAAAUEAAAAAAAABUQNu2bdu2LVFAJUmSJEmSTkAAAAAAAIBPQNu2bdu2rVBAt23btm1bS0Bu27Zt23ZQQAAAAAAAQFBAt23btm0bU0AAAAAAAIBQQLdt27ZtW05AkiRJkiSJUkDbtm3bti1UQJIkSZIkyVJAJUmSJElSUkBJkiRJkmRQQAAAAAAAgFRAraCMaPVJW0C3bdu2bZtSQNu2bdu27VFA27Zt27btUUCSJEmSJElUQNu2bdu27VBAJUmSJElSU0Dbtm3btm1VQG7btm3bdlRAAAAAAACAUUAAAAAAAIBNQFFeQ3kN5U1ADeU1lNfQT0DKayivoXxQQCivobyG8lBAlNdQXkP5UUBRXkN5DSVRQHkN5TWUl1JAr6G8hvJaUEC9hvIaymtJQBvKayivIVJAAAAAAACAQ0Abymsor6FNQNhQXkN5jU1AG8prKK9hU0AAAAAAAABRQL2G8hrKa0VA5TWU11CeUUAbymsor6FQQJTXUF5DuVBAQ3kN5TWUU0DR\\u002fnJYtupbQBvKayiv4VBADeU1lNeQU0DYUF5DeY1OQKK8hvIaykVA2FBeQ3mNTEAbymsor2FRQAAAAAAAgE9AAAAAAACATUBsKK+hvIZSQAAAAAAAgEZAAAAAAAA4UUAAAAAAAKxTQAAAAAAA8E1AAAAAAABIUUAAAAAAAJBQQAAAAAAAuFFAAAAAAABQS0AAAAAAADBMQAAAAAAAgDpAAAAAAAAQTUAAAAAAAPhOQAAAAAAACFFAAAAAAAAQU0AAAAAAABhMQAAAAAAAmEhAAAAAAABEUEAAAAAAADBRQAAAAAAAOEdAAAAAAACYR0AAAAAAAARSQDsTrUyAP1pAAAAAAACsUEAAAAAAAGBNQAAAAAAAEFJAAAAAAABwUEAAAAAAAOxSQAAAAAAA5FNAAAAAAAD0UUAAAAAAAKRTQAAAAAAA2EtAAAAAAACYQEBmZmZmZiZQQDMzMzMzs0lAMzMzMzOTUUAzMzMzMwNRQAAAAAAAMFFAAAAAAABAS0AAAAAAAEBLQJqZmZmZuU9AmpmZmZmZSEAzMzMzM3NMQM3MzMzMjEdAAAAAAACATEDNzMzMzGxLQJqZmZmZqVBAAAAAAABATEAzMzMzM9NJQDMzMzMzA1BAmpmZmZlZSkAzMzMzM3NNQGZmZmZm1lBAE4fl8LVnWkAzMzMzM7NPQDMzMzMzc1FAzczMzMyMS0CamZmZmXlKQDMzMzMzU1FAzczMzMysT0DNzMzMzCxNQDMzMzMzE1BAzczMzMysUEBmZmZmZqZLQDMzMzMzM1VAZmZmZmbmQUAzMzMzM+NTQAAAAAAAgFFAmpmZmZlJUkAzMzMzM\\u002fNLQJqZmZmZWVJAZmZmZmYmUkAzMzMzMyNSQGZmZmZmZktAZmZmZmbmT0AAAAAAAAA6QAAAAAAAgE1AzczMzMyMREAzMzMzMxNRQGZmZmZmJjBAAAAAAABwUUDNzMzMzKxMQJqZmZmZeVBAMzMzMzMzU0Bzgv5\\u002ffY1bQJqZmZmZWVBAmpmZmZl5T0AzMzMzM9NRQM3MzMzMjDVAzczMzMxsU0BmZmZmZkZKQJqZmZmZGThAzczMzMwsUECamZmZmZlMQGZmZmZmhklADeU1lNdQU0AAAAAAAABGQJTXUF5DeVNAAAAAAABAUEBRXkN5DeVRQAAAAAAAgExAXkN5DeX1UEDKayivobxSQCivobyG8k5AAAAAAACARUCH8hrKayg\\u002fQAAAAAAAADtAKK+hvIZyT0CvobyG8hpPQAAAAAAAgE1AAAAAAAAAQkAAAAAAAIBQQBvKayivIURAvYbyGsrrUEAbymsor2FSQCMTvlxg3ltA8xrKaygvT0AAAAAAAIBQQCivobyGcklAAAAAAACAQEAN5TWU15BRQIfyGsprKEtAAAAAAACAQUDlNZTXUF5LQOU1lNdQ3kxAAAAAAACARkDi4eHh4eFMQAAAAAAAQFBA8fDw8PDwT0AAAAAAAABMQPHw8PDwMFFAAAAAAAAAR0A8PDw8PLxOQLW0tLS0tEpAAAAAAAAASkAPDw8PD49MQAAAAAAAgEdAAAAAAAAAT0AAAAAAAMBQQEtLS0tLi1FAS0tLS0uLUEBpaWlpaWlDQFpaWlpamlBAAAAAAACAS0CXlpaWlhZOQIiHh4eHB1JAzB7fvnQgW0AAAAAAAABQQGlpaWlpKVJA4uHh4eGhU0DT0tLS0lJIQAAAAAAAgE5ALS0tLS2tUkDi4eHh4WFMQAAAAAAAQFBAxMPDw8PDUUAAAAAAAABHQBERERERsU9AMzMzMzOzTUAAAAAAAABQQCIiIiIiMlBA3t3d3d29UUBmZmZmZqZQQBEREREREVFAMzMzMzNzUEC8u7u7u\\u002ftNQERERERE1FBA7+7u7u6uSUDv7u7u7s5MQLy7u7u7W0xA7+7u7u5eUUARERERESFRQKuqqqqqCkhAzczMzMy8UUAAAAAAAEBQQEREREREZFBA7+7u7u5OUkCiWMsoidVZQKuqqqqq6lBA7+7u7u6+UUBERERERHRSQCIiIiIiokZAiYiIiIiIUEDNzMzMzOxQQFVVVVVVtUxAVVVVVVUVUUB3d3d3d3dQQM3MzMzMrExAh\\u002fIaymuoUkDzGsprKK9FQGwor6G8RlJADeU1lNdQT0AN5TWU1xBRQIfyGsprKERAh\\u002fIaymsoREDYUF5DeU1RQL2G8hrKq1BAh\\u002fIaymsoQEDzGsprKK9QQBvKayivoTZAG8prKK9hUUDzGsprKC9OQMprKK+h\\u002fFBAoryG8hrKNkBDeQ3lNdRQQGwor6G8xlBAAAAAAACAT0CH8hrKayhRQKWtSX5ufllAvYbyGsprUEBDeQ3lNZRQQPMaymsor1FADeU1lNdQNUA2lNdQXkNTQF5DeQ3ldVJADeU1lNdQNUAAAAAAAABRQIfyGsprqE9Aymsor6G8SkApXI\\u002fC9ShTQGZmZmZmZkxAw\\u002fUoXI+CVEAAAAAAAIBTQKRwPQrXI1NAXI\\u002fC9ShcUEA9CtejcH1RQB+F61G4nlJAcT0K16OwUUCPwvUoXA9QQJqZmZmZmUxAuB6F61G4REAzMzMzM7NRQEjhehSux0lAAAAAAABAUUDhehSuR+E7QHE9CtejMFJAw\\u002fUoXI+CUUApXI\\u002fC9ShUQM3MzMzMzFJAeJSfSDPYWUBcj8L1KFxUQArXo3A9SlBAZmZmZmbmT0BxPQrXo\\u002fBAQB+F61G4HlNAXI\\u002fC9SicVEC4HoXrUbg\\u002fQAAAAAAAAE5Aj8L1KFyPUkDhehSuR+FOQAAAAAAAWFFAAAAAAABwTkAAAAAAAABMQAAAAAAA4FBAAAAAAACgUUAAAAAAAAhTQAAAAAAAuFJAAAAAAACAU0AAAAAAAEBRQAAAAAAA0FBAAAAAAABgUEAAAAAAAChQQAAAAAAA8ElAAAAAAAD4UUAAAAAAABhQQAAAAAAAUEdAAAAAAAAAUkAAAAAAAGBRQAAAAAAA4FFAAAAAAAAoU0Ds3TCpkJtaQAAAAAAAkFBAAAAAAADYUkAAAAAAANBQQAAAAAAA8EdAAAAAAADgUUAAAAAAALBLQAAAAAAAIEdAAAAAAACgUEAAAAAAAHhRQAAAAAAA8E1Abtu2bdv2RkCSJEmSJGlTQEmSJEmSJENAkiRJkiRJUECSJEmSJIlQQJIkSZIkSUVASZIkSZKkS0BJkiRJkqRLQNu2bdu2LUZAAAAAAADATEAlSZIkSZJNQAAAAAAA4FNA27Zt27YtSUC3bdu2bZtPQLdt27ZtG0VAbtu2bdu2UEBJkiRJkqRRQCVJkiRJkkpAt23btm2bTEC3bdu2bdtRQC9P29ssSVlAAAAAAACgUUDbtm3btk1RQCVJkiRJkkxAbtu2bdt2UEAAAAAAAABJQNu2bdu2LVFA27Zt27aNU0AAAAAAAMBVQEmSJEmSxFBAAAAAAAAAQ0AAAAAAAIhRQAAAAAAAQFBAAAAAAAAATkAAAAAAAFBRQAAAAAAAaFVAAAAAAADgVUAAAAAAAEBVQAAAAAAAaFNAAAAAAAAAUUAAAAAAADBVQAAAAAAAQEBAAAAAAAAQVEAAAAAAAIBJQAAAAAAAqFZAAAAAAACoUkAAAAAAACBBQAAAAAAA4FNAAAAAAADAUkAAAAAAADhTQAAAAAAAAFZAuJHIv8q4W0AAAAAAADBSQAAAAAAA0FZAAAAAAABYUkAAAAAAAABIQAAAAAAACFJAAAAAAAAQT0AAAAAAAGBJQAAAAAAAGFFAAAAAAAC4VkAAAAAAAMhQQC1kIQtZiFJAIQtZyEKWUEAWspCFLKRRQJGFLGQhC1FApze96U2vUUBDFrKQhSxRQOpNb3rTW1BAyEIWspAFUUBOb3rTm15KQHrTm970JkpAAAAAAAAASUA4velNb\\u002fpPQEMWspCFLFFA6k1vetMbTEAtZCELWUhGQDi96U1v+klAAAAAAABAUUDqTW9605tLQE5vetObXk5ALWQhC1kIUkBnRY2CtjVaQL3pTW96U1JA05ve9KY3T0A4velNb\\u002fpKQDi96U1vek1ALWQhC1kIU0CykIUsZCFTQG9605ve9EpATm9605seUECykIUsZCFOQIYsZCEL2UhAq6qqqqoqUECSJEmSJElNQNu2bdu2bVFA6Hme53neUUC3bdu2bdtSQEmSJEmSJFBAGIZhGIbhUkDbtm3btu1QQG7btm3bNk9At23btm3bUECe53me5\\u002flHQPQ8z\\u002fM8T09Abtu2bds2TUD0PM\\u002fzPA9UQEmSJEmSpFJAnud5nuf5SUAYhmEYhqFRQD3P8zzPs1BAMQzDMAxDT0Bu27Zt23ZSQJQrkxKCQVpAbtu2bdu2UUAxDMMwDENTQM\\u002fzPM\\u002fzfFRAMQzDMAxDSkB6nud5nmdPQCVJkiRJkk5Aq6qqqqoqTUDbtm3bti1QQJ7neZ7nuVNAJUmSJEmSUEBddNFFFz1TQAAAAAAAgEZAAAAAAABAVEDRRRdddBFTQC+66KKLDlRAo4suuujCUkAAAAAAAABVQOmiiy666FNAAAAAAACAUEBGF1100QVTQF100UUXHUpAAAAAAADATEAXXXTRRVdNQIwuuuiiq1FAuuiiiy46UkCjiy666GJFQOmiiy66yFJAF1100UW3UUBGF1100YVRQIwuuuiiK1NA2liD9NOEWUBddNFFF71RQC+66KKLjlFAAAAAAACAUkAAAAAAAABHQEYXXXTRpVJA0UUXXXTxUUBddNFFF11JQHTRRRddtE5AXXTRRRfdUUC66KKLLrpQQAAAAAAAgE9AkiRJkiTJTEAlSZIkSRJQQAAAAAAAAFBASZIkSZIkUECSJEmSJElJQJIkSZIkSUVA27Zt27btSkBJkiRJkqRGQJIkSZIkSUhAAAAAAAAARkAlSZIkSZJLQEmSJEmSpEtA27Zt27btT0Dbtm3btm1IQLdt27Zt20VAkiRJkiTJTkBu27Zt2zZMQCVJkiRJEktASZIkSZKkUUDY2njIV7tcQLdt27ZtW0xAbtu2bdu2UUBu27Zt2zZPQNu2bdu27UlASZIkSZKkT0Bu27Zt27ZQQAAAAAAAAE5At23btm1bTEAAAAAAAABQQJIkSZIkyUVAjC666KIrUUBddNFFFx1OQAAAAAAAoFFAjC666KILUkDpoosuuohTQLrooosuelFA0UUXXXTRU0DRRRdddDFTQF100UUXXVFA6aKLLrpoU0DRRRdddBFLQC+66KKLLkpAAAAAAAAATECjiy666OJTQAAAAAAAgFJARhdddNGFREDRRRdddDFTQNFFF110cVFARhdddNElU0BGF1100cVTQGElVd\\u002fqyllAXXTRRRddUUAXXXTRRZdUQC+66KKLrlJA0UUXXXQRRECjiy666CJQQLrooosuOk5ARhdddNGFR0C66KKLLnpNQNFFF1100VRAXXTRRRedT0CamZmZmXlQQDMzMzMzY1NAZmZmZmZmTEDNzMzMzFxRQJqZmZmZmU9AzczMzMxsSkBmZmZmZsZGQJqZmZmZuUVAMzMzMzMTQUAzMzMzM7NKQDMzMzMzc0dAmpmZmZmZU0AAAAAAAOBQQGZmZmZmJlFAzczMzMysR0CamZmZmSlRQAAAAAAAMFJAAAAAAACgR0AAAAAAAOBLQGZmZmZmplJAyuue+aiqWUBmZmZmZmZSQGZmZmZmhlJAAAAAAABgREDNzMzMzJxRQM3MzMzMTFBAMzMzMzPjU0CamZmZmclTQGZmZmZmhlFAmpmZmZnJUUBmZmZmZiY6QEmSJEmSZFBAnud5nue5VEBVVVVVVdVNQHqe53me505AYhiGYRjGUECSJEmSJElMQJIkSZIkSU5A9DzP8zxPTkCe53me53lGQPQ8z\\u002fM8z0tAbtu2bds2TkAMwzAMw7BTQCVJkiRJklJA6Hme53neUEDDMAzDMIxLQAzDMAzDcFBASZIkSZJkUkAYhmEYhmFLQIZhGIZhGE1AAAAAAACAU0DOCswElJZaQG7btm3btlNAMQzDMAwDU0B6nud5nqdQQHqe53mep1FA6Hme53meTED0PM\\u002fzPA9TQFVVVVVVFVNADMMwDMNwUkA9z\\u002fM8z\\u002fNQQJIkSZIkSUdAhixkIQuZU0ALWchCFrJNQGQhC1nIwlNApze96U2vUUBZyEIWspBTQNOb3vSmd1BAkYUsZCELU0AAAAAAAMBSQKc3velNb1BAFrKQhSykUkCykIUsZKFJQL3pTW9600RAspCFLGRhUEBkIQtZyMJQQE5vetObXlJAZCELWchCQkBvetOb3jRSQBaykIUs5FBAWchCFrKQUUCRhSxkIYtSQC7SSJpLc1lAC1nIQhZyUkAtZCELWQhSQKc3velNL1JA6k1vetMbRkDf9KY3velSQNOb3vSmd1BAspCFLGQhSUB605ve9CZQQCELWchCllFAetOb3vQmR0AXXXTRRRdQQIwuuuiiC1JA0UUXXXRRUEAvuuiii65RQOmiiy66qFBA0UUXXXSRR0AAAAAAAIBJQAAAAAAAQEVAo4suuuiiQEAAAAAAAABDQLrooosuWlFAXXTRRRf9UEC66KKLLjpUQF100UUXHU9ARhdddNFFK0BddNFFF31SQNFFF110MVJAXXTRRRddSUBddNFFF91FQF100UUXXVNAAL7+AvnhWkB00UUXXVRRQEYXXXTRJVFAuuiiiy46TEDpoosuuohTQHTRRRdd9FBAjC666KKLUkAXXXTRRbdSQEYXXXTRxVFAF1100UV3UEAAAAAAAABEQGwor6G8BlVA8xrKayivSkCU11BeQ3lSQF5DeQ3ldVJAvYbyGsorUUA2lNdQXsNRQFFeQ3kNZVBAbCivobwGUkBsKK+hvMZQQNhQXkN5zVBAymsor6E8SEAbymsor6E5QA3lNZTX0FBAoryG8hrKTUBRXkN5DWVOQOU1lNdQXjZANpTXUF6DUUDzGsprKK9LQCivobyGclJA2FBeQ3nNUkCpth+f\\u002fdhaQPMaymsoL1NAoryG8hrKUEB5DeU1lNdNQNhQXkN5DTZA2FBeQ3nNU0AAAAAAAABRQF5DeQ3lNT1ADeU1lNfQSkCivIbyGkpNQHkN5TWU10RA27Zt27atUUAAAAAAAIBNQAAAAAAAgExAAAAAAAAASUAlSZIkSRJPQCVJkiRJElBAAAAAAAAATkBu27Zt27ZRQCVJkiRJElBAAAAAAAAAUEBJkiRJkqRPQNu2bdu2bUxAAAAAAACAR0AAAAAAAEBSQAAAAAAAAE9AAAAAAACAS0Dbtm3btq1QQAAAAAAAQFBA27Zt27ZtUEC3bdu2bRtRQH4ZrIHDpFlAJUmSJEmSUECSJEmSJAlSQAAAAAAAAE9AAAAAAACASEDbtm3bti1RQJIkSZIkSVFAt23btm1bSUBu27Zt27ZOQAAAAAAAgE5AAAAAAACATEDuiDvijjhRQBj0BX1B31FAv6Av6At6UUCtKWvKmjJQQFPWlDVljVJAcUfcEXdETEBNWVPWlHVRQBJ3xB1xR1FANmVNWVMWU0CtKWvKmjJQQDDoC\\u002fqCvlJAd8QdcUfcQED0BX1BXxBUQCTuiDvijktAfUFf0Bc0UEBH3BF3xB02QLOmrClrSlJAg76gL+jLUkBBX9AX9AVTQB5xR9wRt1JAkkBigTucWUC\\u002foC\\u002foC\\u002fpQQJU1ZU1ZE1FAHnFH3BE3UkAY9AV9QV85QCprypqyplFAypqypqypTUCzpqwpa8o7QMqasqasaVJAPOKOuCMuUUBf0Bf0BT1SQHIcx3Ecx09AchzHcRxnUkAcx3Ecx3FLQMdxHMdxHElAjuM4juN4S0A5juM4jqNDQHIcx3EcRztAchzHcRyHRkByHMdxHEc1QHIcx3EcRz9A5DiO4zguUkBVVVVVVTVQQBzHcRzHMVJAjuM4juO4SEByHMdxHEc3QOQ4juM4rlFAHMdxHMdxUUA5juM4jiNCQBzHcRzH8TpAjuM4juM4UkAAsJqENyZaQI7jOI7jmFBAchzHcRwHTEA5juM4jiNHQMdxHMdxXFFAq6qqqqpKUUDkOI7jOI5QQMdxHMdxHFJAOY7jOI5DU0Acx3Ecx7FDQHIcx3EcRz9AchzHcRxnVUAcx3Ecx\\u002fFHQFVVVVVVlVRAjuM4juPYU0CO4ziO41hSQMdxHMdxnE9AOY7jOI4DUkCO4ziO43hTQAAAAAAAgE5AAAAAAACATUDHcRzHcZxIQMdxHMdxnEJAjuM4juO4UUCrqqqqqupOQFVVVVVVVU9Ax3Ecx3EcQkByHMdxHOdRQMdxHMdxnE1AjuM4juPYUkByHMdxHKdSQPSsXtThEVpAx3Ecx3HcUUDkOI7jOC5RQMdxHMdx3FFAjuM4juM4NECrqqqqqqpUQBzHcRzHkVFAx3Ecx3GcQkBVVVVVVVVOQI7jOI7jWFBAx3Ecx3GcS0CH8hrKa6hQQF5DeQ3llVRA5TWU11AeUkCvobyG8npRQPMaymsor1FA5TWU11DeTEA2lNdQXkNRQHkN5TWUF09AAAAAAAAASkCH8hrKa2hQQL2G8hrKC1BA2FBeQ3ktVEDzGsprKK9UQHkN5TWUt1FAUV5DeQ3lT0Abymsor2FOQMprKK+hnFJAUV5DeQ3lTUAN5TWU11BNQL2G8hrKK1NAmGMx\\u002f\\u002f\\u002fSWUAor6G8htJSQL2G8hrKK1JAXkN5DeU1U0Aor6G8hlJSQHkN5TWUN1FANpTXUF7DU0A2lNdQXiNUQA3lNZTXEFVAKK+hvIbSUUDKayivoRxQQAAAAAAAklVAAAAAAACwQUAAAAAAAGpWQAAAAAAAYFVAAAAAAABGVUAAAAAAAIpSQAAAAAAAjlRAAAAAAABYVUAAAAAAAOxPQAAAAAAAGlJAAAAAAACAR0AAAAAAAJA\\u002fQAAAAAAAEE1AAAAAAABgUkAAAAAAAHhRQAAAAAAAKDhAAAAAAACIU0AAAAAAAGBPQAAAAAAA\\u002fFFAAAAAAACkVUBy+xJOfO1bQAAAAAAAzlFAAAAAAAA2VEAAAAAAAPpQQAAAAAAAREFAAAAAAADmUkAAAAAAACBQQAAAAAAAtEJAAAAAAAAUSUAAAAAAANhUQAAAAAAAtFJANmVNWVPWVEDoC\\u002fqCvqBNQKesKWvK2lNAWVPWlDWlVEAY9AV9Qd9TQKEv6Av6glJA6Av6gr6gU0C5I+6IO+JTQK0pa8qaclFAWVPWlDUlUkBrypqypixHQNwRd8QdcUhAcUfcEXeEUECPuCPuiLtRQEfcEXfEXVJAKmvKmrImQ0AY9AV9Qd9SQKesKWvKGlJA7og74o54UkBNWVPWlPVTQNyOm3mke1pAR9wRd8SdUkC5I+6IOyJSQKesKWvKmlJAp6wpa8qaSECJO+KOuGNTQCprypqyJlJA4o64I+6IR0C\\u002foC\\u002foC\\u002fpLQE1ZU9aUNVJAv6Av6Av6TkAPDw8PDw9PQOLh4eHhYVRADw8PDw+PTkA8PDw8PDxNQB4eHh4enktAHh4eHh4eSUAeHh4eHp5IQB4eHh4eHkJADw8PDw8PNEAeHh4eHh5HQAAAAAAAAE1AiIeHh4cHUUAtLS0tLa1SQB4eHh4enk9APDw8PDw8N0BLS0tLS0tSQKalpaWlpVFAHh4eHh6eSUA8PDw8PDw3QLW0tLS0tFJAcVjaxWmJWkAPDw8PD89SQJeWlpaWlk9APDw8PDw8PkB4eHh4eHhTQB4eHh4e3lBAS0tLS0sLUUCIh4eHh0dRQKalpaWlJVJA09LS0tLSR0DT0tLS0tIwQDmO4ziOw1JAx3Ecx3FcTkAAAAAAAABRQAAAAAAAgEtAx3Ecx3GcUUAcx3Ecx3FPQHIcx3EcR1JAx3Ecx3E8UkAcx3Ecx3FPQMdxHMdxHEtAAAAAAAAATkA5juM4jqNMQMdxHMdx3FBAchzHcRxHUUCrqqqqqgpRQAAAAAAAgEpAchzHcRwnUUAAAAAAAEBGQOQ4juM4LlFAAAAAAABgUUAEENMDEFNZQHIcx3EcR1FAOY7jOI5DUkCO4ziO45hSQI7jOI7juEpAchzHcRznUkAAAAAAAEBRQHIcx3Ech0tAVVVVVVWVU0A5juM4jkNSQHIcx3EcB1BAYid2Yid2T0AndmIndmJSQLETO7ETe0hAip3YiZ0YSkDsxE7sxG5TQIqd2ImduFNAJ3ZiJ3biVEAndmIndgJSQBQ7sRM70VBAFDuxEzsRVEAUO7ETO9FSQMVO7MROzFFAYid2Yif2SEAUO7ETO3FUQCd2Yid24lNAO7ETO7HTSkAUO7ETO7FSQBQ7sRM7UVNAJ3ZiJ3biUEDZiZ3YiX1TQGXikHj3DFpAsRM7sRP7TkB2Yid2YudUQLETO7ETm1VAO7ETO7ETUECKndiJnZhNQMVO7MRO7E1AFDuxEztRUkB2Yid2YgdUQCd2Yid2YlJAT+zETuwESUCSJEmSJGlNQLdt27Zt20xAt23btm07T0BJkiRJkoRQQJIkSZIkiVJAJUmSJEkyUUC3bdu2bTtTQJIkSZIkSVFAAAAAAACATkAAAAAAAEBSQAAAAAAAYExAbtu2bds2TkAlSZIkSTJNQG7btm3bplNAt23btm1rUkBu27Zt29ZGQNu2bdu2HVJAkiRJkiSpUUC3bdu2bbtQQG7btm3bhlJAn9bOjymYWUBu27Zt2wZSQG7btm3b5lNAkiRJkiR5U0BJkiRJksREQLdt27Zt+09AAAAAAAAgT0Bu27Zt23ZIQG7btm3bRlBAt23btm2bU0Dbtm3btm1NQM3MzMzMzFFAAAAAAAAAR0AAAAAAAAD4fwAAAAAAAPh\\u002fMzMzMzNzVUAAAAAAAIBVQAAAAAAAAPh\\u002fmpmZmZkZVUAzMzMzMzNRQDMzMzMz81VAmpmZmZmZP0BmZmZmZuZRQAAAAAAAAPh\\u002fAAAAAACAVEBmZmZmZiZVQGZmZmZmZjVAzczMzMxMVECamZmZmVlRQJqZmZmZ2VFAMzMzMzPzVECO0qiep9JZQDMzMzMzM01AzczMzMxMVUBmZmZmZuZUQAAAAAAAAPh\\u002fZmZmZmYmU0AAAAAAAIBTQM3MzMzMzEFAmpmZmZkZTEAAAAAAAAD4fwAAAAAAAPh\\u002fAAAAAADUUkAAAAAAAABQQAAAAAAAMFJAAAAAAADIUEAAAAAAACxRQAAAAAAAiFFAAAAAAACIUEAAAAAAAFBNQAAAAAAAMEBAAAAAAACQTEAAAAAAAMhJQAAAAAAAgFBAAAAAAAB8UEAAAAAAAAhMQAAAAAAAEExAAAAAAADsUEAAAAAAAGxQQAAAAAAAkEVAAAAAAADoSUAAAAAAAJhSQKAKTaumeFxAAAAAAADYT0AAAAAAANhNQAAAAAAAcEpAAAAAAABEUEAAAAAAAKBSQAAAAAAAJFJAAAAAAAD4T0AAAAAAABhPQAAAAAAAEExAAAAAAAAgP0DRRRdddLFQQHTRRRdddFFAuuiiiy56UkC66KKLLhpTQAAAAAAAgFJAdNFFF12UUEDpoosuuihRQHTRRRdddFBAdNFFF130SUCMLrroogtQQOmiiy66KElAAAAAAABgUEAAAAAAAABTQHTRRRddNFJAdNFFF100TUDpoosuuihNQOmiiy66yFFAo4suuujiTECjiy666IJQQLrooosu2lJAZ\\u002f4stRecWkAXXXTRRTdSQHTRRRddtFNAjC666KKLUEDpoosuuqhPQLrooosu2lFAjC666KIrUkDpoosuumhRQIwuuuiii05AjC666KJLU0AXXXTRRddJQIiHh4eHR1VAAAAAAAAATEA8PDw8PDxUQPHw8PDwcFNApqWlpaUlVEBpaWlpaelSQA8PDw8Pj1FAl5aWlpaWVEC1tLS0tDROQAAAAAAAQFFAPDw8PDy8TEBpaWlpaelCQA8PDw8PD09AS0tLS0vLT0CIh4eHh4dRQDw8PDw8PDdAeHh4eHj4UkC1tLS0tHRQQB4eHh4e3lFAiIeHh4eHVEAw59JgzhFbQDw8PDw8\\u002fFFAxMPDw8PDUUBaWlpaWtpTQIiHh4eHhzhAtbS0tLQ0VUDEw8PDw4NRQFpaWlpaWjlAHh4eHh4eTEDT0tLS0lJRQHh4eHh4OFBAuB6F61E4VUBI4XoUrsdVQAAAAAAAAFVAH4XrUbgeVUBcj8L1KFxQQClcj8L1qFBASOF6FK5HTEAfhetRuJ5PQPYoXI\\u002fCdUlAMzMzMzMzSEAzMzMzMzNFQMP1KFyPAlFASOF6FK6HVkBSuB6F61FQQM3MzMzMTExAMzMzMzOzSEC4HoXrUXhRQPYoXI\\u002fC9UVAKVyPwvWoT0CPwvUoXM9SQP3gCQFY+lpAuB6F61E4UUBSuB6F61FRQGZmZmZm5lNAAAAAAACAUED2KFyPwvVUQHsUrkfhulVArkfhehRuUUAfhetRuB5TQPYoXI\\u002fC9VBAXI\\u002fC9ShcUEA=\",\"shape\":\"40, 31\"},\"type\":\"heatmap\"}],                        {\"template\":{\"data\":{\"histogram2dcontour\":[{\"type\":\"histogram2dcontour\",\"colorbar\":{\"outlinewidth\":0,\"ticks\":\"\"},\"colorscale\":[[0.0,\"#0d0887\"],[0.1111111111111111,\"#46039f\"],[0.2222222222222222,\"#7201a8\"],[0.3333333333333333,\"#9c179e\"],[0.4444444444444444,\"#bd3786\"],[0.5555555555555556,\"#d8576b\"],[0.6666666666666666,\"#ed7953\"],[0.7777777777777778,\"#fb9f3a\"],[0.8888888888888888,\"#fdca26\"],[1.0,\"#f0f921\"]]}],\"choropleth\":[{\"type\":\"choropleth\",\"colorbar\":{\"outlinewidth\":0,\"ticks\":\"\"}}],\"histogram2d\":[{\"type\":\"histogram2d\",\"colorbar\":{\"outlinewidth\":0,\"ticks\":\"\"},\"colorscale\":[[0.0,\"#0d0887\"],[0.1111111111111111,\"#46039f\"],[0.2222222222222222,\"#7201a8\"],[0.3333333333333333,\"#9c179e\"],[0.4444444444444444,\"#bd3786\"],[0.5555555555555556,\"#d8576b\"],[0.6666666666666666,\"#ed7953\"],[0.7777777777777778,\"#fb9f3a\"],[0.8888888888888888,\"#fdca26\"],[1.0,\"#f0f921\"]]}],\"heatmap\":[{\"type\":\"heatmap\",\"colorbar\":{\"outlinewidth\":0,\"ticks\":\"\"},\"colorscale\":[[0.0,\"#0d0887\"],[0.1111111111111111,\"#46039f\"],[0.2222222222222222,\"#7201a8\"],[0.3333333333333333,\"#9c179e\"],[0.4444444444444444,\"#bd3786\"],[0.5555555555555556,\"#d8576b\"],[0.6666666666666666,\"#ed7953\"],[0.7777777777777778,\"#fb9f3a\"],[0.8888888888888888,\"#fdca26\"],[1.0,\"#f0f921\"]]}],\"contourcarpet\":[{\"type\":\"contourcarpet\",\"colorbar\":{\"outlinewidth\":0,\"ticks\":\"\"}}],\"contour\":[{\"type\":\"contour\",\"colorbar\":{\"outlinewidth\":0,\"ticks\":\"\"},\"colorscale\":[[0.0,\"#0d0887\"],[0.1111111111111111,\"#46039f\"],[0.2222222222222222,\"#7201a8\"],[0.3333333333333333,\"#9c179e\"],[0.4444444444444444,\"#bd3786\"],[0.5555555555555556,\"#d8576b\"],[0.6666666666666666,\"#ed7953\"],[0.7777777777777778,\"#fb9f3a\"],[0.8888888888888888,\"#fdca26\"],[1.0,\"#f0f921\"]]}],\"surface\":[{\"type\":\"surface\",\"colorbar\":{\"outlinewidth\":0,\"ticks\":\"\"},\"colorscale\":[[0.0,\"#0d0887\"],[0.1111111111111111,\"#46039f\"],[0.2222222222222222,\"#7201a8\"],[0.3333333333333333,\"#9c179e\"],[0.4444444444444444,\"#bd3786\"],[0.5555555555555556,\"#d8576b\"],[0.6666666666666666,\"#ed7953\"],[0.7777777777777778,\"#fb9f3a\"],[0.8888888888888888,\"#fdca26\"],[1.0,\"#f0f921\"]]}],\"mesh3d\":[{\"type\":\"mesh3d\",\"colorbar\":{\"outlinewidth\":0,\"ticks\":\"\"}}],\"scatter\":[{\"fillpattern\":{\"fillmode\":\"overlay\",\"size\":10,\"solidity\":0.2},\"type\":\"scatter\"}],\"parcoords\":[{\"type\":\"parcoords\",\"line\":{\"colorbar\":{\"outlinewidth\":0,\"ticks\":\"\"}}}],\"scatterpolargl\":[{\"type\":\"scatterpolargl\",\"marker\":{\"colorbar\":{\"outlinewidth\":0,\"ticks\":\"\"}}}],\"bar\":[{\"error_x\":{\"color\":\"#2a3f5f\"},\"error_y\":{\"color\":\"#2a3f5f\"},\"marker\":{\"line\":{\"color\":\"#E5ECF6\",\"width\":0.5},\"pattern\":{\"fillmode\":\"overlay\",\"size\":10,\"solidity\":0.2}},\"type\":\"bar\"}],\"scattergeo\":[{\"type\":\"scattergeo\",\"marker\":{\"colorbar\":{\"outlinewidth\":0,\"ticks\":\"\"}}}],\"scatterpolar\":[{\"type\":\"scatterpolar\",\"marker\":{\"colorbar\":{\"outlinewidth\":0,\"ticks\":\"\"}}}],\"histogram\":[{\"marker\":{\"pattern\":{\"fillmode\":\"overlay\",\"size\":10,\"solidity\":0.2}},\"type\":\"histogram\"}],\"scattergl\":[{\"type\":\"scattergl\",\"marker\":{\"colorbar\":{\"outlinewidth\":0,\"ticks\":\"\"}}}],\"scatter3d\":[{\"type\":\"scatter3d\",\"line\":{\"colorbar\":{\"outlinewidth\":0,\"ticks\":\"\"}},\"marker\":{\"colorbar\":{\"outlinewidth\":0,\"ticks\":\"\"}}}],\"scattermap\":[{\"type\":\"scattermap\",\"marker\":{\"colorbar\":{\"outlinewidth\":0,\"ticks\":\"\"}}}],\"scattermapbox\":[{\"type\":\"scattermapbox\",\"marker\":{\"colorbar\":{\"outlinewidth\":0,\"ticks\":\"\"}}}],\"scatterternary\":[{\"type\":\"scatterternary\",\"marker\":{\"colorbar\":{\"outlinewidth\":0,\"ticks\":\"\"}}}],\"scattercarpet\":[{\"type\":\"scattercarpet\",\"marker\":{\"colorbar\":{\"outlinewidth\":0,\"ticks\":\"\"}}}],\"carpet\":[{\"aaxis\":{\"endlinecolor\":\"#2a3f5f\",\"gridcolor\":\"white\",\"linecolor\":\"white\",\"minorgridcolor\":\"white\",\"startlinecolor\":\"#2a3f5f\"},\"baxis\":{\"endlinecolor\":\"#2a3f5f\",\"gridcolor\":\"white\",\"linecolor\":\"white\",\"minorgridcolor\":\"white\",\"startlinecolor\":\"#2a3f5f\"},\"type\":\"carpet\"}],\"table\":[{\"cells\":{\"fill\":{\"color\":\"#EBF0F8\"},\"line\":{\"color\":\"white\"}},\"header\":{\"fill\":{\"color\":\"#C8D4E3\"},\"line\":{\"color\":\"white\"}},\"type\":\"table\"}],\"barpolar\":[{\"marker\":{\"line\":{\"color\":\"#E5ECF6\",\"width\":0.5},\"pattern\":{\"fillmode\":\"overlay\",\"size\":10,\"solidity\":0.2}},\"type\":\"barpolar\"}],\"pie\":[{\"automargin\":true,\"type\":\"pie\"}]},\"layout\":{\"autotypenumbers\":\"strict\",\"colorway\":[\"#636efa\",\"#EF553B\",\"#00cc96\",\"#ab63fa\",\"#FFA15A\",\"#19d3f3\",\"#FF6692\",\"#B6E880\",\"#FF97FF\",\"#FECB52\"],\"font\":{\"color\":\"#2a3f5f\"},\"hovermode\":\"closest\",\"hoverlabel\":{\"align\":\"left\"},\"paper_bgcolor\":\"white\",\"plot_bgcolor\":\"#E5ECF6\",\"polar\":{\"bgcolor\":\"#E5ECF6\",\"angularaxis\":{\"gridcolor\":\"white\",\"linecolor\":\"white\",\"ticks\":\"\"},\"radialaxis\":{\"gridcolor\":\"white\",\"linecolor\":\"white\",\"ticks\":\"\"}},\"ternary\":{\"bgcolor\":\"#E5ECF6\",\"aaxis\":{\"gridcolor\":\"white\",\"linecolor\":\"white\",\"ticks\":\"\"},\"baxis\":{\"gridcolor\":\"white\",\"linecolor\":\"white\",\"ticks\":\"\"},\"caxis\":{\"gridcolor\":\"white\",\"linecolor\":\"white\",\"ticks\":\"\"}},\"coloraxis\":{\"colorbar\":{\"outlinewidth\":0,\"ticks\":\"\"}},\"colorscale\":{\"sequential\":[[0.0,\"#0d0887\"],[0.1111111111111111,\"#46039f\"],[0.2222222222222222,\"#7201a8\"],[0.3333333333333333,\"#9c179e\"],[0.4444444444444444,\"#bd3786\"],[0.5555555555555556,\"#d8576b\"],[0.6666666666666666,\"#ed7953\"],[0.7777777777777778,\"#fb9f3a\"],[0.8888888888888888,\"#fdca26\"],[1.0,\"#f0f921\"]],\"sequentialminus\":[[0.0,\"#0d0887\"],[0.1111111111111111,\"#46039f\"],[0.2222222222222222,\"#7201a8\"],[0.3333333333333333,\"#9c179e\"],[0.4444444444444444,\"#bd3786\"],[0.5555555555555556,\"#d8576b\"],[0.6666666666666666,\"#ed7953\"],[0.7777777777777778,\"#fb9f3a\"],[0.8888888888888888,\"#fdca26\"],[1.0,\"#f0f921\"]],\"diverging\":[[0,\"#8e0152\"],[0.1,\"#c51b7d\"],[0.2,\"#de77ae\"],[0.3,\"#f1b6da\"],[0.4,\"#fde0ef\"],[0.5,\"#f7f7f7\"],[0.6,\"#e6f5d0\"],[0.7,\"#b8e186\"],[0.8,\"#7fbc41\"],[0.9,\"#4d9221\"],[1,\"#276419\"]]},\"xaxis\":{\"gridcolor\":\"white\",\"linecolor\":\"white\",\"ticks\":\"\",\"title\":{\"standoff\":15},\"zerolinecolor\":\"white\",\"automargin\":true,\"zerolinewidth\":2},\"yaxis\":{\"gridcolor\":\"white\",\"linecolor\":\"white\",\"ticks\":\"\",\"title\":{\"standoff\":15},\"zerolinecolor\":\"white\",\"automargin\":true,\"zerolinewidth\":2},\"scene\":{\"xaxis\":{\"backgroundcolor\":\"#E5ECF6\",\"gridcolor\":\"white\",\"linecolor\":\"white\",\"showbackground\":true,\"ticks\":\"\",\"zerolinecolor\":\"white\",\"gridwidth\":2},\"yaxis\":{\"backgroundcolor\":\"#E5ECF6\",\"gridcolor\":\"white\",\"linecolor\":\"white\",\"showbackground\":true,\"ticks\":\"\",\"zerolinecolor\":\"white\",\"gridwidth\":2},\"zaxis\":{\"backgroundcolor\":\"#E5ECF6\",\"gridcolor\":\"white\",\"linecolor\":\"white\",\"showbackground\":true,\"ticks\":\"\",\"zerolinecolor\":\"white\",\"gridwidth\":2}},\"shapedefaults\":{\"line\":{\"color\":\"#2a3f5f\"}},\"annotationdefaults\":{\"arrowcolor\":\"#2a3f5f\",\"arrowhead\":0,\"arrowwidth\":1},\"geo\":{\"bgcolor\":\"white\",\"landcolor\":\"#E5ECF6\",\"subunitcolor\":\"white\",\"showland\":true,\"showlakes\":true,\"lakecolor\":\"white\"},\"title\":{\"x\":0.05},\"mapbox\":{\"style\":\"light\"}}},\"xaxis\":{\"title\":{\"text\":\"Attributes\"},\"tickangle\":45},\"title\":{\"text\":\"Player Attributes\"},\"yaxis\":{\"title\":{\"text\":\"Player Names\"}},\"autosize\":true,\"height\":600,\"width\":1200},                        {\"responsive\": true}                    ).then(function(){\n",
       "                            \n",
       "var gd = document.getElementById('6ec65e7a-042a-4ba9-9d85-3ad68775f5c4');\n",
       "var x = new MutationObserver(function (mutations, observer) {{\n",
       "        var display = window.getComputedStyle(gd).display;\n",
       "        if (!display || display === 'none') {{\n",
       "            console.log([gd, 'removed!']);\n",
       "            Plotly.purge(gd);\n",
       "            observer.disconnect();\n",
       "        }}\n",
       "}});\n",
       "\n",
       "// Listen for the removal of the full notebook cells\n",
       "var notebookContainer = gd.closest('#notebook-container');\n",
       "if (notebookContainer) {{\n",
       "    x.observe(notebookContainer, {childList: true});\n",
       "}}\n",
       "\n",
       "// Listen for the clearing of the current output cell\n",
       "var outputEl = gd.closest('.output');\n",
       "if (outputEl) {{\n",
       "    x.observe(outputEl, {childList: true});\n",
       "}}\n",
       "\n",
       "                        })                };            </script>        </div>"
      ]
     },
     "metadata": {},
     "output_type": "display_data"
    }
   ],
   "execution_count": 105
  },
  {
   "metadata": {
    "ExecuteTime": {
     "end_time": "2025-05-22T17:29:34.049708Z",
     "start_time": "2025-05-22T17:29:34.015782Z"
    }
   },
   "cell_type": "code",
   "source": [
    "# for defense\n",
    "create_heatmap(bk_players)"
   ],
   "id": "e8302a54efdd2400",
   "outputs": [
    {
     "data": {
      "text/html": [
       "        <script type=\"text/javascript\">\n",
       "        window.PlotlyConfig = {MathJaxConfig: 'local'};\n",
       "        if (window.MathJax && window.MathJax.Hub && window.MathJax.Hub.Config) {window.MathJax.Hub.Config({SVG: {font: \"STIX-Web\"}});}\n",
       "        </script>\n",
       "        <script type=\"module\">import \"https://cdn.plot.ly/plotly-3.0.1.min\"</script>\n",
       "        "
      ]
     },
     "metadata": {},
     "output_type": "display_data"
    },
    {
     "data": {
      "text/html": [
       "<div>            <script src=\"https://cdnjs.cloudflare.com/ajax/libs/mathjax/2.7.5/MathJax.js?config=TeX-AMS-MML_SVG\"></script><script type=\"text/javascript\">if (window.MathJax && window.MathJax.Hub && window.MathJax.Hub.Config) {window.MathJax.Hub.Config({SVG: {font: \"STIX-Web\"}});}</script>                <script type=\"text/javascript\">window.PlotlyConfig = {MathJaxConfig: 'local'};</script>\n",
       "        <script charset=\"utf-8\" src=\"https://cdn.plot.ly/plotly-3.0.1.min.js\"></script>                <div id=\"bb07fe8f-8805-4122-a192-a80d339faf7f\" class=\"plotly-graph-div\" style=\"height:600px; width:1200px;\"></div>            <script type=\"text/javascript\">                window.PLOTLYENV=window.PLOTLYENV || {};                                if (document.getElementById(\"bb07fe8f-8805-4122-a192-a80d339faf7f\")) {                    Plotly.newPlot(                        \"bb07fe8f-8805-4122-a192-a80d339faf7f\",                        [{\"colorbar\":{\"title\":{\"text\":\"Attribute Value\"}},\"colorscale\":[[0.0,\"rgb(247,252,245)\"],[0.125,\"rgb(229,245,224)\"],[0.25,\"rgb(199,233,192)\"],[0.375,\"rgb(161,217,155)\"],[0.5,\"rgb(116,196,118)\"],[0.625,\"rgb(65,171,93)\"],[0.75,\"rgb(35,139,69)\"],[0.875,\"rgb(0,109,44)\"],[1.0,\"rgb(0,68,27)\"]],\"hovertemplate\":\"Player: %{x}\\u003cbr\\u003eAttribute: %{y}\\u003cbr\\u003eValue: %{z}\\u003cextra\\u003e\\u003c\\u002fextra\\u003e\",\"x\":[\"acceleration\",\"aggression\",\"agility\",\"balance\",\"ball_control\",\"crossing\",\"curve\",\"dribbling\",\"finishing\",\"free_kick_accuracy\",\"gk_diving\",\"gk_handling\",\"gk_kicking\",\"gk_positioning\",\"gk_reflexes\",\"heading_accuracy\",\"interceptions\",\"jumping\",\"long_passing\",\"long_shots\",\"marking\",\"overall_rating\",\"penalties\",\"positioning\",\"potential\",\"potential_rating_ratio\",\"reactions\",\"short_passing\",\"shot_power\",\"sliding_tackle\",\"sprint_speed\",\"stamina\",\"standing_tackle\",\"strength\",\"vision\",\"volleys\"],\"y\":[\"Alvaro Gonzalez Soberon\",\"Daniel Jarque\",\"David Garcia\",\"Didac Vila\",\"Diego Daniel Colotto\",\"Enzo Roco\",\"Eric Bertrand Bailly\",\"Ernesto Galan\",\"Facundo Sebastian Roncaglia\",\"Felipe Mattioni Rohde\",\"Francisco Chica\",\"Gregory Beranger\",\"Hector Moreno\",\"Ivan Pillud\",\"Joan Capdevila\",\"Jordi Amat\",\"Juan Rafael Fuentes\",\"Marc Torrejon Moya\",\"Michael Ciani\",\"Nicolas Pareja\",\"Roberto Correa\",\"Ruben Duarte\",\"Sergio Sanchez\",\"Sidnei\",\"Steve Finnan\",\"Victor Ruiz\"],\"z\":{\"dtype\":\"f8\",\"bdata\":\"SZIkSZLkUUBJkiRJkqRUQG7btm3btlBAJUmSJElSUEBu27Zt2zZPQAAAAAAAgExA27Zt27ZtS0Dbtm3btu1GQJIkSZIkSTVASZIkSZIkRkBJkiRJkiQdQCVJkiRJkihAJUmSJEmSJkAlSZIkSZImQEmSJEmSJB1ASZIkSZIkUkAAAAAAAIBSQAAAAAAAIFVASZIkSZIkTECSJEmSJEk5QG7btm3bdlBA27Zt27YNUkBJkiRJkqRBQLdt27Zt20VA27Zt27ZNU0BpFnx\\u002f8claQCVJkiRJklFAbtu2bdt2TUBJkiRJkiRHQCVJkiRJklNAJUmSJEmyUkC3bdu2bTtTQAAAAAAAAFJA27Zt27bNUUCSJEmSJAlHQEmSJEmSpD1AAAAAAABAUEAAAAAAAIBRQAAAAAAAAPh\\u002fAAAAAAAA+H8AAAAAAABQQKuqqqqqKk9AAAAAAAAA+H9VVVVVVVVCQAAAAAAAgENAAAAAAACASUAAAAAAAAAkQFVVVVVVVTJAVVVVVVVVTECrqqqqqqowQFVVVVVVVTBAAAAAAAAAU0AAAAAAAMBTQAAAAAAAAPh\\u002fVVVVVVVVTEAAAAAAAABJQAAAAAAAAFRAVVVVVVXVUkAAAAAAAMBSQAAAAAAAQFJAAAAAAABAVECRap59SuNaQKuqqqqq6lFAq6qqqqqqUUAAAAAAAIBJQAAAAAAAAPh\\u002fAAAAAAAAUkAAAAAAAEBTQFVVVVVVVVJAAAAAAAAAU0AAAAAAAAD4fwAAAAAAAPh\\u002f+ZZv+ZYvUEAHaZAGaRBRQHZiJ3Zip05AgzRIgzRIUECrqqqqqqpOQE\\u002fsxE7sxExA2Ymd2ImdSkDFTuzETmxJQMVO7MRObERAkAZpkAZpRkDmW77lW74hQEiDNEiDNCpAAAAAAAAANkCe2Imd2IkpQAAAAAAAACZAy7d8y7f8TEBP7MRO7MRPQJdv+ZZveVBAdmIndmKnTEDf8i3f8i1CQIqd2ImdWFBAaZAGaZCGUECxEzuxE7tGQA3SIA3SIElALt\\u002fyLd+yUECbwKfcy0VZQGmQBmmQBlBAgzRIgzRITUC+5Vu+5VtLQDVIgzRIg09Aq6qqqqpqUEC+5Vu+5dtRQPMt3\\u002fIt31FA5lu+5Vu+UUAUO7ETOzFIQE\\u002fsxE7sREVAAAAAAAAsUkAAAAAAAKRSQAAAAAAAKE5AAAAAAABQTEAAAAAAAABQQAAAAAAAGFBAAAAAAAAgTUAAAAAAAHhOQAAAAAAAwDdAAAAAAACAPEAAAAAAACAqQAAAAAAAICNAAAAAAABgIEAAAAAAAGAmQAAAAAAAwCRAAAAAAABITUAAAAAAAJBRQAAAAAAAQFJAAAAAAABYTEAAAAAAAJBCQAAAAAAAdFFAAAAAAABkUUAAAAAAACA7QAAAAAAAMEpAAAAAAADQUkD3SjTKExdbQAAAAAAAZFFAAAAAAABoTEAAAAAAAHBMQAAAAAAARFJAAAAAAACcUkAAAAAAANRSQAAAAAAAYFFAAAAAAAAoUkAAAAAAANhKQAAAAAAAwDxAVVVVVVVVTkAcx3EcxzFSQI7jOI7j+E1AAAAAAADAT0A5juM4juNQQKuqqqqqKkpAAAAAAACAQEA5juM4jmNMQBzHcRzHsUdAq6qqqqqqTUDHcRzHcRwvQOQ4juM4DjJAHMdxHMdxO0BVVVVVVVUoQOQ4juM4ji1AAAAAAAAAVEDHcRzHcfxSQDmO4ziOw1NAq6qqqqqKUEBVVVVVVdVOQAAAAAAAAFNAjuM4juPYUkDHcRzHcVxOQKuqqqqqqktAjuM4juNYU0A+kcmKPahZQMdxHMdxHFJAx3Ecx3EcTEAAAAAAAEBRQBzHcRzHEVNA5DiO4zgOT0BVVVVVVfVRQFVVVVVV9VNAchzHcRwHU0ByHMdxHMdNQBzHcRzHcU5AVVVVVVV1TkCrqqqqqupPQFVVVVVV9UhAAAAAAACgTkAAAAAAAEBQQFVVVVVVVUNAq6qqqqqqOUBVVVVVVRVOQKuqqqqqKkRAq6qqqqqqPkAAAAAAAIAoQAAAAAAAgCBAAAAAAACAKEAAAAAAAIAoQAAAAAAAgChAq6qqqqraUkCrqqqqqnpQQAAAAAAAIFZAVVVVVVXVSEBVVVVVVdVCQKuqqqqqalJAVVVVVVW1UUCrqqqqqqpAQKuqqqqqKkRAq6qqqqq6U0AHEUbdm9xbQFVVVVVVFVBAAAAAAACgUEBVVVVVVdVFQAAAAAAAAE5AAAAAAADATkBVVVVVVcVRQFVVVVVVRVJAVVVVVVV1VUBVVVVVVdVHQKuqqqqqqjtAWlpaWlpaUUAtLS0tLW1SQNPS0tLSUk5APDw8PDy8T0CIh4eHhwdMQKalpaWlJUNAAAAAAACAQkAPDw8PDw9GQMTDw8PDQ0BAPDw8PDy8Q0APDw8PDw8rQA8PDw8PDytADw8PDw8PI0APDw8PDw8hQB4eHh4eHh5AtbS0tLQ0UUDT0tLS0hJSQDw8PDw8PFJAl5aWlpaWSEBpaWlpaelFQA8PDw8PT1BAWlpaWlpaUUA8PDw8PDxFQMTDw8PDw0FA09LS0tJSU0DfzLxwytFbQFpaWlpa2k9ADw8PDw8PT0CmpaWlpSVMQA8PDw8Pz1FAiIeHh4dHUkBLS0tLS4tRQJeWlpaWVlJAS0tLS0sLUkDEw8PDw0NBQJeWlpaWlj5AL7rooosuT0Cjiy666AJTQKOLLrroIkxAuuiiiy46UEB00UUXXXRIQC+66KKLbk9Ao4suuuhiTUDRRRdddBFGQNFFF1100TZAo4suuugiPkB00UUXXXQTQBdddNFFFyZAAAAAAAAAJEAXXXTRRRcmQKOLLrrooiJARhdddNFFS0C66KKLLppQQEYXXXTRJVFAF1100UUXSkB00UUXXfQ5QEYXXXTRxU9AL7rooosOUEB00UUXXfRBQBdddNFFF0lAuuiiiy66UEDgU4phWQ1aQKOLLrroIktA0UUXXXTRSUB00UUXXTRLQEYXXXTRxVBAuuiiiy46UUDpoosuuohSQF100UUX\\u002fVFAAAAAAAAAU0DRRRdddBFHQBdddNFF10FAIyz3NMLyUUA1wnJPI+xTQAnLPY2w3FBACcs9jbBcUkBPIyz3NMJQQJZ7GmG5J0xAR1juaYTlQkDUCMs9jbBLQGqE5Z5GWENAGmG5pxGWQUAaYbmnEZYtQBphuacRlitAn0ZY7mmEMUA1wnJPIywXQBphuacRli1AwnJPIyw3UUBqhOWeRhhSQD6NsNzTSFNAyz2NsNwTUEBHWO5phGVOQDXCck8j7FJAYbmnEZZ7UkAAAAAAAIBDQBKWexphuUdAAAAAAABAU0A6bxqF6RdaQHwaYbmnkVFAIyz3NMIyUEDmnkZY7mlQQNQIyz2NcFNAjbDc0whLUkAs9zTCck9PQJZ7GmG5J1NAfBphuadRUkC5pxGWexpIQAnLPY2w3DxAQxaykIXsUUCnN73pTa9SQAAAAAAAAFNAIQtZyEKWUkDqTW9605tSQDi96U1vOlJAAAAAAACAR0BvetOb3rRSQDi96U1v+kpATm9605teRUD1pje96U0hQN\\u002f0pje96StAspCFLGQhO0AhC1nIQhYxQNOb3vSmNydAhixkIQtZTEAAAAAAAIBQQN\\u002f0pje9KVFAOL3pTW86UkDf9KY3velNQPWmN73pjVFAC1nIQhYyUUDTm970pjdPQBaykIUs5E5ALWQhC1nIUkA1TYqZ90xbQDi96U1v+lFA05ve9Kb3UED1pje96Q1SQC1kIQtZiFFAWchCFrIQUkCc3vSmN71NQFnIQhayUFFAOL3pTW\\u002f6T0Df9KY3vWlPQAAAAAAAgEBAzczMzMz8UECamZmZmUlTQGZmZmZmpk9AzczMzMycUkCamZmZmRlPQJqZmZmZ+VBAZmZmZmbmTEBmZmZmZkZLQM3MzMzMLEhAzczMzMyMSUDNzMzMzEwkQM3MzMzMTClAzczMzMzML0BmZmZmZmYmQJqZmZmZGSBAzczMzMxsTEAAAAAAABBTQJqZmZmZOVJAzczMzMyMTUBmZmZmZuZLQDMzMzMzQ1NAzczMzMzcUUDNzMzMzKxLQGZmZmZmpkxAZmZmZmamUkDColfa3z9aQJqZmZmZCVNAMzMzMzOzUECamZmZmXlNQAAAAAAAMFFAmpmZmZm5UUCamZmZmdlSQGZmZmZmBlNAzczMzMyMU0CamZmZmZlOQDMzMzMzk0RAT+zETuxEUkDZiZ3YiZ1QQE\\u002fsxE7shFJAT+zETuyEUUAUO7ETO3FQQE\\u002fsxE7shFBAT+zETuxESEA7sRM7sRNPQCd2Yid24kdAJ3ZiJ3biSUAAAAAAAAAcQLETO7ETOy1A2Ymd2ImdOkDsxE7sxE4oQE\\u002fsxE7sxCpAT+zETuzESUCe2Imd2AlPQNmJndiJXVJAYid2Yid2TEAndmInduJIQDuxEzuxk09AAAAAAAAAUEDsxE7sxE5JQHZiJ3ZiJ0tA7MRO7MTOUED2CyCXBkVaQMVO7MRObE9A2Ymd2IkdTkCKndiJnVhOQMVO7MROrFBA2Ymd2IkdUkB2Yid2YudQQNmJndiJHVBAntiJndgJUEAndmInduJNQJ7YiZ3YiUZA5TWU11CeUUAN5TWU11BSQEN5DeU11FFAeQ3lNZTXT0CvobyG8ppQQNhQXkN5jUhA2FBeQ3mNR0DKayivobxKQGwor6G8hkRA2FBeQ3kNQkB5DeU1lNcmQGwor6G8hjBA8xrKayivOkDYUF5DeQ0pQBvKayivoSpANpTXUF7DUkC9hvIaymtSQBvKayivYVRAr6G8hvKaT0CvobyG8hpFQA3lNZTXUFNAeQ3lNZTXUkCU11BeQ3lPQNhQXkN5DUdAoryG8hqKVEAZ9rAZTk1bQBvKayivoVFAvYbyGsrrUEAAAAAAAABNQFFeQ3kN5VNAvYbyGsorUUBsKK+hvAZTQKK8hvIaClNAUV5DeQ2lUkAbymsor6FOQNhQXkN5DUtAAAAAAABAVEBddNFFFx1SQLrooosuek9AAAAAAAAAUEBddNFFF51OQF100UUXfVBAdNFFF120TUDpoosuumhOQEYXXXTRhUBARhdddNGFT0AXXXTRRRcuQBdddNFFFypAL7rooosuGEAXXXTRRRckQC+66KKLLhhAAAAAAABATkCjiy666KJPQIwuuuiii1JARhdddNGFT0DpoosuuqhGQBdddNFFF1FAAAAAAAAAUUCjiy666EJRQC+66KKL7kpA6aKLLrrIUUAw54hhtCNaQBdddNFFl1BAjC666KILUEAvuuiii+5RQIwuuuiiy1BA0UUXXXTxU0Cjiy666KJTQEYXXXTRxVFAAAAAAADAUkB00UUXXTRKQEYXXXTRBUpAPc\\u002fzPM8zUEB6nud5nmdSQAAAAAAAgE5AAAAAAAAATUC3bdu2bRtTQKuqqqqqalRAVVVVVVVVU0AxDMMwDENQQMMwDMMwDExAYhiGYRiGU0Bu27Zt27YpQBiGYRiGYSxAPc\\u002fzPM\\u002fzN0AAAAAAAAAiQJ7neZ7neSxAGIZhGIahUkAxDMMwDENTQHqe53me51BAPc\\u002fzPM8zU0AAAAAAAMBSQBiGYRiG4VFAPc\\u002fzPM9zUkBiGIZhGAZQQLdt27Ztm1FAnud5nue5UkCapmmapllZQLdt27Zt21NAMQzDMAwDU0AxDMMwDMNUQGIYhmEYRlFA6Hme53leUUAlSZIkSRJQQAAAAAAAAFNAGIZhGIahUkAlSZIkSZJQQAAAAAAAgFNAuuiiiy56T0C66KKLLnpTQKOLLrroIkxAXXTRRRddTUDRRRdddFFNQKOLLrroIj5A0UUXXXSRQ0AAAAAAAABEQHTRRRdd9D5A0UUXXXSRQUAAAAAAAAAeQHTRRRdddBtAo4suuuiiIkDpoosuuugvQF100UUXXSFAAAAAAAAgUkAAAAAAAGBRQKOLLrroIlNAo4suuujiSECMLrroootHQIwuuuiiC1JAdNFFF13UUUAvuuiiiy47QOmiiy66KEBAXXTRRRddU0AWFaKE4kJbQEYXXXTRhVBAAAAAAABAT0BGF1100YVPQBdddNFFl1JAXXTRRRddUEBddNFFF71QQLrooosuGlJAAAAAAABAUkBGF1100YVMQHTRRRdddDZAl5aWlpaWUkCIh4eHh0dRQC0tLS0trVFAxMPDw8ODUUAtLS0tLS1PQFpaWlpaWk9AxMPDw8NDTEBaWlpaWlpLQIiHh4eHhzZAxMPDw8NDQ0CIh4eHh4cnQNPS0tLS0ipAaWlpaWlpNEAtLS0tLS0pQLW0tLS0tDBAxMPDw8NDS0AeHh4eHh5PQGlpaWlpKVJAxMPDw8PDTEDi4eHh4WFFQLW0tLS0NFFAAAAAAABAUEB4eHh4eHhBQJeWlpaWlkBAHh4eHh5eUUDoTCG8ispaQKalpaWlJU9A8fDw8PBwSkBaWlpaWlpMQB4eHh4eXlBAiIeHh4cHU0AtLS0tLW1TQAAAAAAAQFBAl5aWlpYWUUAeHh4eHp5IQIiHh4eHhzhAntiJndgJTEAndmIndmJSQNmJndiJnUtAip3YiZ1YTUAAAAAAAEBOQLETO7ETe0NA2Ymd2IkdSEA7sRM7sZNHQCd2Yid24jtAFDuxEzuxSUCe2Imd2IkZQIqd2Imd2CZAdmIndmKnM0DFTuzETuwjQOzETuzETjBAxU7sxE6MUUBP7MRO7MRSQJ7YiZ3YCVBAYid2Yie2TkBiJ3ZiJ\\u002fY3QIqd2ImdOFJAJ3ZiJ3YiUkCKndiJndhMQIqd2ImdWEFA2Ymd2Il9UkA6jUs5lXtZQAAAAAAA4FFAYid2YicWUEDsxE7sxA5NQBQ7sRM7kVJAxU7sxE7sSkCe2Imd2GlRQCd2Yid2olJAJ3ZiJ3aCVEDFTuzETixMQNmJndiJHUhA7+7u7u6uTkBmZmZmZiZTQDMzMzMzs0lAvLu7u7v7SkCrqqqqqupKQAAAAAAAAENAmpmZmZmZNUCamZmZmZlDQHd3d3d3t0BAmpmZmZnZSEDe3d3d3d0qQHd3d3d3dyFAIiIiIiKiMUC8u7u7u7siQKuqqqqqqi9A3t3d3d0dU0Dv7u7u7u5SQN7d3d3dHVRAERERERHRTkAzMzMzM3NEQM3MzMzMDFNAd3d3d3fXUkDe3d3d3R1BQN7d3d3dHUdAVVVVVVV1U0AxUVb1atNZQLy7u7u7m1BAMzMzMzMzTUC8u7u7u5tRQBERERER0VJAd3d3d3d3UEAzMzMzM9NQQJqZmZmZWVNAAAAAAACgVkAREREREZFFQKuqqqqqqjhAbtu2bdsGUUC3bdu2bftTQJIkSZIkaU5ASZIkSZJ0UEBJkiRJksROQCVJkiRJEktAbtu2bdtWTkCSJEmSJKlNQAAAAAAA4EhAJUmSJEmSUkBu27Zt27YqQEmSJEmSpCxA27Zt27ZtOUCSJEmSJMksQLdt27Zt2ypAJUmSJEkyU0Bu27Zt25ZSQLdt27Zty1NAbtu2bduGUkAlSZIkSQJQQAAAAAAA0FJAkiRJkiTpUkAAAAAAACBRQCVJkiRJckdAt23btm17U0Ddnjfu8MJZQEmSJEmSxFNAt23btm17UUBu27Zt27ZSQG7btm3b1lNAt23btm27UEC3bdu2bStSQCVJkiRJYlNASZIkSZJEUkCSJEmSJAlPQCVJkiRJskdAt23btm07UUBu27Zt27ZQQJIkSZIkCVFAAAAAAAAAU0C3bdu2bVtLQAAAAAAAQFBASZIkSZIkRUDbtm3btu1FQEmSJEmSpEJASZIkSZKkRUAlSZIkSZIqQCVJkiRJkiJAJUmSJEmSJkAlSZIkSZImQCVJkiRJkiBAAAAAAACAR0CSJEmSJMlNQG7btm3bFlFASZIkSZKkSUBJkiRJkqRBQJIkSZIkiVBAt23btm1bTkBJkiRJkiREQEmSJEmSpEVAkiRJkiTJUEBxUvw5K7BbQG7btm3btklAbtu2bds2S0BJkiRJkqRPQCVJkiRJEk9AkiRJkiSJUkC3bdu2bftSQEmSJEmSpExAt23btm0bT0BJkiRJkqRKQEmSJEmSJERAmpmZmZl5UEAzMzMzMzNLQAAAAAAAgE1AAAAAAABAUEDNzMzMzMxJQAAAAAAAQExAmpmZmZkZTECamZmZmRlIQDMzMzMzMztAmpmZmZmZTUBmZmZmZmYiQGZmZmZmZiZAZmZmZmZmKkBmZmZmZmYkQGZmZmZmZiBAZmZmZmZmSUAzMzMzM3NMQJqZmZmZ2UtAmpmZmZkZQUAzMzMzMzM9QM3MzMzMjExAMzMzMzPzTECamZmZmZlDQJqZmZmZGUVAZmZmZmaGUUD6OxQQJm5eQAAAAAAAAEtAAAAAAABAS0AzMzMzMzM\\u002fQDMzMzMzU1BAmpmZmZnZT0AzMzMzMzNPQDMzMzMzs01AmpmZmZmZS0AzMzMzMzM+QDMzMzMzMzhAAAAAAADgUEAvuuiii+5RQKuqqqqqylBAq6qqqqoqT0B00UUXXbRNQF100UUXnU9A5DiO4zgOQUDRRRdddJFKQAAAAAAAgEZAuuiiiy66OkBGF1100UU1QKOLLrroojlAAAAAAAAAOkB00UUXXXQ3QNFFF1100TZAjC666KKLTkC66KKLLlpRQDmO4ziOA1JA6aKLLrooUEDpoosuumhCQBdddNFF11BAdNFFF10UUkDRRRdddNFKQF100UUXHUtAjC666KLLUkAsPO7v2QJaQC+66KKLLlFAF1100UXXTkBddNFFF11JQHIcx3Ecx1JAdNFFF12UUEAAAAAAACBRQF100UUXPVBAjC666KKLUkCrqqqqqqpNQOQ4juM4DklAoS\\u002foC\\u002fpCUEB9QV\\u002fQF3RRQNAX9AV9wU5A7og74o44TEAk7og74g5OQDZlTVlTVktAJO6IO+KORkCbsqasKetKQNwRd8QdcUlAcUfcEXdERkBT1pQ1ZU0dQDZlTVlT1i5AHnFH3BF3NEBH3BF3xB0nQGvKmrKmrCtAoS\\u002foC\\u002fqCUEASd8QdccdNQKEv6Av6gk1AcUfcEXfES0AGfUFf0JdJQEFf0Bf0BUxAKmvKmrJmUUCPuCPuiLtMQMqasqasqUdATVlT1pR1UkDAcsT13X1aQCTuiDviTlBAHnFH3BH3TUA84o64I25NQFlT1pQ15UtA0Bf0BX0BUUCtKWvKmvJQQNwRd8Qd8UxAm7KmrCnrUUDQF\\u002fQFfUFLQHfEHXFH3EdAAAAAAABwU0AAAAAAAKBRQAAAAAAAAPh\\u002fAAAAAAAA+H8AAAAAAPBRQAAAAAAAkFNAAAAAAAAA+H8AAAAAAIBQQAAAAAAAgEZAAAAAAAAASkAAAAAAAAAiQAAAAAAAgDJAAAAAAABAUEAAAAAAAEAxQAAAAAAAwDFAAAAAAAAAU0AAAAAAAEBUQAAAAAAAAPh\\u002fAAAAAABAUEAAAAAAAIBEQAAAAAAAgFNAAAAAAABQU0AAAAAAAJBTQAAAAAAAYFRAAAAAAABgVEATFYcFMGVaQAAAAAAAIFJAAAAAAAAwUkAAAAAAAIBKQAAAAAAAAPh\\u002fAAAAAACQU0AAAAAAAJBUQAAAAAAAoFNAAAAAAAAgU0AAAAAAAAD4fwAAAAAAAPh\\u002fOY7jOI4jUEA5juM4jmNTQI7jOI7jeE1AHMdxHMcxT0Acx3Ecx9FQQAAAAAAAgEpAq6qqqqpKUEAAAAAAAABJQDmO4ziOI0JAq6qqqqpqRkAAAAAAAAAmQI7jOI7jOCJAjuM4juM4JEBVVVVVVVUdQDmO4ziO4yxAVVVVVVX1UUAcx3Ecx5FTQOQ4juM4jlNAAAAAAACAUECrqqqqqmpCQHIcx3Ecx1JAchzHcRwnU0CrqqqqqmpGQBzHcRzHsUNAVVVVVVVVVEA59a4usplaQI7jOI7jOFJAq6qqqqqqUUDkOI7jOM5LQMdxHMdxnFNAchzHcRwHUUDHcRzHcXxRQHIcx3EcB1RA5DiO4ziOVEA5juM4jqNLQKuqqqqq6kJA\",\"shape\":\"26, 36\"},\"type\":\"heatmap\"}],                        {\"template\":{\"data\":{\"histogram2dcontour\":[{\"type\":\"histogram2dcontour\",\"colorbar\":{\"outlinewidth\":0,\"ticks\":\"\"},\"colorscale\":[[0.0,\"#0d0887\"],[0.1111111111111111,\"#46039f\"],[0.2222222222222222,\"#7201a8\"],[0.3333333333333333,\"#9c179e\"],[0.4444444444444444,\"#bd3786\"],[0.5555555555555556,\"#d8576b\"],[0.6666666666666666,\"#ed7953\"],[0.7777777777777778,\"#fb9f3a\"],[0.8888888888888888,\"#fdca26\"],[1.0,\"#f0f921\"]]}],\"choropleth\":[{\"type\":\"choropleth\",\"colorbar\":{\"outlinewidth\":0,\"ticks\":\"\"}}],\"histogram2d\":[{\"type\":\"histogram2d\",\"colorbar\":{\"outlinewidth\":0,\"ticks\":\"\"},\"colorscale\":[[0.0,\"#0d0887\"],[0.1111111111111111,\"#46039f\"],[0.2222222222222222,\"#7201a8\"],[0.3333333333333333,\"#9c179e\"],[0.4444444444444444,\"#bd3786\"],[0.5555555555555556,\"#d8576b\"],[0.6666666666666666,\"#ed7953\"],[0.7777777777777778,\"#fb9f3a\"],[0.8888888888888888,\"#fdca26\"],[1.0,\"#f0f921\"]]}],\"heatmap\":[{\"type\":\"heatmap\",\"colorbar\":{\"outlinewidth\":0,\"ticks\":\"\"},\"colorscale\":[[0.0,\"#0d0887\"],[0.1111111111111111,\"#46039f\"],[0.2222222222222222,\"#7201a8\"],[0.3333333333333333,\"#9c179e\"],[0.4444444444444444,\"#bd3786\"],[0.5555555555555556,\"#d8576b\"],[0.6666666666666666,\"#ed7953\"],[0.7777777777777778,\"#fb9f3a\"],[0.8888888888888888,\"#fdca26\"],[1.0,\"#f0f921\"]]}],\"contourcarpet\":[{\"type\":\"contourcarpet\",\"colorbar\":{\"outlinewidth\":0,\"ticks\":\"\"}}],\"contour\":[{\"type\":\"contour\",\"colorbar\":{\"outlinewidth\":0,\"ticks\":\"\"},\"colorscale\":[[0.0,\"#0d0887\"],[0.1111111111111111,\"#46039f\"],[0.2222222222222222,\"#7201a8\"],[0.3333333333333333,\"#9c179e\"],[0.4444444444444444,\"#bd3786\"],[0.5555555555555556,\"#d8576b\"],[0.6666666666666666,\"#ed7953\"],[0.7777777777777778,\"#fb9f3a\"],[0.8888888888888888,\"#fdca26\"],[1.0,\"#f0f921\"]]}],\"surface\":[{\"type\":\"surface\",\"colorbar\":{\"outlinewidth\":0,\"ticks\":\"\"},\"colorscale\":[[0.0,\"#0d0887\"],[0.1111111111111111,\"#46039f\"],[0.2222222222222222,\"#7201a8\"],[0.3333333333333333,\"#9c179e\"],[0.4444444444444444,\"#bd3786\"],[0.5555555555555556,\"#d8576b\"],[0.6666666666666666,\"#ed7953\"],[0.7777777777777778,\"#fb9f3a\"],[0.8888888888888888,\"#fdca26\"],[1.0,\"#f0f921\"]]}],\"mesh3d\":[{\"type\":\"mesh3d\",\"colorbar\":{\"outlinewidth\":0,\"ticks\":\"\"}}],\"scatter\":[{\"fillpattern\":{\"fillmode\":\"overlay\",\"size\":10,\"solidity\":0.2},\"type\":\"scatter\"}],\"parcoords\":[{\"type\":\"parcoords\",\"line\":{\"colorbar\":{\"outlinewidth\":0,\"ticks\":\"\"}}}],\"scatterpolargl\":[{\"type\":\"scatterpolargl\",\"marker\":{\"colorbar\":{\"outlinewidth\":0,\"ticks\":\"\"}}}],\"bar\":[{\"error_x\":{\"color\":\"#2a3f5f\"},\"error_y\":{\"color\":\"#2a3f5f\"},\"marker\":{\"line\":{\"color\":\"#E5ECF6\",\"width\":0.5},\"pattern\":{\"fillmode\":\"overlay\",\"size\":10,\"solidity\":0.2}},\"type\":\"bar\"}],\"scattergeo\":[{\"type\":\"scattergeo\",\"marker\":{\"colorbar\":{\"outlinewidth\":0,\"ticks\":\"\"}}}],\"scatterpolar\":[{\"type\":\"scatterpolar\",\"marker\":{\"colorbar\":{\"outlinewidth\":0,\"ticks\":\"\"}}}],\"histogram\":[{\"marker\":{\"pattern\":{\"fillmode\":\"overlay\",\"size\":10,\"solidity\":0.2}},\"type\":\"histogram\"}],\"scattergl\":[{\"type\":\"scattergl\",\"marker\":{\"colorbar\":{\"outlinewidth\":0,\"ticks\":\"\"}}}],\"scatter3d\":[{\"type\":\"scatter3d\",\"line\":{\"colorbar\":{\"outlinewidth\":0,\"ticks\":\"\"}},\"marker\":{\"colorbar\":{\"outlinewidth\":0,\"ticks\":\"\"}}}],\"scattermap\":[{\"type\":\"scattermap\",\"marker\":{\"colorbar\":{\"outlinewidth\":0,\"ticks\":\"\"}}}],\"scattermapbox\":[{\"type\":\"scattermapbox\",\"marker\":{\"colorbar\":{\"outlinewidth\":0,\"ticks\":\"\"}}}],\"scatterternary\":[{\"type\":\"scatterternary\",\"marker\":{\"colorbar\":{\"outlinewidth\":0,\"ticks\":\"\"}}}],\"scattercarpet\":[{\"type\":\"scattercarpet\",\"marker\":{\"colorbar\":{\"outlinewidth\":0,\"ticks\":\"\"}}}],\"carpet\":[{\"aaxis\":{\"endlinecolor\":\"#2a3f5f\",\"gridcolor\":\"white\",\"linecolor\":\"white\",\"minorgridcolor\":\"white\",\"startlinecolor\":\"#2a3f5f\"},\"baxis\":{\"endlinecolor\":\"#2a3f5f\",\"gridcolor\":\"white\",\"linecolor\":\"white\",\"minorgridcolor\":\"white\",\"startlinecolor\":\"#2a3f5f\"},\"type\":\"carpet\"}],\"table\":[{\"cells\":{\"fill\":{\"color\":\"#EBF0F8\"},\"line\":{\"color\":\"white\"}},\"header\":{\"fill\":{\"color\":\"#C8D4E3\"},\"line\":{\"color\":\"white\"}},\"type\":\"table\"}],\"barpolar\":[{\"marker\":{\"line\":{\"color\":\"#E5ECF6\",\"width\":0.5},\"pattern\":{\"fillmode\":\"overlay\",\"size\":10,\"solidity\":0.2}},\"type\":\"barpolar\"}],\"pie\":[{\"automargin\":true,\"type\":\"pie\"}]},\"layout\":{\"autotypenumbers\":\"strict\",\"colorway\":[\"#636efa\",\"#EF553B\",\"#00cc96\",\"#ab63fa\",\"#FFA15A\",\"#19d3f3\",\"#FF6692\",\"#B6E880\",\"#FF97FF\",\"#FECB52\"],\"font\":{\"color\":\"#2a3f5f\"},\"hovermode\":\"closest\",\"hoverlabel\":{\"align\":\"left\"},\"paper_bgcolor\":\"white\",\"plot_bgcolor\":\"#E5ECF6\",\"polar\":{\"bgcolor\":\"#E5ECF6\",\"angularaxis\":{\"gridcolor\":\"white\",\"linecolor\":\"white\",\"ticks\":\"\"},\"radialaxis\":{\"gridcolor\":\"white\",\"linecolor\":\"white\",\"ticks\":\"\"}},\"ternary\":{\"bgcolor\":\"#E5ECF6\",\"aaxis\":{\"gridcolor\":\"white\",\"linecolor\":\"white\",\"ticks\":\"\"},\"baxis\":{\"gridcolor\":\"white\",\"linecolor\":\"white\",\"ticks\":\"\"},\"caxis\":{\"gridcolor\":\"white\",\"linecolor\":\"white\",\"ticks\":\"\"}},\"coloraxis\":{\"colorbar\":{\"outlinewidth\":0,\"ticks\":\"\"}},\"colorscale\":{\"sequential\":[[0.0,\"#0d0887\"],[0.1111111111111111,\"#46039f\"],[0.2222222222222222,\"#7201a8\"],[0.3333333333333333,\"#9c179e\"],[0.4444444444444444,\"#bd3786\"],[0.5555555555555556,\"#d8576b\"],[0.6666666666666666,\"#ed7953\"],[0.7777777777777778,\"#fb9f3a\"],[0.8888888888888888,\"#fdca26\"],[1.0,\"#f0f921\"]],\"sequentialminus\":[[0.0,\"#0d0887\"],[0.1111111111111111,\"#46039f\"],[0.2222222222222222,\"#7201a8\"],[0.3333333333333333,\"#9c179e\"],[0.4444444444444444,\"#bd3786\"],[0.5555555555555556,\"#d8576b\"],[0.6666666666666666,\"#ed7953\"],[0.7777777777777778,\"#fb9f3a\"],[0.8888888888888888,\"#fdca26\"],[1.0,\"#f0f921\"]],\"diverging\":[[0,\"#8e0152\"],[0.1,\"#c51b7d\"],[0.2,\"#de77ae\"],[0.3,\"#f1b6da\"],[0.4,\"#fde0ef\"],[0.5,\"#f7f7f7\"],[0.6,\"#e6f5d0\"],[0.7,\"#b8e186\"],[0.8,\"#7fbc41\"],[0.9,\"#4d9221\"],[1,\"#276419\"]]},\"xaxis\":{\"gridcolor\":\"white\",\"linecolor\":\"white\",\"ticks\":\"\",\"title\":{\"standoff\":15},\"zerolinecolor\":\"white\",\"automargin\":true,\"zerolinewidth\":2},\"yaxis\":{\"gridcolor\":\"white\",\"linecolor\":\"white\",\"ticks\":\"\",\"title\":{\"standoff\":15},\"zerolinecolor\":\"white\",\"automargin\":true,\"zerolinewidth\":2},\"scene\":{\"xaxis\":{\"backgroundcolor\":\"#E5ECF6\",\"gridcolor\":\"white\",\"linecolor\":\"white\",\"showbackground\":true,\"ticks\":\"\",\"zerolinecolor\":\"white\",\"gridwidth\":2},\"yaxis\":{\"backgroundcolor\":\"#E5ECF6\",\"gridcolor\":\"white\",\"linecolor\":\"white\",\"showbackground\":true,\"ticks\":\"\",\"zerolinecolor\":\"white\",\"gridwidth\":2},\"zaxis\":{\"backgroundcolor\":\"#E5ECF6\",\"gridcolor\":\"white\",\"linecolor\":\"white\",\"showbackground\":true,\"ticks\":\"\",\"zerolinecolor\":\"white\",\"gridwidth\":2}},\"shapedefaults\":{\"line\":{\"color\":\"#2a3f5f\"}},\"annotationdefaults\":{\"arrowcolor\":\"#2a3f5f\",\"arrowhead\":0,\"arrowwidth\":1},\"geo\":{\"bgcolor\":\"white\",\"landcolor\":\"#E5ECF6\",\"subunitcolor\":\"white\",\"showland\":true,\"showlakes\":true,\"lakecolor\":\"white\"},\"title\":{\"x\":0.05},\"mapbox\":{\"style\":\"light\"}}},\"xaxis\":{\"title\":{\"text\":\"Attributes\"},\"tickangle\":45},\"title\":{\"text\":\"Player Attributes\"},\"yaxis\":{\"title\":{\"text\":\"Player Names\"}},\"autosize\":true,\"height\":600,\"width\":1200},                        {\"responsive\": true}                    ).then(function(){\n",
       "                            \n",
       "var gd = document.getElementById('bb07fe8f-8805-4122-a192-a80d339faf7f');\n",
       "var x = new MutationObserver(function (mutations, observer) {{\n",
       "        var display = window.getComputedStyle(gd).display;\n",
       "        if (!display || display === 'none') {{\n",
       "            console.log([gd, 'removed!']);\n",
       "            Plotly.purge(gd);\n",
       "            observer.disconnect();\n",
       "        }}\n",
       "}});\n",
       "\n",
       "// Listen for the removal of the full notebook cells\n",
       "var notebookContainer = gd.closest('#notebook-container');\n",
       "if (notebookContainer) {{\n",
       "    x.observe(notebookContainer, {childList: true});\n",
       "}}\n",
       "\n",
       "// Listen for the clearing of the current output cell\n",
       "var outputEl = gd.closest('.output');\n",
       "if (outputEl) {{\n",
       "    x.observe(outputEl, {childList: true});\n",
       "}}\n",
       "\n",
       "                        })                };            </script>        </div>"
      ]
     },
     "metadata": {},
     "output_type": "display_data"
    }
   ],
   "execution_count": 101
  },
  {
   "metadata": {
    "ExecuteTime": {
     "end_time": "2025-05-22T17:29:37.243379Z",
     "start_time": "2025-05-22T17:29:37.227345Z"
    }
   },
   "cell_type": "code",
   "source": [
    "# for forward\n",
    "create_heatmap(fw_players)"
   ],
   "id": "f89333c555b671d7",
   "outputs": [
    {
     "data": {
      "text/html": [
       "        <script type=\"text/javascript\">\n",
       "        window.PlotlyConfig = {MathJaxConfig: 'local'};\n",
       "        if (window.MathJax && window.MathJax.Hub && window.MathJax.Hub.Config) {window.MathJax.Hub.Config({SVG: {font: \"STIX-Web\"}});}\n",
       "        </script>\n",
       "        <script type=\"module\">import \"https://cdn.plot.ly/plotly-3.0.1.min\"</script>\n",
       "        "
      ]
     },
     "metadata": {},
     "output_type": "display_data"
    },
    {
     "data": {
      "text/html": [
       "<div>            <script src=\"https://cdnjs.cloudflare.com/ajax/libs/mathjax/2.7.5/MathJax.js?config=TeX-AMS-MML_SVG\"></script><script type=\"text/javascript\">if (window.MathJax && window.MathJax.Hub && window.MathJax.Hub.Config) {window.MathJax.Hub.Config({SVG: {font: \"STIX-Web\"}});}</script>                <script type=\"text/javascript\">window.PlotlyConfig = {MathJaxConfig: 'local'};</script>\n",
       "        <script charset=\"utf-8\" src=\"https://cdn.plot.ly/plotly-3.0.1.min.js\"></script>                <div id=\"cc92f9d5-4d65-48f6-842b-827f9dbe3daf\" class=\"plotly-graph-div\" style=\"height:600px; width:1200px;\"></div>            <script type=\"text/javascript\">                window.PLOTLYENV=window.PLOTLYENV || {};                                if (document.getElementById(\"cc92f9d5-4d65-48f6-842b-827f9dbe3daf\")) {                    Plotly.newPlot(                        \"cc92f9d5-4d65-48f6-842b-827f9dbe3daf\",                        [{\"colorbar\":{\"title\":{\"text\":\"Attribute Value\"}},\"colorscale\":[[0.0,\"rgb(247,252,245)\"],[0.125,\"rgb(229,245,224)\"],[0.25,\"rgb(199,233,192)\"],[0.375,\"rgb(161,217,155)\"],[0.5,\"rgb(116,196,118)\"],[0.625,\"rgb(65,171,93)\"],[0.75,\"rgb(35,139,69)\"],[0.875,\"rgb(0,109,44)\"],[1.0,\"rgb(0,68,27)\"]],\"hovertemplate\":\"Player: %{x}\\u003cbr\\u003eAttribute: %{y}\\u003cbr\\u003eValue: %{z}\\u003cextra\\u003e\\u003c\\u002fextra\\u003e\",\"x\":[\"acceleration\",\"aggression\",\"agility\",\"balance\",\"ball_control\",\"crossing\",\"curve\",\"dribbling\",\"finishing\",\"free_kick_accuracy\",\"gk_diving\",\"gk_handling\",\"gk_kicking\",\"gk_positioning\",\"gk_reflexes\",\"heading_accuracy\",\"interceptions\",\"jumping\",\"long_passing\",\"long_shots\",\"marking\",\"overall_rating\",\"penalties\",\"positioning\",\"potential\",\"potential_rating_ratio\",\"reactions\",\"short_passing\",\"shot_power\",\"sliding_tackle\",\"sprint_speed\",\"stamina\",\"standing_tackle\",\"strength\",\"vision\",\"volleys\"],\"y\":[\"Alvaro Vazquez\",\"Burgui\",\"Cristian Stuani\",\"Felipe Caicedo\",\"Gabriel Torje\",\"Gerard Moreno\",\"Hernan Perez\",\"Ivan Alonso\",\"Jhon Cordoba\",\"Jose Maria Callejon\",\"Kalu Uche\",\"Luis Garcia\",\"Manu Lanzarote\",\"Marco Asensio\",\"Pablo Osvaldo\",\"Raul Tamudo\",\"Rui Fonte\",\"Samuele Longo\",\"Sergio Garcia\",\"Simao\",\"Thievy Bifouma\",\"Valdo\"],\"z\":{\"dtype\":\"f8\",\"bdata\":\"AAAAAACgUUBmZmZmZqZPQJqZmZmZ2VFAAAAAAADgUEDNzMzMzCxTQGZmZmZmJklAAAAAAACgUEAzMzMzMyNSQM3MzMzMfFJAZmZmZmamSkAzMzMzMzMZQJqZmZmZmS5AMzMzMzMzGUCamZmZmZkgQJqZmZmZmSpAAAAAAADgUUBmZmZmZiZCQM3MzMzMjFFAZmZmZmamSkBmZmZmZqZQQDMzMzMzMzBAMzMzMzMzUkAAAAAAACBQQDMzMzMzE1NAMzMzMzPTU0D9k753FD1bQAAAAAAAAFJAzczMzMyMS0DNzMzMzMxSQM3MzMzMTDhAzczMzMyMUkBmZmZmZjZQQGZmZmZmJkNAmpmZmZmZUUBmZmZmZsZMQAAAAAAA4FBAG8prKK+hT0CvobyG8hpAQF5DeQ3lNUpAAAAAAAAAT0B5DeU1lFdSQK+hvIbymk5AXkN5DeW1TEBsKK+hvIZSQL2G8hrK61BAeQ3lNZTXTEB5DeU1lNcUQHkN5TWU1xxAvYbyGsprIkC9hvIaymsmQL2G8hrKayJAlNdQXkP5S0DzGsprKK82QNhQXkN5DUlA5TWU11BeTkAor6G8hrJQQF5DeQ3lNTdAUV5DeQ0lUEDKayivobxPQFFeQ3kNZU1ANpTXUF7DUkDtLwLqDRhdQPMaymsor0tA8xrKayhvUEBDeQ3lNZRKQF5DeQ3lNTRAG8prKK8hT0CvobyG8hpIQF5DeQ3lNTtAQ3kN5TWUR0CH8hrKayhQQF5DeQ3lNUlAFDuxEzsxUUA7sRM7sbNRQNmJndiJnVBA7MRO7MTOT0A7sRM7sdNQQJ7YiZ3YiU5AntiJndjJT0A7sRM7sVNQQMVO7MRO7FFAAAAAAACATEAUO7ETO7ErQOzETuzETi1A2Ymd2ImdL0BP7MRO7EQwQNmJndiJnSNAntiJndhJU0BiJ3ZiJ\\u002fZDQJ7YiZ3YCVRAsRM7sRP7SkCKndiJnVhOQJ7YiZ3YiTtA2Ymd2IndUUB2Yid2YmdTQMVO7MROzFJA7MRO7MSOUkDmd1zwNPpZQDuxEzuxM1NAip3YiZ0YT0CKndiJnZhTQIqd2Imd2EBAsRM7sRMbUkAAAAAAAIBTQDuxEzuxk0NAJ3ZiJ3bCUkDZiZ3Yid1PQDuxEzuxs1JADMMwDMPwUUDoeZ7neZ5SQD3P8zzPs1BAGIZhGIahUUB6nud5nmdSQDEMwzAMQ01APc\\u002fzPM\\u002fzTkCGYRiGYVhSQAAAAAAAgFJAJUmSJEkSUEAlSZIkSZIcQAzDMAzDMC5AAAAAAAAANUDbtm3btm0nQAzDMAzDMCpAYhiGYRjGUEBVVVVVVdVDQEmSJEmSpFJAVVVVVVXVSUBiGIZhGAZQQDEMwzAMQ0JAGIZhGIZhUkBVVVVVVRVRQAzDMAzDcFJA9DzP8zwPVEAlDF6XJWNbQJIkSZIkyVFAMQzDMAzDUECSJEmSJMlTQOh5nud5nkJA27Zt27YtU0BVVVVVVdVQQLdt27ZtW0VAMQzDMAyDVUBu27Zt27ZQQIZhGIZh2FFAFDuxEzuRVEBP7MRO7IRQQHZiJ3ZiB1VAJ3ZiJ3aCVUAUO7ETO1FSQGIndmIntlFAO7ETO7GTUkCe2Imd2ClTQDuxEzuxU1BA7MRO7MROU0AndmIndmIqQCd2Yid2YiBAJ3ZiJ3ZiLEAndmIndmIkQCd2Yid2YiZAFDuxEzsxT0AndmIndmJDQE\\u002fsxE7sJFFAO7ETO7HTT0BiJ3ZiJ7ZQQE\\u002fsxE7sREBAT+zETuwkUkDsxE7sxE5SQLETO7ETm1NAYid2YieWU0DLxgGq\\u002fP5aQMVO7MROrFJAxU7sxE7sUECxEzuxE3tSQJ7YiZ3YiURAip3YiZ34U0AndmIndoJRQCd2Yid24kRAJ3ZiJ3ZiSEB2Yid2YudOQDuxEzuxk05AS0tLS0uLUUCIh4eHhwdCQA8PDw8Pz1FAtbS0tLR0UUDEw8PDw8NQQFpaWlpa2kpAiIeHh4cHSkB4eHh4eDhQQIiHh4eHx1FAPDw8PDw8REB4eHh4eHgsQHh4eHh4eCZA8fDw8PDwGEB4eHh4eHgmQHh4eHh4eCJA09LS0tLSTEB4eHh4eHg6QGlpaWlp6VFADw8PDw+PREDx8PDw8PBNQGlpaWlpaTtAxMPDw8PDUECIh4eHh4dRQAAAAAAAwFFA4uHh4eGhUkAP5pGnu9RbQNPS0tLS0lBA4uHh4eFhTEC1tLS0tDRSQGlpaWlpaTtAl5aWlpbWUEAtLS0tLa1PQHh4eHh4eDlAl5aWlpYWUEBpaWlpaelJQIiHh4eHh01AAAAAAABgU0C3bdu2bUtRQJIkSZIkKVNASZIkSZIkUUAlSZIkSfJRQLdt27ZtW1BAAAAAAABATkC3bdu2bdtSQJIkSZIk2VBAJUmSJEkSSUC3bdu2bdsnQLdt27Zt2ypAJUmSJEkSMkDbtm3btu0hQNu2bdu2bS5AAAAAAAAASkAlSZIkSVJEQAAAAAAA0FJASZIkSZJkTkCSJEmSJBlSQEmSJEmSJDVAAAAAAACQUUAAAAAAAMBIQJIkSZIkGVJAAAAAAAAQU0DFS2eSEixbQAAAAAAA4FBAt23btm0rUEC3bdu2bZtTQNu2bdu2rTBAt23btm27U0Bu27Zt29ZSQEmSJEmSpDZA27Zt27ZtUEAAAAAAAMBPQCVJkiRJckxAvLu7u7s7TkAzMzMzMzNTQAAAAAAAgFBA3t3d3d1dUUB3d3d3d3dSQHd3d3d3901AAAAAAACAT0Dv7u7u7m5QQN7d3d3dnVJAAAAAAACATUCamZmZmZklQLy7u7u7uy1AvLu7u7u7P0BmZmZmZmYxQCIiIiIiIjBAMzMzMzNzU0AzMzMzM7NBQHd3d3d3t1NAq6qqqqoqT0C8u7u7uztPQGZmZmZmZjBAmpmZmZkZUkDe3d3d3R1QQEREREREBFNA3t3d3d2dUkApftKWPrNZQN7d3d3dnVJAVVVVVVVVUECamZmZmdlSQAAAAAAAACxARERERESEUEDNzMzMzMxOQDMzMzMzMy9AMzMzMzOzUUAAAAAAAABOQFVVVVVVVVJA9ihcj8K1UkAK16NwPYpPQD0K16NwPVFA4XoUrkfhT0AK16NwPYpQQHsUrkfh+kpAexSuR+F6S0CkcD0K1yNRQKRwPQrX41FAexSuR+F6SkD2KFyPwvUmQPYoXI\\u002fC9ShA9ihcj8L1KEDsUbgehesZQOxRuB6F6x1A9ihcj8J1UUDhehSuR2FDQHE9CtejcFBAexSuR+F6SkDsUbgehetOQPYoXI\\u002fC9TpAhetRuB7FUUA9CtejcP1RQGZmZmZmJlFAhetRuB6FU0AXafBMGnpbQK5H4XoU7lBA4XoUrkdhT0A9CtejcP1SQGZmZmZmZjtAzczMzMwMVED2KFyPwjVRQJqZmZmZmTpAAAAAAADAVUCkcD0K16NNQArXo3A9SlJAXkN5DeXVVUBeQ3kN5fVJQOU1lNdQHlRAoryG8hoKU0DYUF5Dec1TQEN5DeU11FBAymsor6HcUEBsKK+hvKZTQKK8hvIaalJAvYbyGsrrUECvobyG8hogQK+hvIbyGhxAvYbyGsrrMUCU11BeQ3koQJTXUF5DeShAXkN5DeU1TEAAAAAAAABBQOU1lNdQPlJA5TWU11CeSEBRXkN5DUVSQL2G8hrK6zRANpTXUF5DU0BRXkN5DSVQQFFeQ3kNZVRA2FBeQ3ktVEA9iFu4ZFNaQJTXUF5DmVNAeQ3lNZQXUkCU11BeQ7lTQPMaymsoLzdAG8prKK\\u002fhVUCH8hrKa6hTQF5DeQ3ltTVAlNdQXkN5SkCvobyG8hpTQGwor6G8BlJAAAAAAACUVEAAAAAAABBQQAAAAAAA4FRAAAAAAABoUkAAAAAAALRSQAAAAAAA4E9AAAAAAAC4TEAAAAAAAARSQAAAAAAAUFFAAAAAAADATEAAAAAAAOAiQAAAAAAAwC5AAAAAAADQN0AAAAAAAKArQAAAAAAAQCZAAAAAAACsU0AAAAAAAFBFQAAAAAAAOFdAAAAAAABQSUAAAAAAAFhLQAAAAAAAUDxAAAAAAAB8UkAAAAAAAMBMQAAAAAAA2FFAAAAAAAC4UkCwtKqBclNZQAAAAAAApFNAAAAAAAAwUUAAAAAAAKxTQAAAAAAA4D1AAAAAAABAU0AAAAAAANxRQAAAAAAAeERAAAAAAACMU0AAAAAAAEBOQAAAAAAAeFFAAAAAAAC2UkAAAAAAALxQQAAAAAAAulJAAAAAAADMUUAAAAAAAM5TQAAAAAAAXFJAAAAAAACyUkAAAAAAAPhSQAAAAAAAbFJAAAAAAABoUkAAAAAAABAnQAAAAAAA4ClAAAAAAACQOEAAAAAAAAAuQAAAAAAAcCZAAAAAAAD4T0AAAAAAAERDQAAAAAAAZFFAAAAAAADATkAAAAAAAGZSQAAAAAAAEDtAAAAAAACIUkAAAAAAADpTQAAAAAAAXFJAAAAAAAAsU0AYsQWGztZZQAAAAAAAxlFAAAAAAADYUUAAAAAAAIJSQAAAAAAAgDdAAAAAAADEUkAAAAAAAHRQQAAAAAAAjEBAAAAAAAACUUAAAAAAAFJQQAAAAAAAkFFAWlpaWlraUEAAAAAAAIBRQKalpaWl5VBAHh4eHh5eUUDx8PDw8HBSQKalpaWl5VJAtbS0tLR0VEDx8PDw8DBSQKalpaWlZVFALS0tLS3tUkAAAAAAAAAcQAAAAAAAACpAAAAAAAAAHEAAAAAAAAAYQAAAAAAAABxAAAAAAACARkAAAAAAAAA7QPHw8PDwcEpA09LS0tLSUEAPDw8PDw9SQAAAAAAAAEBA4uHh4eGhUUBLS0tLS0tTQDw8PDw8fFJAPDw8PDy8UUDoQFlcWCdZQAAAAAAAwFBADw8PDw9PUEAtLS0tLe1QQAAAAAAAADpAeHh4eHh4UUDEw8PDw4NRQAAAAAAAAD5AAAAAAAAATUB4eHh4eDhRQHh4eHh4+E1AAAAAAACAUEAzMzMzMzNGQPYoXI\\u002fCdVBAhetRuB6FUkAK16NwPcpRQDMzMzMzM1BArkfhehQuTkA9CtejcL1QQOxRuB6F60lAUrgehetRSkBSuB6F61EoQFK4HoXrUSBApHA9CtejFEBSuB6F61EmQFK4HoXrUSJAFK5H4XoUR0AUrkfhehQ+QB+F61G4HktAzczMzMxMUUA9CtejcD1IQJqZmZmZGUFAH4XrUbieUECPwvUoXA9MQD0K16NwPU1Aw\\u002fUoXI8CU0DJscJcBZFcQClcj8L1qE9ACtejcD2KUkBxPQrXo\\u002fBLQIXrUbgeBUZAuB6F61E4T0CamZmZmRlNQJqZmZmZGURAFK5H4XqUSkAUrkfhelRRQI\\u002fC9ShcD0lAAAAAAADwUUBmZmZmZt5RQDMzMzMza1NAmpmZmZlZUUDNzMzMzOxTQM3MzMzMDExAZmZmZmZ+UEBmZmZmZo5TQAAAAAAA+FNAmpmZmZnZSUCamZmZmRkhQJqZmZmZWSRAmpmZmZlZLkAAAAAAAAAfQDMzMzMzMyJAZmZmZmb+U0AAAAAAABBAQJqZmZmZoVNAzczMzMyMSEDNzMzMzFxQQDMzMzMzUzJAZmZmZmZOU0DNzMzMzFxTQJqZmZmZwVNAAAAAAADYU0DYL3OmobhZQJqZmZmZqVJAmpmZmZk5UUDNzMzMzKRTQAAAAAAAADZAMzMzMzP7UUAzMzMzMxtSQDMzMzMzMzhAzczMzMxEU0AAAAAAAChRQDMzMzMza1RA27Zt27atUECGYRiGYZhOQJ7neZ7n+VBAkiRJkiTJUUDoeZ7neV5TQMMwDMMwjE9AYhiGYRhGUkAAAAAAAEBSQCVJkiRJElNAAAAAAACATkCrqqqqqqooQGIYhmEYhi9AwzAMwzAMNkD0PM\\u002fzPM8pQJ7neZ7neSBAbtu2bdu2TkBVVVVVVVVGQEmSJEmSpExAMQzDMAxDTUB6nud5nudQQCVJkiRJkjNAnud5nuc5UkDP8zzP87xQQG7btm3btlRAYhiGYRjGUkACtxBz67ZZQMMwDMMwzFNAGIZhGIahUUDP8zzP8zxRQKuqqqqqqjRAkiRJkiTJUEBu27Zt27ZKQNu2bdu2bTdAJUmSJEmST0A9z\\u002fM8z7NSQAAAAAAAAFFAb3rTm950U0Df9KY3velFQN\\u002f0pje9KVNAFrKQhSzkT0Df9KY3valSQDi96U1v+kxAIQtZyEKWUkAhC1nIQhZSQG9605veNFFALWQhC1lIT0DIQhaykIUoQC1kIQtZyCZA9aY3velNMkCRhSxkIQsvQEMWspCFLCBA6k1vetObTUDTm970pjdCQCELWchC1lFAb3rTm970RkDTm970prdOQGQhC1nIwkFA05ve9KY3UUA4velNb\\u002fpPQBaykIUs5FBAyEIWspDFUkBNZ3qwI0xbQC1kIQtZiFFAvelNb3pTTUBOb3rTm15RQPWmN73pTTtAFrKQhSykUkDIQhaykAVRQDi96U1vekFAZCELWchCT0Df9KY3velLQC1kIQtZCFFAOY7jOI6jUUDkOI7jOA5KQMdxHMdxXFFA5DiO4zjOUEBfQnsJ7SVSQKG9hPYSWkZAjuM4juM4T0AAAAAAAMBQQAAAAAAAQFJAhfYS2ktoRUAmtJfQXkIbQCa0l9BeQh9AE9pLaC+hKUAT2ktoL6EjQBPaS2gvoStAq6qqqqrqUEAvob2E9hI0QPcS2kto71FAob2E9hLaQUAvob2E9pJQQFVVVVVVVTRAchzHcRxHUUCF9hLaS2hRQJjQXkJ7iVFAHMdxHMfxU0CVtj5+LOBcQExoL6G9hE9AvoT2EtrLSkCY0F5Ce4lQQHsJ7SW0lzRAq6qqqqrqUUAT2ktoL6FPQCa0l9BeQjdAchzHcRxHUUBVVVVVVVVHQI7jOI7juFFAchzHcRxHU0A5juM4jqNOQDmO4ziO41BA5DiO4zgOUkCO4ziO4\\u002fhTQMdxHMdxvFFAHMdxHMfxU0BVVVVVVfVTQKuqqqqqSlNAx3Ecx3F8UEDkOI7jOI4lQOQ4juM4jiJAVVVVVVXVOkDHcRzHcRwvQFVVVVVVVStAx3Ecx3E8UECrqqqqqmpEQKuqqqqqqkxAAAAAAACAUECO4ziO45hSQKuqqqqqqjVAx3Ecx3H8UkA5juM4jmNSQFVVVVVVNVRAchzHcRyHU0DZPuR7J7VZQI7jOI7jeFNAVVVVVVV1UkCO4ziO4zhSQAAAAAAAADtAjuM4juMYU0CrqqqqqipPQKuqqqqqqj1AVVVVVVXVUEDkOI7jOA5SQI7jOI7j+FFAAAAAAABAU0ApXI\\u002fC9ahSQDMzMzMzU1NAXI\\u002fC9Sh8UkAK16NwPepRQJqZmZmZmU5A9ihcj8L1T0DXo3A9CrdQQNejcD0K10dAuB6F61E4TEBcj8L1KFwgQHE9CtejcCZAPQrXo3C9NkBmZmZmZmYlQNejcD0K1yxAPQrXo3B9TEDD9Shcj+JQQClcj8L16FJA16NwPQqXUEDhehSuR2FLQM3MzMzMTEpAj8L1KFyPUkDNzMzMzIxOQD0K16NwfUtAw\\u002fUoXI+CU0A9uOGMUFNaQClcj8L1KFJAPQrXo3D9UUBcj8L1KNxPQGZmZmZmJkxArkfhehTuUkDD9Shcj4JSQClcj8L1qE5AAAAAAABAUUApXI\\u002fC9WhQQPYoXI\\u002fCtU1AAAAAAABgVkCe2Imd2AlPQNmJndiJ\\u002fVVAip3YiZ2YUkDZiZ3Yid1RQJ7YiZ3YCUtAYid2Yif2SECe2Imd2OlRQDuxEzuxc1FA2Ymd2IkdRkBiJ3ZiJ3YqQGIndmIndiZAYid2Yid2JkBiJ3ZiJ3YiQGIndmIndiBAFDuxEzuxS0CxEzuxE7tAQJ7YiZ3YiVVA2Ymd2IkdQkB2Yid2YmdPQE\\u002fsxE7sRDRA7MRO7MTOUUDFTuzETuxKQBQ7sRM78VFAFDuxEztxU0Dq3BOkrFBbQGIndmInllJA7MRO7MROTEDZiZ3Yib1UQMVO7MRObDVAsRM7sRNbVkAAAAAAAGBRQMVO7MRO7DNAxU7sxE6MUUCe2Imd2IlMQMVO7MRO7E5ANpTXUF6DU0DKayivoTxKQL2G8hrK61JAeQ3lNZQXUUCH8hrKa+hSQOU1lNdQHlNAUV5DeQ2lUUDYUF5Dec1SQPMaymsob1FANpTXUF5DUEAN5TWU11AqQFFeQ3kN5S9AvYbyGsprOUAbymsor6EwQK+hvIbyGjBA5TWU11DeTkDYUF5DeQ1GQNhQXkN5TVFAAAAAAACAT0DKayivoTxQQEN5DeU1lD1AlNdQXkM5UkDlNZTXUB5QQHkN5TWUV1JAeQ3lNZSXUkDNscjMhX5ZQMprKK+hPFFA2FBeQ3lNUUCU11BeQ3lRQK+hvIbyGjtAvYbyGsorVEBDeQ3lNZRPQJTXUF5DeTxADeU1lNfQUECivIbyGopRQIfyGsprqE9A\",\"shape\":\"22, 36\"},\"type\":\"heatmap\"}],                        {\"template\":{\"data\":{\"histogram2dcontour\":[{\"type\":\"histogram2dcontour\",\"colorbar\":{\"outlinewidth\":0,\"ticks\":\"\"},\"colorscale\":[[0.0,\"#0d0887\"],[0.1111111111111111,\"#46039f\"],[0.2222222222222222,\"#7201a8\"],[0.3333333333333333,\"#9c179e\"],[0.4444444444444444,\"#bd3786\"],[0.5555555555555556,\"#d8576b\"],[0.6666666666666666,\"#ed7953\"],[0.7777777777777778,\"#fb9f3a\"],[0.8888888888888888,\"#fdca26\"],[1.0,\"#f0f921\"]]}],\"choropleth\":[{\"type\":\"choropleth\",\"colorbar\":{\"outlinewidth\":0,\"ticks\":\"\"}}],\"histogram2d\":[{\"type\":\"histogram2d\",\"colorbar\":{\"outlinewidth\":0,\"ticks\":\"\"},\"colorscale\":[[0.0,\"#0d0887\"],[0.1111111111111111,\"#46039f\"],[0.2222222222222222,\"#7201a8\"],[0.3333333333333333,\"#9c179e\"],[0.4444444444444444,\"#bd3786\"],[0.5555555555555556,\"#d8576b\"],[0.6666666666666666,\"#ed7953\"],[0.7777777777777778,\"#fb9f3a\"],[0.8888888888888888,\"#fdca26\"],[1.0,\"#f0f921\"]]}],\"heatmap\":[{\"type\":\"heatmap\",\"colorbar\":{\"outlinewidth\":0,\"ticks\":\"\"},\"colorscale\":[[0.0,\"#0d0887\"],[0.1111111111111111,\"#46039f\"],[0.2222222222222222,\"#7201a8\"],[0.3333333333333333,\"#9c179e\"],[0.4444444444444444,\"#bd3786\"],[0.5555555555555556,\"#d8576b\"],[0.6666666666666666,\"#ed7953\"],[0.7777777777777778,\"#fb9f3a\"],[0.8888888888888888,\"#fdca26\"],[1.0,\"#f0f921\"]]}],\"contourcarpet\":[{\"type\":\"contourcarpet\",\"colorbar\":{\"outlinewidth\":0,\"ticks\":\"\"}}],\"contour\":[{\"type\":\"contour\",\"colorbar\":{\"outlinewidth\":0,\"ticks\":\"\"},\"colorscale\":[[0.0,\"#0d0887\"],[0.1111111111111111,\"#46039f\"],[0.2222222222222222,\"#7201a8\"],[0.3333333333333333,\"#9c179e\"],[0.4444444444444444,\"#bd3786\"],[0.5555555555555556,\"#d8576b\"],[0.6666666666666666,\"#ed7953\"],[0.7777777777777778,\"#fb9f3a\"],[0.8888888888888888,\"#fdca26\"],[1.0,\"#f0f921\"]]}],\"surface\":[{\"type\":\"surface\",\"colorbar\":{\"outlinewidth\":0,\"ticks\":\"\"},\"colorscale\":[[0.0,\"#0d0887\"],[0.1111111111111111,\"#46039f\"],[0.2222222222222222,\"#7201a8\"],[0.3333333333333333,\"#9c179e\"],[0.4444444444444444,\"#bd3786\"],[0.5555555555555556,\"#d8576b\"],[0.6666666666666666,\"#ed7953\"],[0.7777777777777778,\"#fb9f3a\"],[0.8888888888888888,\"#fdca26\"],[1.0,\"#f0f921\"]]}],\"mesh3d\":[{\"type\":\"mesh3d\",\"colorbar\":{\"outlinewidth\":0,\"ticks\":\"\"}}],\"scatter\":[{\"fillpattern\":{\"fillmode\":\"overlay\",\"size\":10,\"solidity\":0.2},\"type\":\"scatter\"}],\"parcoords\":[{\"type\":\"parcoords\",\"line\":{\"colorbar\":{\"outlinewidth\":0,\"ticks\":\"\"}}}],\"scatterpolargl\":[{\"type\":\"scatterpolargl\",\"marker\":{\"colorbar\":{\"outlinewidth\":0,\"ticks\":\"\"}}}],\"bar\":[{\"error_x\":{\"color\":\"#2a3f5f\"},\"error_y\":{\"color\":\"#2a3f5f\"},\"marker\":{\"line\":{\"color\":\"#E5ECF6\",\"width\":0.5},\"pattern\":{\"fillmode\":\"overlay\",\"size\":10,\"solidity\":0.2}},\"type\":\"bar\"}],\"scattergeo\":[{\"type\":\"scattergeo\",\"marker\":{\"colorbar\":{\"outlinewidth\":0,\"ticks\":\"\"}}}],\"scatterpolar\":[{\"type\":\"scatterpolar\",\"marker\":{\"colorbar\":{\"outlinewidth\":0,\"ticks\":\"\"}}}],\"histogram\":[{\"marker\":{\"pattern\":{\"fillmode\":\"overlay\",\"size\":10,\"solidity\":0.2}},\"type\":\"histogram\"}],\"scattergl\":[{\"type\":\"scattergl\",\"marker\":{\"colorbar\":{\"outlinewidth\":0,\"ticks\":\"\"}}}],\"scatter3d\":[{\"type\":\"scatter3d\",\"line\":{\"colorbar\":{\"outlinewidth\":0,\"ticks\":\"\"}},\"marker\":{\"colorbar\":{\"outlinewidth\":0,\"ticks\":\"\"}}}],\"scattermap\":[{\"type\":\"scattermap\",\"marker\":{\"colorbar\":{\"outlinewidth\":0,\"ticks\":\"\"}}}],\"scattermapbox\":[{\"type\":\"scattermapbox\",\"marker\":{\"colorbar\":{\"outlinewidth\":0,\"ticks\":\"\"}}}],\"scatterternary\":[{\"type\":\"scatterternary\",\"marker\":{\"colorbar\":{\"outlinewidth\":0,\"ticks\":\"\"}}}],\"scattercarpet\":[{\"type\":\"scattercarpet\",\"marker\":{\"colorbar\":{\"outlinewidth\":0,\"ticks\":\"\"}}}],\"carpet\":[{\"aaxis\":{\"endlinecolor\":\"#2a3f5f\",\"gridcolor\":\"white\",\"linecolor\":\"white\",\"minorgridcolor\":\"white\",\"startlinecolor\":\"#2a3f5f\"},\"baxis\":{\"endlinecolor\":\"#2a3f5f\",\"gridcolor\":\"white\",\"linecolor\":\"white\",\"minorgridcolor\":\"white\",\"startlinecolor\":\"#2a3f5f\"},\"type\":\"carpet\"}],\"table\":[{\"cells\":{\"fill\":{\"color\":\"#EBF0F8\"},\"line\":{\"color\":\"white\"}},\"header\":{\"fill\":{\"color\":\"#C8D4E3\"},\"line\":{\"color\":\"white\"}},\"type\":\"table\"}],\"barpolar\":[{\"marker\":{\"line\":{\"color\":\"#E5ECF6\",\"width\":0.5},\"pattern\":{\"fillmode\":\"overlay\",\"size\":10,\"solidity\":0.2}},\"type\":\"barpolar\"}],\"pie\":[{\"automargin\":true,\"type\":\"pie\"}]},\"layout\":{\"autotypenumbers\":\"strict\",\"colorway\":[\"#636efa\",\"#EF553B\",\"#00cc96\",\"#ab63fa\",\"#FFA15A\",\"#19d3f3\",\"#FF6692\",\"#B6E880\",\"#FF97FF\",\"#FECB52\"],\"font\":{\"color\":\"#2a3f5f\"},\"hovermode\":\"closest\",\"hoverlabel\":{\"align\":\"left\"},\"paper_bgcolor\":\"white\",\"plot_bgcolor\":\"#E5ECF6\",\"polar\":{\"bgcolor\":\"#E5ECF6\",\"angularaxis\":{\"gridcolor\":\"white\",\"linecolor\":\"white\",\"ticks\":\"\"},\"radialaxis\":{\"gridcolor\":\"white\",\"linecolor\":\"white\",\"ticks\":\"\"}},\"ternary\":{\"bgcolor\":\"#E5ECF6\",\"aaxis\":{\"gridcolor\":\"white\",\"linecolor\":\"white\",\"ticks\":\"\"},\"baxis\":{\"gridcolor\":\"white\",\"linecolor\":\"white\",\"ticks\":\"\"},\"caxis\":{\"gridcolor\":\"white\",\"linecolor\":\"white\",\"ticks\":\"\"}},\"coloraxis\":{\"colorbar\":{\"outlinewidth\":0,\"ticks\":\"\"}},\"colorscale\":{\"sequential\":[[0.0,\"#0d0887\"],[0.1111111111111111,\"#46039f\"],[0.2222222222222222,\"#7201a8\"],[0.3333333333333333,\"#9c179e\"],[0.4444444444444444,\"#bd3786\"],[0.5555555555555556,\"#d8576b\"],[0.6666666666666666,\"#ed7953\"],[0.7777777777777778,\"#fb9f3a\"],[0.8888888888888888,\"#fdca26\"],[1.0,\"#f0f921\"]],\"sequentialminus\":[[0.0,\"#0d0887\"],[0.1111111111111111,\"#46039f\"],[0.2222222222222222,\"#7201a8\"],[0.3333333333333333,\"#9c179e\"],[0.4444444444444444,\"#bd3786\"],[0.5555555555555556,\"#d8576b\"],[0.6666666666666666,\"#ed7953\"],[0.7777777777777778,\"#fb9f3a\"],[0.8888888888888888,\"#fdca26\"],[1.0,\"#f0f921\"]],\"diverging\":[[0,\"#8e0152\"],[0.1,\"#c51b7d\"],[0.2,\"#de77ae\"],[0.3,\"#f1b6da\"],[0.4,\"#fde0ef\"],[0.5,\"#f7f7f7\"],[0.6,\"#e6f5d0\"],[0.7,\"#b8e186\"],[0.8,\"#7fbc41\"],[0.9,\"#4d9221\"],[1,\"#276419\"]]},\"xaxis\":{\"gridcolor\":\"white\",\"linecolor\":\"white\",\"ticks\":\"\",\"title\":{\"standoff\":15},\"zerolinecolor\":\"white\",\"automargin\":true,\"zerolinewidth\":2},\"yaxis\":{\"gridcolor\":\"white\",\"linecolor\":\"white\",\"ticks\":\"\",\"title\":{\"standoff\":15},\"zerolinecolor\":\"white\",\"automargin\":true,\"zerolinewidth\":2},\"scene\":{\"xaxis\":{\"backgroundcolor\":\"#E5ECF6\",\"gridcolor\":\"white\",\"linecolor\":\"white\",\"showbackground\":true,\"ticks\":\"\",\"zerolinecolor\":\"white\",\"gridwidth\":2},\"yaxis\":{\"backgroundcolor\":\"#E5ECF6\",\"gridcolor\":\"white\",\"linecolor\":\"white\",\"showbackground\":true,\"ticks\":\"\",\"zerolinecolor\":\"white\",\"gridwidth\":2},\"zaxis\":{\"backgroundcolor\":\"#E5ECF6\",\"gridcolor\":\"white\",\"linecolor\":\"white\",\"showbackground\":true,\"ticks\":\"\",\"zerolinecolor\":\"white\",\"gridwidth\":2}},\"shapedefaults\":{\"line\":{\"color\":\"#2a3f5f\"}},\"annotationdefaults\":{\"arrowcolor\":\"#2a3f5f\",\"arrowhead\":0,\"arrowwidth\":1},\"geo\":{\"bgcolor\":\"white\",\"landcolor\":\"#E5ECF6\",\"subunitcolor\":\"white\",\"showland\":true,\"showlakes\":true,\"lakecolor\":\"white\"},\"title\":{\"x\":0.05},\"mapbox\":{\"style\":\"light\"}}},\"xaxis\":{\"title\":{\"text\":\"Attributes\"},\"tickangle\":45},\"title\":{\"text\":\"Player Attributes\"},\"yaxis\":{\"title\":{\"text\":\"Player Names\"}},\"autosize\":true,\"height\":600,\"width\":1200},                        {\"responsive\": true}                    ).then(function(){\n",
       "                            \n",
       "var gd = document.getElementById('cc92f9d5-4d65-48f6-842b-827f9dbe3daf');\n",
       "var x = new MutationObserver(function (mutations, observer) {{\n",
       "        var display = window.getComputedStyle(gd).display;\n",
       "        if (!display || display === 'none') {{\n",
       "            console.log([gd, 'removed!']);\n",
       "            Plotly.purge(gd);\n",
       "            observer.disconnect();\n",
       "        }}\n",
       "}});\n",
       "\n",
       "// Listen for the removal of the full notebook cells\n",
       "var notebookContainer = gd.closest('#notebook-container');\n",
       "if (notebookContainer) {{\n",
       "    x.observe(notebookContainer, {childList: true});\n",
       "}}\n",
       "\n",
       "// Listen for the clearing of the current output cell\n",
       "var outputEl = gd.closest('.output');\n",
       "if (outputEl) {{\n",
       "    x.observe(outputEl, {childList: true});\n",
       "}}\n",
       "\n",
       "                        })                };            </script>        </div>"
      ]
     },
     "metadata": {},
     "output_type": "display_data"
    }
   ],
   "execution_count": 102
  }
 ],
 "metadata": {
  "kernelspec": {
   "display_name": "Python 3",
   "language": "python",
   "name": "python3"
  },
  "language_info": {
   "codemirror_mode": {
    "name": "ipython",
    "version": 2
   },
   "file_extension": ".py",
   "mimetype": "text/x-python",
   "name": "python",
   "nbconvert_exporter": "python",
   "pygments_lexer": "ipython2",
   "version": "2.7.6"
  }
 },
 "nbformat": 4,
 "nbformat_minor": 5
}
