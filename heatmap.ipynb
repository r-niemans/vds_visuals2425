{
 "cells": [
  {
   "cell_type": "code",
   "id": "initial_id",
   "metadata": {
    "collapsed": true,
    "ExecuteTime": {
     "end_time": "2025-05-22T14:21:33.063858Z",
     "start_time": "2025-05-22T14:21:32.614653Z"
    }
   },
   "source": [
    "import matplotlib.pyplot as plt\n",
    "import seaborn as sns\n",
    "import pandas as pd\n",
    "import numpy as np\n",
    "import plotly.graph_objects as go\n",
    "import re\n",
    "from collections import defaultdict\n",
    "import plotly.io as pio\n",
    "\n",
    "players = pd.read_csv('data/Player.csv')\n",
    "player_atts = pd.read_csv('data/Player_Attributes.csv')\n",
    "teams = pd.read_csv('data/Team.csv')\n",
    "matches = pd.read_csv('data/Match.csv')\n",
    "leagues = pd.read_csv('data/League.csv')\n",
    "positions = pd.read_csv('data/PositionReference.csv')\n",
    "\n",
    "player_atts['potential_rating_ratio'] = ((player_atts['potential'] / player_atts['overall_rating']) * 100)"
   ],
   "outputs": [],
   "execution_count": 2
  },
  {
   "cell_type": "code",
   "outputs": [],
   "source": [
    "teams[teams['team_long_name']=='RCD Espanyol']"
   ],
   "metadata": {
    "collapsed": false
   },
   "id": "5f6999d2e93cd111",
   "execution_count": null
  },
  {
   "cell_type": "code",
   "source": [
    "matches['date'] = pd.to_datetime(matches['date'])\n",
    "rcde_matches = matches[matches['home_team_api_id']== 8558]"
   ],
   "metadata": {
    "collapsed": false,
    "ExecuteTime": {
     "end_time": "2025-05-22T14:27:12.161893Z",
     "start_time": "2025-05-22T14:27:12.031309Z"
    }
   },
   "id": "ef8077129be9d247",
   "outputs": [],
   "execution_count": 10
  },
  {
   "metadata": {
    "ExecuteTime": {
     "end_time": "2025-05-22T14:31:48.811029Z",
     "start_time": "2025-05-22T14:31:48.808042Z"
    }
   },
   "cell_type": "code",
   "source": "filtered_players_rcde = [col for col in rcde_matches.columns if re.match(r'home_player_\\d+$', col)]",
   "id": "f674a95acd83e1a1",
   "outputs": [],
   "execution_count": 12
  },
  {
   "metadata": {
    "ExecuteTime": {
     "end_time": "2025-05-22T14:46:16.925864Z",
     "start_time": "2025-05-22T14:46:16.913702Z"
    }
   },
   "cell_type": "code",
   "source": "rcde_matches",
   "id": "64849ec650563908",
   "outputs": [
    {
     "data": {
      "text/plain": [
       "        id  country_id  league_id     season  stage       date  match_api_id  \\\n",
       "0    21525       21518      21518  2008/2009      1 2008-08-30        530090   \n",
       "1    21540       21518      21518  2008/2009     11 2008-11-16        530245   \n",
       "2    21560       21518      21518  2008/2009     13 2008-11-30        530325   \n",
       "3    21595       21518      21518  2008/2009     16 2008-12-20        530360   \n",
       "4    21611       21518      21518  2008/2009     18 2009-01-11        530376   \n",
       "..     ...         ...        ...        ...    ...        ...           ...   \n",
       "147  24454       21518      21518  2015/2016     34 2016-04-19       2030494   \n",
       "148  24473       21518      21518  2015/2016     36 2016-05-01       2030513   \n",
       "149  24492       21518      21518  2015/2016     38 2016-05-15       2030532   \n",
       "150  24515       21518      21518  2015/2016      5 2015-09-22       2030129   \n",
       "151  24536       21518      21518  2015/2016      7 2015-10-03       2030150   \n",
       "\n",
       "     home_team_api_id  away_team_api_id  home_team_goal  ...  \\\n",
       "0                8558             10281               1  ...   \n",
       "1                8558              8388               3  ...   \n",
       "2                8558              9869               0  ...   \n",
       "3                8558              9906               2  ...   \n",
       "4                8558              9865               2  ...   \n",
       "..                ...               ...             ...  ...   \n",
       "147              8558              9910               1  ...   \n",
       "148              8558              8302               1  ...   \n",
       "149              8558              8372               4  ...   \n",
       "150              8558             10267               1  ...   \n",
       "151              8558              9869               1  ...   \n",
       "\n",
       "     weight_home_player_10_info  home_player_10_position  \\\n",
       "0                           163                     10.0   \n",
       "1                           154                      8.0   \n",
       "2                           152                     10.0   \n",
       "3                           154                      8.0   \n",
       "4                           154                      8.0   \n",
       "..                          ...                      ...   \n",
       "147                         165                     10.0   \n",
       "148                         185                     10.0   \n",
       "149                         154                      8.0   \n",
       "150                         152                      8.0   \n",
       "151                         152                      8.0   \n",
       "\n",
       "     id_home_player_11_info  player_api_id_home_player_11_info  \\\n",
       "0                      6356                              24852   \n",
       "1                      8831                              32764   \n",
       "2                      8831                              32764   \n",
       "3                      5348                             150330   \n",
       "4                      6356                              24852   \n",
       "..                      ...                                ...   \n",
       "147                    6680                             498033   \n",
       "148                    6680                             498033   \n",
       "149                    3774                             246438   \n",
       "150                    3278                              41622   \n",
       "151                    3278                              41622   \n",
       "\n",
       "     player_name_home_player_11_info  player_fifa_api_id_home_player_11_info  \\\n",
       "0                        Luis Garcia                                      16   \n",
       "1                        Raul Tamudo                                    2264   \n",
       "2                        Raul Tamudo                                    2264   \n",
       "3                Jose Maria Callejon                                  185020   \n",
       "4                        Luis Garcia                                      16   \n",
       "..                               ...                                     ...   \n",
       "147                    Marco Asensio                                  220834   \n",
       "148                    Marco Asensio                                  220834   \n",
       "149                    Gerard Moreno                                  208093   \n",
       "150                   Felipe Caicedo                                  175254   \n",
       "151                   Felipe Caicedo                                  175254   \n",
       "\n",
       "     birthday_home_player_11_info  height_home_player_11_info  \\\n",
       "0             1981-02-06 00:00:00                      177.80   \n",
       "1             1977-10-19 00:00:00                      180.34   \n",
       "2             1977-10-19 00:00:00                      180.34   \n",
       "3             1987-02-11 00:00:00                      177.80   \n",
       "4             1981-02-06 00:00:00                      177.80   \n",
       "..                            ...                         ...   \n",
       "147           1996-01-21 00:00:00                      177.80   \n",
       "148           1996-01-21 00:00:00                      177.80   \n",
       "149           1992-04-07 00:00:00                      177.80   \n",
       "150           1988-09-05 00:00:00                      182.88   \n",
       "151           1988-09-05 00:00:00                      182.88   \n",
       "\n",
       "     weight_home_player_11_info  home_player_11_position  \n",
       "0                           152                     10.0  \n",
       "1                           163                     11.0  \n",
       "2                           163                     10.0  \n",
       "3                           161                     11.0  \n",
       "4                           152                     11.0  \n",
       "..                          ...                      ...  \n",
       "147                         154                     10.0  \n",
       "148                         154                     10.0  \n",
       "149                         165                     11.0  \n",
       "150                         185                     11.0  \n",
       "151                         185                     11.0  \n",
       "\n",
       "[152 rows x 242 columns]"
      ],
      "text/html": [
       "<div>\n",
       "<style scoped>\n",
       "    .dataframe tbody tr th:only-of-type {\n",
       "        vertical-align: middle;\n",
       "    }\n",
       "\n",
       "    .dataframe tbody tr th {\n",
       "        vertical-align: top;\n",
       "    }\n",
       "\n",
       "    .dataframe thead th {\n",
       "        text-align: right;\n",
       "    }\n",
       "</style>\n",
       "<table border=\"1\" class=\"dataframe\">\n",
       "  <thead>\n",
       "    <tr style=\"text-align: right;\">\n",
       "      <th></th>\n",
       "      <th>id</th>\n",
       "      <th>country_id</th>\n",
       "      <th>league_id</th>\n",
       "      <th>season</th>\n",
       "      <th>stage</th>\n",
       "      <th>date</th>\n",
       "      <th>match_api_id</th>\n",
       "      <th>home_team_api_id</th>\n",
       "      <th>away_team_api_id</th>\n",
       "      <th>home_team_goal</th>\n",
       "      <th>...</th>\n",
       "      <th>weight_home_player_10_info</th>\n",
       "      <th>home_player_10_position</th>\n",
       "      <th>id_home_player_11_info</th>\n",
       "      <th>player_api_id_home_player_11_info</th>\n",
       "      <th>player_name_home_player_11_info</th>\n",
       "      <th>player_fifa_api_id_home_player_11_info</th>\n",
       "      <th>birthday_home_player_11_info</th>\n",
       "      <th>height_home_player_11_info</th>\n",
       "      <th>weight_home_player_11_info</th>\n",
       "      <th>home_player_11_position</th>\n",
       "    </tr>\n",
       "  </thead>\n",
       "  <tbody>\n",
       "    <tr>\n",
       "      <th>0</th>\n",
       "      <td>21525</td>\n",
       "      <td>21518</td>\n",
       "      <td>21518</td>\n",
       "      <td>2008/2009</td>\n",
       "      <td>1</td>\n",
       "      <td>2008-08-30</td>\n",
       "      <td>530090</td>\n",
       "      <td>8558</td>\n",
       "      <td>10281</td>\n",
       "      <td>1</td>\n",
       "      <td>...</td>\n",
       "      <td>163</td>\n",
       "      <td>10.0</td>\n",
       "      <td>6356</td>\n",
       "      <td>24852</td>\n",
       "      <td>Luis Garcia</td>\n",
       "      <td>16</td>\n",
       "      <td>1981-02-06 00:00:00</td>\n",
       "      <td>177.80</td>\n",
       "      <td>152</td>\n",
       "      <td>10.0</td>\n",
       "    </tr>\n",
       "    <tr>\n",
       "      <th>1</th>\n",
       "      <td>21540</td>\n",
       "      <td>21518</td>\n",
       "      <td>21518</td>\n",
       "      <td>2008/2009</td>\n",
       "      <td>11</td>\n",
       "      <td>2008-11-16</td>\n",
       "      <td>530245</td>\n",
       "      <td>8558</td>\n",
       "      <td>8388</td>\n",
       "      <td>3</td>\n",
       "      <td>...</td>\n",
       "      <td>154</td>\n",
       "      <td>8.0</td>\n",
       "      <td>8831</td>\n",
       "      <td>32764</td>\n",
       "      <td>Raul Tamudo</td>\n",
       "      <td>2264</td>\n",
       "      <td>1977-10-19 00:00:00</td>\n",
       "      <td>180.34</td>\n",
       "      <td>163</td>\n",
       "      <td>11.0</td>\n",
       "    </tr>\n",
       "    <tr>\n",
       "      <th>2</th>\n",
       "      <td>21560</td>\n",
       "      <td>21518</td>\n",
       "      <td>21518</td>\n",
       "      <td>2008/2009</td>\n",
       "      <td>13</td>\n",
       "      <td>2008-11-30</td>\n",
       "      <td>530325</td>\n",
       "      <td>8558</td>\n",
       "      <td>9869</td>\n",
       "      <td>0</td>\n",
       "      <td>...</td>\n",
       "      <td>152</td>\n",
       "      <td>10.0</td>\n",
       "      <td>8831</td>\n",
       "      <td>32764</td>\n",
       "      <td>Raul Tamudo</td>\n",
       "      <td>2264</td>\n",
       "      <td>1977-10-19 00:00:00</td>\n",
       "      <td>180.34</td>\n",
       "      <td>163</td>\n",
       "      <td>10.0</td>\n",
       "    </tr>\n",
       "    <tr>\n",
       "      <th>3</th>\n",
       "      <td>21595</td>\n",
       "      <td>21518</td>\n",
       "      <td>21518</td>\n",
       "      <td>2008/2009</td>\n",
       "      <td>16</td>\n",
       "      <td>2008-12-20</td>\n",
       "      <td>530360</td>\n",
       "      <td>8558</td>\n",
       "      <td>9906</td>\n",
       "      <td>2</td>\n",
       "      <td>...</td>\n",
       "      <td>154</td>\n",
       "      <td>8.0</td>\n",
       "      <td>5348</td>\n",
       "      <td>150330</td>\n",
       "      <td>Jose Maria Callejon</td>\n",
       "      <td>185020</td>\n",
       "      <td>1987-02-11 00:00:00</td>\n",
       "      <td>177.80</td>\n",
       "      <td>161</td>\n",
       "      <td>11.0</td>\n",
       "    </tr>\n",
       "    <tr>\n",
       "      <th>4</th>\n",
       "      <td>21611</td>\n",
       "      <td>21518</td>\n",
       "      <td>21518</td>\n",
       "      <td>2008/2009</td>\n",
       "      <td>18</td>\n",
       "      <td>2009-01-11</td>\n",
       "      <td>530376</td>\n",
       "      <td>8558</td>\n",
       "      <td>9865</td>\n",
       "      <td>2</td>\n",
       "      <td>...</td>\n",
       "      <td>154</td>\n",
       "      <td>8.0</td>\n",
       "      <td>6356</td>\n",
       "      <td>24852</td>\n",
       "      <td>Luis Garcia</td>\n",
       "      <td>16</td>\n",
       "      <td>1981-02-06 00:00:00</td>\n",
       "      <td>177.80</td>\n",
       "      <td>152</td>\n",
       "      <td>11.0</td>\n",
       "    </tr>\n",
       "    <tr>\n",
       "      <th>...</th>\n",
       "      <td>...</td>\n",
       "      <td>...</td>\n",
       "      <td>...</td>\n",
       "      <td>...</td>\n",
       "      <td>...</td>\n",
       "      <td>...</td>\n",
       "      <td>...</td>\n",
       "      <td>...</td>\n",
       "      <td>...</td>\n",
       "      <td>...</td>\n",
       "      <td>...</td>\n",
       "      <td>...</td>\n",
       "      <td>...</td>\n",
       "      <td>...</td>\n",
       "      <td>...</td>\n",
       "      <td>...</td>\n",
       "      <td>...</td>\n",
       "      <td>...</td>\n",
       "      <td>...</td>\n",
       "      <td>...</td>\n",
       "      <td>...</td>\n",
       "    </tr>\n",
       "    <tr>\n",
       "      <th>147</th>\n",
       "      <td>24454</td>\n",
       "      <td>21518</td>\n",
       "      <td>21518</td>\n",
       "      <td>2015/2016</td>\n",
       "      <td>34</td>\n",
       "      <td>2016-04-19</td>\n",
       "      <td>2030494</td>\n",
       "      <td>8558</td>\n",
       "      <td>9910</td>\n",
       "      <td>1</td>\n",
       "      <td>...</td>\n",
       "      <td>165</td>\n",
       "      <td>10.0</td>\n",
       "      <td>6680</td>\n",
       "      <td>498033</td>\n",
       "      <td>Marco Asensio</td>\n",
       "      <td>220834</td>\n",
       "      <td>1996-01-21 00:00:00</td>\n",
       "      <td>177.80</td>\n",
       "      <td>154</td>\n",
       "      <td>10.0</td>\n",
       "    </tr>\n",
       "    <tr>\n",
       "      <th>148</th>\n",
       "      <td>24473</td>\n",
       "      <td>21518</td>\n",
       "      <td>21518</td>\n",
       "      <td>2015/2016</td>\n",
       "      <td>36</td>\n",
       "      <td>2016-05-01</td>\n",
       "      <td>2030513</td>\n",
       "      <td>8558</td>\n",
       "      <td>8302</td>\n",
       "      <td>1</td>\n",
       "      <td>...</td>\n",
       "      <td>185</td>\n",
       "      <td>10.0</td>\n",
       "      <td>6680</td>\n",
       "      <td>498033</td>\n",
       "      <td>Marco Asensio</td>\n",
       "      <td>220834</td>\n",
       "      <td>1996-01-21 00:00:00</td>\n",
       "      <td>177.80</td>\n",
       "      <td>154</td>\n",
       "      <td>10.0</td>\n",
       "    </tr>\n",
       "    <tr>\n",
       "      <th>149</th>\n",
       "      <td>24492</td>\n",
       "      <td>21518</td>\n",
       "      <td>21518</td>\n",
       "      <td>2015/2016</td>\n",
       "      <td>38</td>\n",
       "      <td>2016-05-15</td>\n",
       "      <td>2030532</td>\n",
       "      <td>8558</td>\n",
       "      <td>8372</td>\n",
       "      <td>4</td>\n",
       "      <td>...</td>\n",
       "      <td>154</td>\n",
       "      <td>8.0</td>\n",
       "      <td>3774</td>\n",
       "      <td>246438</td>\n",
       "      <td>Gerard Moreno</td>\n",
       "      <td>208093</td>\n",
       "      <td>1992-04-07 00:00:00</td>\n",
       "      <td>177.80</td>\n",
       "      <td>165</td>\n",
       "      <td>11.0</td>\n",
       "    </tr>\n",
       "    <tr>\n",
       "      <th>150</th>\n",
       "      <td>24515</td>\n",
       "      <td>21518</td>\n",
       "      <td>21518</td>\n",
       "      <td>2015/2016</td>\n",
       "      <td>5</td>\n",
       "      <td>2015-09-22</td>\n",
       "      <td>2030129</td>\n",
       "      <td>8558</td>\n",
       "      <td>10267</td>\n",
       "      <td>1</td>\n",
       "      <td>...</td>\n",
       "      <td>152</td>\n",
       "      <td>8.0</td>\n",
       "      <td>3278</td>\n",
       "      <td>41622</td>\n",
       "      <td>Felipe Caicedo</td>\n",
       "      <td>175254</td>\n",
       "      <td>1988-09-05 00:00:00</td>\n",
       "      <td>182.88</td>\n",
       "      <td>185</td>\n",
       "      <td>11.0</td>\n",
       "    </tr>\n",
       "    <tr>\n",
       "      <th>151</th>\n",
       "      <td>24536</td>\n",
       "      <td>21518</td>\n",
       "      <td>21518</td>\n",
       "      <td>2015/2016</td>\n",
       "      <td>7</td>\n",
       "      <td>2015-10-03</td>\n",
       "      <td>2030150</td>\n",
       "      <td>8558</td>\n",
       "      <td>9869</td>\n",
       "      <td>1</td>\n",
       "      <td>...</td>\n",
       "      <td>152</td>\n",
       "      <td>8.0</td>\n",
       "      <td>3278</td>\n",
       "      <td>41622</td>\n",
       "      <td>Felipe Caicedo</td>\n",
       "      <td>175254</td>\n",
       "      <td>1988-09-05 00:00:00</td>\n",
       "      <td>182.88</td>\n",
       "      <td>185</td>\n",
       "      <td>11.0</td>\n",
       "    </tr>\n",
       "  </tbody>\n",
       "</table>\n",
       "<p>152 rows × 242 columns</p>\n",
       "</div>"
      ]
     },
     "execution_count": 24,
     "metadata": {},
     "output_type": "execute_result"
    }
   ],
   "execution_count": 24
  },
  {
   "cell_type": "code",
   "source": [
    "for column in rcde_matches:\n",
    "    if re.match(r'home_player_\\d+$', column):\n",
    "        rcde_matches[column] = rcde_matches[column].astype('Int64')\n",
    "        rcde_matches = rcde_matches.merge(players, left_on=column, right_on='player_api_id', how='left', suffixes=('','_new'))"
   ],
   "metadata": {
    "collapsed": false,
    "ExecuteTime": {
     "end_time": "2025-05-22T14:36:02.815043Z",
     "start_time": "2025-05-22T14:36:02.775470Z"
    }
   },
   "id": "e02b2c9a48fc71cc",
   "outputs": [
    {
     "name": "stderr",
     "output_type": "stream",
     "text": [
      "/var/folders/gq/d76lmnf57776ty42h5bk0f080000gn/T/ipykernel_87156/2649699021.py:3: SettingWithCopyWarning: \n",
      "A value is trying to be set on a copy of a slice from a DataFrame.\n",
      "Try using .loc[row_indexer,col_indexer] = value instead\n",
      "\n",
      "See the caveats in the documentation: https://pandas.pydata.org/pandas-docs/stable/user_guide/indexing.html#returning-a-view-versus-a-copy\n",
      "  rcde_matches[column] = rcde_matches[column].astype('Int64')\n"
     ]
    }
   ],
   "execution_count": 15
  },
  {
   "metadata": {
    "ExecuteTime": {
     "end_time": "2025-05-22T14:46:20.340422Z",
     "start_time": "2025-05-22T14:46:20.301767Z"
    }
   },
   "cell_type": "code",
   "source": [
    "player_cols = [col for col in rcde_matches.columns if re.fullmatch(r'home_player_\\d+', col)]\n",
    "\n",
    "# Step 2: For each player column, find its corresponding position column and merge\n",
    "for col in player_cols:\n",
    "    # Find the corresponding Y column (e.g., 'home_player_Y1' for 'home_player_1')\n",
    "    y_col = col.replace('home_player_', 'home_player_Y')\n",
    "\n",
    "    # Cast player column to nullable int for merge\n",
    "    rcde_matches[col] = rcde_matches[col].astype('Int64')\n",
    "\n",
    "    # Merge with players table on player ID\n",
    "    rcde_matches = rcde_matches.merge(\n",
    "        players,\n",
    "        left_on=col,\n",
    "        right_on='player_api_id',\n",
    "        how='left',\n",
    "        suffixes=('', f'_{col}_info')\n",
    "    )\n",
    "\n",
    "    # Optional: Add position info from the Y column to the merged data\n",
    "    rcde_matches[f'{col}_position'] = rcde_matches[y_col]"
   ],
   "id": "995a1f93dd5821c0",
   "outputs": [],
   "execution_count": 25
  },
  {
   "metadata": {},
   "cell_type": "code",
   "outputs": [],
   "execution_count": null,
   "source": [
    "rcde_player_atts = player_atts[player_atts['player_api_id'].isin(rcde_players['player_api_id'])]\n",
    "# add name into the player attributes df\n",
    "rcde_player_atts = rcde_player_atts.merge(rcde_players[['player_api_id', 'player_name']], on='player_api_id', how='left')"
   ],
   "id": "7b77e3ba6e2891cd"
  },
  {
   "metadata": {
    "ExecuteTime": {
     "end_time": "2025-05-22T16:44:19.621690Z",
     "start_time": "2025-05-22T16:44:19.607136Z"
    }
   },
   "cell_type": "code",
   "source": [
    "# Extract relevant name and position columns again\n",
    "home_players_df = pd.read_csv('data/Filtered_Home_Player_Data.csv')\n",
    "name_cols = [col for col in home_players_df.columns if 'player_name_home_player_' in col]\n",
    "pos_cols = [col for col in home_players_df.columns if re.fullmatch(r'home_player_\\d+_position', col)]\n",
    "\n",
    "player_position_dict = {}\n",
    "\n",
    "for name_col in name_cols:\n",
    "    player_number = re.search(r'\\d+', name_col).group()\n",
    "    pos_col = f'home_player_{player_number}_position'\n",
    "\n",
    "    for name, pos in zip(home_players_df[name_col], home_players_df[pos_col]):\n",
    "        if pd.notna(name) and pd.notna(pos):\n",
    "            player_position_dict[name] = int(pos)\n"
   ],
   "id": "ae2f0290f5847332",
   "outputs": [
    {
     "data": {
      "text/plain": [
       "({'Carlos Kameni': 1,\n",
       "  'Cristian Alvarez': 1,\n",
       "  'Francisco Casilla': 1,\n",
       "  'Pau Sabata': 1,\n",
       "  'Giedrius Arlauskis': 1,\n",
       "  'Sergio Sanchez': 3,\n",
       "  'Steve Finnan': 3,\n",
       "  'Francisco Chica': 3,\n",
       "  'Ivan Pillud': 3,\n",
       "  'Facundo Sebastian Roncaglia': 3,\n",
       "  'Jordi Amat': 3,\n",
       "  'Javi Lopez': 7,\n",
       "  'Ernesto Galan': 3,\n",
       "  'Victor Sanchez Mata': 8,\n",
       "  'Raul Rodriguez': 7,\n",
       "  'Felipe Mattioni Rohde': 3,\n",
       "  'Anaitz Arbilla': 6,\n",
       "  'Alvaro Gonzalez Soberon': 3,\n",
       "  'Roberto Correa': 3,\n",
       "  'Daniel Jarque': 3,\n",
       "  'Marc Torrejon Moya': 3,\n",
       "  'Nicolas Pareja': 3,\n",
       "  'Victor Ruiz': 3,\n",
       "  'Hurtado Perez Moises': 6,\n",
       "  'Juan Forlin': 6,\n",
       "  'Hector Moreno': 3,\n",
       "  'Diego Daniel Colotto': 3,\n",
       "  'Sidnei': 3,\n",
       "  'Enzo Roco': 3,\n",
       "  'Didac Vila': 3,\n",
       "  'Eric Bertrand Bailly': 3,\n",
       "  'Michael Ciani': 3,\n",
       "  'Oscar Duarte': 7,\n",
       "  'Gregory Beranger': 3,\n",
       "  'David Garcia': 3,\n",
       "  'Victor Alvarez': 8,\n",
       "  'Joan Capdevila': 3,\n",
       "  'Juan Rafael Fuentes': 3,\n",
       "  'Ruben Duarte': 3,\n",
       "  'Roman Martinez': 7,\n",
       "  'Angel Cervara': 6,\n",
       "  'Milan Smiljanic': 6,\n",
       "  'Jose Maria Callejon': 11,\n",
       "  'Ferran Corominas': 8,\n",
       "  'Luis Garcia': 11,\n",
       "  'Ivan de la Pena': 8,\n",
       "  'Joan Verdu': 8,\n",
       "  'Jose Raul Baena': 6,\n",
       "  'Shunsuke Nakamura': 8,\n",
       "  'Javi Moreno Marquez': 7,\n",
       "  'Aldo Pedro Duscher': 7,\n",
       "  'Romaric': 8,\n",
       "  'Cristian Stuani': 11,\n",
       "  'David Lopez': 7,\n",
       "  'Lucas Vazquez': 7,\n",
       "  'Jose Canas': 7,\n",
       "  'Salva Sevilla': 8,\n",
       "  'Pape Kouli Diop': 8,\n",
       "  'Joan Jordan': 6,\n",
       "  'Marco Asensio': 10,\n",
       "  'Abraham Gonzalez': 8,\n",
       "  'Christian Gomez': 8,\n",
       "  'Hernan Perez': 10,\n",
       "  'Francisco Rufete': 8,\n",
       "  'Fernando Marquez': 8,\n",
       "  'Sergio Garcia': 10,\n",
       "  'Vladimir Weiss': 8,\n",
       "  'Rui Fonte': 11,\n",
       "  'Thievy Bifouma': 11,\n",
       "  'Philippe Coutinho': 8,\n",
       "  'Christian Alfonso': 8,\n",
       "  'Wakaso Mubarak': 8,\n",
       "  'Juan Albin': 8,\n",
       "  'Samuele Longo': 11,\n",
       "  'Pizzi': 8,\n",
       "  'Manu Lanzarote': 10,\n",
       "  'Paco Montanes': 8,\n",
       "  'Gerard Moreno': 11,\n",
       "  'Valdo': 10,\n",
       "  'Nene': 8,\n",
       "  'Ivan Alonso': 11,\n",
       "  'Alvaro Vazquez': 11,\n",
       "  'Alex Fernandez': 8,\n",
       "  'Simao': 10,\n",
       "  'Raul Tamudo': 10,\n",
       "  'Ben Sahar': 8,\n",
       "  'Jesus Datolo': 8,\n",
       "  'Jhon Cordoba': 11,\n",
       "  'Gabriel Torje': 10,\n",
       "  'Felipe Caicedo': 11,\n",
       "  'Burgui': 10,\n",
       "  'Pablo Osvaldo': 11,\n",
       "  'Kalu Uche': 11},\n",
       " 93)"
      ]
     },
     "execution_count": 68,
     "metadata": {},
     "output_type": "execute_result"
    }
   ],
   "execution_count": 68
  },
  {
   "metadata": {
    "ExecuteTime": {
     "end_time": "2025-05-22T16:32:13.587697Z",
     "start_time": "2025-05-22T16:32:13.579543Z"
    }
   },
   "cell_type": "code",
   "source": [
    "# not sure if still needed\n",
    "player_info = []\n",
    "for column in rcde_matches:\n",
    "    if column in name_columns:\n",
    "        player_info.append(pd.unique(rcde_matches[column].values.ravel()).tolist())\n",
    "\n",
    "flat_list = [name for sublist in player_info for name in sublist if pd.notna(name)]\n",
    "unique_rcde_names = pd.unique(flat_list).tolist()"
   ],
   "id": "4197f83afeed315d",
   "outputs": [],
   "execution_count": 64
  },
  {
   "metadata": {},
   "cell_type": "code",
   "outputs": [],
   "execution_count": null,
   "source": [
    "# only get the role_y information since we did not explictly mention anything about left or right\n",
    "pos_role_dict = {}\n",
    "for position, role in zip(positions['player_pos_y'], positions['role_y']):\n",
    "    pos_role_dict[position] = role"
   ],
   "id": "7bf2c5d6defdd98b"
  },
  {
   "metadata": {
    "ExecuteTime": {
     "end_time": "2025-05-22T16:48:00.596042Z",
     "start_time": "2025-05-22T16:48:00.591363Z"
    }
   },
   "cell_type": "code",
   "source": [
    "# map player position numbers and map to role\n",
    "player_role_dict = {player: pos_role_dict.get(int(position), 'Unknown') for player, position in player_position_dict.items()}"
   ],
   "id": "6c7f8a469c3c6940",
   "outputs": [
    {
     "data": {
      "text/plain": [
       "({'Carlos Kameni': 'GK',\n",
       "  'Cristian Alvarez': 'GK',\n",
       "  'Francisco Casilla': 'GK',\n",
       "  'Pau Sabata': 'GK',\n",
       "  'Giedrius Arlauskis': 'GK',\n",
       "  'Sergio Sanchez': 'BK',\n",
       "  'Steve Finnan': 'BK',\n",
       "  'Francisco Chica': 'BK',\n",
       "  'Ivan Pillud': 'BK',\n",
       "  'Facundo Sebastian Roncaglia': 'BK',\n",
       "  'Jordi Amat': 'BK',\n",
       "  'Javi Lopez': 'MF',\n",
       "  'Ernesto Galan': 'BK',\n",
       "  'Victor Sanchez Mata': 'MF',\n",
       "  'Raul Rodriguez': 'MF',\n",
       "  'Felipe Mattioni Rohde': 'BK',\n",
       "  'Anaitz Arbilla': 'MF',\n",
       "  'Alvaro Gonzalez Soberon': 'BK',\n",
       "  'Roberto Correa': 'BK',\n",
       "  'Daniel Jarque': 'BK',\n",
       "  'Marc Torrejon Moya': 'BK',\n",
       "  'Nicolas Pareja': 'BK',\n",
       "  'Victor Ruiz': 'BK',\n",
       "  'Hurtado Perez Moises': 'MF',\n",
       "  'Juan Forlin': 'MF',\n",
       "  'Hector Moreno': 'BK',\n",
       "  'Diego Daniel Colotto': 'BK',\n",
       "  'Sidnei': 'BK',\n",
       "  'Enzo Roco': 'BK',\n",
       "  'Didac Vila': 'BK',\n",
       "  'Eric Bertrand Bailly': 'BK',\n",
       "  'Michael Ciani': 'BK',\n",
       "  'Oscar Duarte': 'MF',\n",
       "  'Gregory Beranger': 'BK',\n",
       "  'David Garcia': 'BK',\n",
       "  'Victor Alvarez': 'MF',\n",
       "  'Joan Capdevila': 'BK',\n",
       "  'Juan Rafael Fuentes': 'BK',\n",
       "  'Ruben Duarte': 'BK',\n",
       "  'Roman Martinez': 'MF',\n",
       "  'Angel Cervara': 'MF',\n",
       "  'Milan Smiljanic': 'MF',\n",
       "  'Jose Maria Callejon': 'FW',\n",
       "  'Ferran Corominas': 'MF',\n",
       "  'Luis Garcia': 'FW',\n",
       "  'Ivan de la Pena': 'MF',\n",
       "  'Joan Verdu': 'MF',\n",
       "  'Jose Raul Baena': 'MF',\n",
       "  'Shunsuke Nakamura': 'MF',\n",
       "  'Javi Moreno Marquez': 'MF',\n",
       "  'Aldo Pedro Duscher': 'MF',\n",
       "  'Romaric': 'MF',\n",
       "  'Cristian Stuani': 'FW',\n",
       "  'David Lopez': 'MF',\n",
       "  'Lucas Vazquez': 'MF',\n",
       "  'Jose Canas': 'MF',\n",
       "  'Salva Sevilla': 'MF',\n",
       "  'Pape Kouli Diop': 'MF',\n",
       "  'Joan Jordan': 'MF',\n",
       "  'Marco Asensio': 'FW',\n",
       "  'Abraham Gonzalez': 'MF',\n",
       "  'Christian Gomez': 'MF',\n",
       "  'Hernan Perez': 'FW',\n",
       "  'Francisco Rufete': 'MF',\n",
       "  'Fernando Marquez': 'MF',\n",
       "  'Sergio Garcia': 'FW',\n",
       "  'Vladimir Weiss': 'MF',\n",
       "  'Rui Fonte': 'FW',\n",
       "  'Thievy Bifouma': 'FW',\n",
       "  'Philippe Coutinho': 'MF',\n",
       "  'Christian Alfonso': 'MF',\n",
       "  'Wakaso Mubarak': 'MF',\n",
       "  'Juan Albin': 'MF',\n",
       "  'Samuele Longo': 'FW',\n",
       "  'Pizzi': 'MF',\n",
       "  'Manu Lanzarote': 'FW',\n",
       "  'Paco Montanes': 'MF',\n",
       "  'Gerard Moreno': 'FW',\n",
       "  'Valdo': 'FW',\n",
       "  'Nene': 'MF',\n",
       "  'Ivan Alonso': 'FW',\n",
       "  'Alvaro Vazquez': 'FW',\n",
       "  'Alex Fernandez': 'MF',\n",
       "  'Simao': 'FW',\n",
       "  'Raul Tamudo': 'FW',\n",
       "  'Ben Sahar': 'MF',\n",
       "  'Jesus Datolo': 'MF',\n",
       "  'Jhon Cordoba': 'FW',\n",
       "  'Gabriel Torje': 'FW',\n",
       "  'Felipe Caicedo': 'FW',\n",
       "  'Burgui': 'FW',\n",
       "  'Pablo Osvaldo': 'FW',\n",
       "  'Kalu Uche': 'FW'},\n",
       " 93)"
      ]
     },
     "execution_count": 71,
     "metadata": {},
     "output_type": "execute_result"
    }
   ],
   "execution_count": 71
  },
  {
   "metadata": {
    "ExecuteTime": {
     "end_time": "2025-05-22T16:51:24.023364Z",
     "start_time": "2025-05-22T16:51:24.017199Z"
    }
   },
   "cell_type": "code",
   "source": [
    "# sort player names per rol on the soccer pitch\n",
    "roles = defaultdict(list)\n",
    "for player, role in player_role_dict.items():\n",
    "    roles[role].append(player)\n",
    "\n",
    "unique_roles = sorted(roles.keys())\n",
    "role_counts = {role: len(players) for role, players in roles.items()}\n",
    "\n",
    "gk_player_names = roles['GK']\n",
    "bk_player_names = roles['BK']\n",
    "mf_player_names = roles['MF']\n",
    "fw_player_names = roles['FW']"
   ],
   "id": "de3d657404c05df0",
   "outputs": [],
   "execution_count": 72
  },
  {
   "metadata": {
    "ExecuteTime": {
     "end_time": "2025-05-22T17:16:25.470320Z",
     "start_time": "2025-05-22T17:16:25.442674Z"
    }
   },
   "cell_type": "code",
   "source": [
    "# initalize dataframes to base the heatmaps on\n",
    "\n",
    "bk_players = rcde_player_atts[rcde_player_atts['player_name'].isin(bk_player_names)]\n",
    "mf_players = rcde_player_atts[rcde_player_atts['player_name'].isin(mf_player_names)]\n",
    "fw_players = rcde_player_atts[rcde_player_atts['player_name'].isin(fw_player_names)]"
   ],
   "id": "547b4e86da173487",
   "outputs": [],
   "execution_count": 88
  },
  {
   "metadata": {
    "ExecuteTime": {
     "end_time": "2025-05-22T17:42:26.554211Z",
     "start_time": "2025-05-22T17:42:26.521719Z"
    }
   },
   "cell_type": "code",
   "source": "fw_players.to_csv(\"fw_players.csv\", index=False)",
   "id": "ab0a585a73e3a799",
   "outputs": [],
   "execution_count": 106
  },
  {
   "metadata": {
    "ExecuteTime": {
     "end_time": "2025-05-22T18:05:40.179640Z",
     "start_time": "2025-05-22T18:05:40.160100Z"
    }
   },
   "cell_type": "code",
   "source": "mf_players.to_csv(\"mf_players.csv\", index=False)",
   "id": "72123e02907f07ca",
   "outputs": [],
   "execution_count": 108
  },
  {
   "metadata": {
    "ExecuteTime": {
     "end_time": "2025-05-22T18:05:38.657838Z",
     "start_time": "2025-05-22T18:05:38.623904Z"
    }
   },
   "cell_type": "code",
   "source": "bk_players.to_csv(\"bk_players.csv\", index=False)",
   "id": "f4751dd34250edfc",
   "outputs": [],
   "execution_count": 107
  },
  {
   "metadata": {
    "ExecuteTime": {
     "end_time": "2025-05-22T15:14:28.499797Z",
     "start_time": "2025-05-22T15:14:28.494015Z"
    }
   },
   "cell_type": "code",
   "source": "rcde_players = players[players['player_name'].isin(unique_rcde_names)]",
   "id": "13035af71060455b",
   "outputs": [],
   "execution_count": 44
  },
  {
   "metadata": {
    "ExecuteTime": {
     "end_time": "2025-05-22T17:13:22.119139Z",
     "start_time": "2025-05-22T17:13:22.115219Z"
    }
   },
   "cell_type": "code",
   "outputs": [
    {
     "data": {
      "text/plain": [
       "101"
      ]
     },
     "execution_count": 85,
     "metadata": {},
     "output_type": "execute_result"
    }
   ],
   "execution_count": 85,
   "source": "# retain only gk attributes here for GKs and remove gk attributes for non-GK players\n",
   "id": "bac28342edca7b47"
  },
  {
   "cell_type": "code",
   "source": [
    "# reorder columns in all dfs\n",
    "\n",
    "cols = rcde_player_atts.columns.tolist()\n",
    "cols_to_move = ['player_name', 'potential_rating_ratio']\n",
    "target_col = 'player_api_id'\n",
    "\n",
    "for i in cols_to_move:\n",
    "    cols.remove(i)\n",
    "cols.insert(cols.index(target_col) + 1, cols_to_move[0])\n",
    "cols.insert(cols.index(target_col) + 2, cols_to_move[1])\n",
    "\n",
    "rcde_player_atts = rcde_player_atts[cols]"
   ],
   "metadata": {
    "collapsed": false,
    "ExecuteTime": {
     "end_time": "2025-05-22T17:21:48.483828Z",
     "start_time": "2025-05-22T17:21:48.474014Z"
    }
   },
   "id": "b4ef27e2461eaa0a",
   "outputs": [],
   "execution_count": 92
  },
  {
   "cell_type": "code",
   "source": [
    "rcde_player_atts.sort_values('potential_rating_ratio', ascending=False, inplace=True)"
   ],
   "metadata": {
    "collapsed": false,
    "ExecuteTime": {
     "end_time": "2025-05-22T17:21:50.187591Z",
     "start_time": "2025-05-22T17:21:50.184048Z"
    }
   },
   "id": "4a95965d4ed54fe6",
   "outputs": [],
   "execution_count": 93
  },
  {
   "metadata": {
    "ExecuteTime": {
     "end_time": "2025-05-22T17:27:28.012272Z",
     "start_time": "2025-05-22T17:27:27.855746Z"
    }
   },
   "cell_type": "code",
   "source": "pio.renderers.default = \"notebook_connected\"",
   "id": "f5c173b7a1eb39f6",
   "outputs": [],
   "execution_count": 98
  },
  {
   "metadata": {
    "ExecuteTime": {
     "end_time": "2025-05-22T21:58:40.593937Z",
     "start_time": "2025-05-22T21:58:40.586330Z"
    }
   },
   "cell_type": "code",
   "source": [
    "def create_heatmap(df):\n",
    "    disposable_cols = ['player_api_id', 'player_fifa_api_id', 'date', 'id',\n",
    "                       'gk_diving', 'gk_kicking', 'gk_handling', 'gk_positioning', 'gk_reflexes']\n",
    "    attribute_cols = df.select_dtypes(include='number').columns.difference(disposable_cols + ['potential_rating_ratio']).tolist()\n",
    "    attribute_cols = ['potential_rating_ratio'] + attribute_cols\n",
    "\n",
    "    pivot_df = df.pivot_table(index=None, columns='player_name', values=attribute_cols, aggfunc='mean')\n",
    "    pivot_df = pivot_df.T\n",
    "    pio.renderers.default = \"notebook_connected\"\n",
    "\n",
    "    fig = go.Figure(\n",
    "        data=go.Heatmap(\n",
    "            z=pivot_df.values,\n",
    "            x=pivot_df.columns,\n",
    "            y=pivot_df.index,\n",
    "            colorscale='Greens',\n",
    "            colorbar=dict(title='Attribute Value'),\n",
    "            hovertemplate='Player: %{x}<br>Attribute: %{y}<br>Value: %{z}<extra></extra>'\n",
    "        )\n",
    "    )\n",
    "\n",
    "    # Layout adjustments\n",
    "    fig.update_layout(\n",
    "        xaxis=dict(title='Attributes', tickangle=45),\n",
    "        yaxis=dict(title='Player Names'),\n",
    "        autosize=True,\n",
    "        height=600,\n",
    "        width=1200\n",
    "    )\n",
    "\n",
    "    return fig\n"
   ],
   "id": "629d20ead6186b28",
   "outputs": [],
   "execution_count": 116
  },
  {
   "metadata": {
    "ExecuteTime": {
     "end_time": "2025-05-22T21:55:48.333058Z",
     "start_time": "2025-05-22T21:55:48.246784Z"
    }
   },
   "cell_type": "code",
   "source": [
    "\n",
    "\n",
    "dimensions = PitchDimensions()\n",
    "fig = make_pitch_figure(dimensions)\n",
    "fig.show()\n"
   ],
   "id": "d12a87641dbdf83b",
   "outputs": [
    {
     "data": {
      "text/html": [
       "<div>            <script src=\"https://cdnjs.cloudflare.com/ajax/libs/mathjax/2.7.5/MathJax.js?config=TeX-AMS-MML_SVG\"></script><script type=\"text/javascript\">if (window.MathJax && window.MathJax.Hub && window.MathJax.Hub.Config) {window.MathJax.Hub.Config({SVG: {font: \"STIX-Web\"}});}</script>                <script type=\"text/javascript\">window.PlotlyConfig = {MathJaxConfig: 'local'};</script>\n",
       "        <script charset=\"utf-8\" src=\"https://cdn.plot.ly/plotly-3.0.1.min.js\"></script>                <div id=\"3d49e4ad-d48f-4dc9-8986-93ee83977d59\" class=\"plotly-graph-div\" style=\"height:600px; width:800px;\"></div>            <script type=\"text/javascript\">                window.PLOTLYENV=window.PLOTLYENV || {};                                if (document.getElementById(\"3d49e4ad-d48f-4dc9-8986-93ee83977d59\")) {                    Plotly.newPlot(                        \"3d49e4ad-d48f-4dc9-8986-93ee83977d59\",                        [{\"hoverinfo\":\"skip\",\"line\":{\"color\":\"black\",\"width\":4},\"mode\":\"lines\",\"showlegend\":false,\"x\":[0,105,105,0,0],\"y\":[0,0,68,68,0],\"type\":\"scatter\"},{\"hoverinfo\":\"skip\",\"line\":{\"color\":\"black\",\"width\":4},\"mode\":\"lines\",\"showlegend\":false,\"x\":[52.5,52.5],\"y\":[0,68],\"type\":\"scatter\"},{\"hoverinfo\":\"skip\",\"line\":{\"color\":\"black\",\"width\":4},\"mode\":\"lines\",\"showlegend\":false,\"x\":[0,16.459249641096918,16.459249641096918,0],\"y\":[13.600000000000001,13.600000000000001,54.4,54.4],\"type\":\"scatter\"},{\"hoverinfo\":\"skip\",\"line\":{\"color\":\"black\",\"width\":4},\"mode\":\"lines\",\"showlegend\":false,\"x\":[105,88.54075035890308,88.54075035890308,105],\"y\":[13.600000000000001,13.600000000000001,54.4,54.4],\"type\":\"scatter\"},{\"hoverinfo\":\"skip\",\"line\":{\"color\":\"black\",\"width\":4},\"mode\":\"lines\",\"showlegend\":false,\"x\":[0,5.486416547032306,5.486416547032306,0],\"y\":[23.8,23.8,44.2,44.2],\"type\":\"scatter\"},{\"hoverinfo\":\"skip\",\"line\":{\"color\":\"black\",\"width\":4},\"mode\":\"lines\",\"showlegend\":false,\"x\":[105,99.5135834529677,99.5135834529677,105],\"y\":[23.8,23.8,44.2,44.2],\"type\":\"scatter\"},{\"hoverinfo\":\"skip\",\"line\":{\"color\":\"black\"},\"mode\":\"markers\",\"showlegend\":false,\"x\":[10.972833094064612],\"y\":[34.0],\"type\":\"scatter\"},{\"hoverinfo\":\"skip\",\"line\":{\"color\":\"black\"},\"mode\":\"markers\",\"showlegend\":false,\"x\":[94.02716690593539],\"y\":[34.0],\"type\":\"scatter\"},{\"hoverinfo\":\"skip\",\"line\":{\"color\":\"black\"},\"mode\":\"markers\",\"showlegend\":false,\"x\":[52.5],\"y\":[34.0],\"type\":\"scatter\"}],                        {\"template\":{\"data\":{\"histogram2dcontour\":[{\"type\":\"histogram2dcontour\",\"colorbar\":{\"outlinewidth\":0,\"ticks\":\"\"},\"colorscale\":[[0.0,\"#0d0887\"],[0.1111111111111111,\"#46039f\"],[0.2222222222222222,\"#7201a8\"],[0.3333333333333333,\"#9c179e\"],[0.4444444444444444,\"#bd3786\"],[0.5555555555555556,\"#d8576b\"],[0.6666666666666666,\"#ed7953\"],[0.7777777777777778,\"#fb9f3a\"],[0.8888888888888888,\"#fdca26\"],[1.0,\"#f0f921\"]]}],\"choropleth\":[{\"type\":\"choropleth\",\"colorbar\":{\"outlinewidth\":0,\"ticks\":\"\"}}],\"histogram2d\":[{\"type\":\"histogram2d\",\"colorbar\":{\"outlinewidth\":0,\"ticks\":\"\"},\"colorscale\":[[0.0,\"#0d0887\"],[0.1111111111111111,\"#46039f\"],[0.2222222222222222,\"#7201a8\"],[0.3333333333333333,\"#9c179e\"],[0.4444444444444444,\"#bd3786\"],[0.5555555555555556,\"#d8576b\"],[0.6666666666666666,\"#ed7953\"],[0.7777777777777778,\"#fb9f3a\"],[0.8888888888888888,\"#fdca26\"],[1.0,\"#f0f921\"]]}],\"heatmap\":[{\"type\":\"heatmap\",\"colorbar\":{\"outlinewidth\":0,\"ticks\":\"\"},\"colorscale\":[[0.0,\"#0d0887\"],[0.1111111111111111,\"#46039f\"],[0.2222222222222222,\"#7201a8\"],[0.3333333333333333,\"#9c179e\"],[0.4444444444444444,\"#bd3786\"],[0.5555555555555556,\"#d8576b\"],[0.6666666666666666,\"#ed7953\"],[0.7777777777777778,\"#fb9f3a\"],[0.8888888888888888,\"#fdca26\"],[1.0,\"#f0f921\"]]}],\"contourcarpet\":[{\"type\":\"contourcarpet\",\"colorbar\":{\"outlinewidth\":0,\"ticks\":\"\"}}],\"contour\":[{\"type\":\"contour\",\"colorbar\":{\"outlinewidth\":0,\"ticks\":\"\"},\"colorscale\":[[0.0,\"#0d0887\"],[0.1111111111111111,\"#46039f\"],[0.2222222222222222,\"#7201a8\"],[0.3333333333333333,\"#9c179e\"],[0.4444444444444444,\"#bd3786\"],[0.5555555555555556,\"#d8576b\"],[0.6666666666666666,\"#ed7953\"],[0.7777777777777778,\"#fb9f3a\"],[0.8888888888888888,\"#fdca26\"],[1.0,\"#f0f921\"]]}],\"surface\":[{\"type\":\"surface\",\"colorbar\":{\"outlinewidth\":0,\"ticks\":\"\"},\"colorscale\":[[0.0,\"#0d0887\"],[0.1111111111111111,\"#46039f\"],[0.2222222222222222,\"#7201a8\"],[0.3333333333333333,\"#9c179e\"],[0.4444444444444444,\"#bd3786\"],[0.5555555555555556,\"#d8576b\"],[0.6666666666666666,\"#ed7953\"],[0.7777777777777778,\"#fb9f3a\"],[0.8888888888888888,\"#fdca26\"],[1.0,\"#f0f921\"]]}],\"mesh3d\":[{\"type\":\"mesh3d\",\"colorbar\":{\"outlinewidth\":0,\"ticks\":\"\"}}],\"scatter\":[{\"fillpattern\":{\"fillmode\":\"overlay\",\"size\":10,\"solidity\":0.2},\"type\":\"scatter\"}],\"parcoords\":[{\"type\":\"parcoords\",\"line\":{\"colorbar\":{\"outlinewidth\":0,\"ticks\":\"\"}}}],\"scatterpolargl\":[{\"type\":\"scatterpolargl\",\"marker\":{\"colorbar\":{\"outlinewidth\":0,\"ticks\":\"\"}}}],\"bar\":[{\"error_x\":{\"color\":\"#2a3f5f\"},\"error_y\":{\"color\":\"#2a3f5f\"},\"marker\":{\"line\":{\"color\":\"#E5ECF6\",\"width\":0.5},\"pattern\":{\"fillmode\":\"overlay\",\"size\":10,\"solidity\":0.2}},\"type\":\"bar\"}],\"scattergeo\":[{\"type\":\"scattergeo\",\"marker\":{\"colorbar\":{\"outlinewidth\":0,\"ticks\":\"\"}}}],\"scatterpolar\":[{\"type\":\"scatterpolar\",\"marker\":{\"colorbar\":{\"outlinewidth\":0,\"ticks\":\"\"}}}],\"histogram\":[{\"marker\":{\"pattern\":{\"fillmode\":\"overlay\",\"size\":10,\"solidity\":0.2}},\"type\":\"histogram\"}],\"scattergl\":[{\"type\":\"scattergl\",\"marker\":{\"colorbar\":{\"outlinewidth\":0,\"ticks\":\"\"}}}],\"scatter3d\":[{\"type\":\"scatter3d\",\"line\":{\"colorbar\":{\"outlinewidth\":0,\"ticks\":\"\"}},\"marker\":{\"colorbar\":{\"outlinewidth\":0,\"ticks\":\"\"}}}],\"scattermap\":[{\"type\":\"scattermap\",\"marker\":{\"colorbar\":{\"outlinewidth\":0,\"ticks\":\"\"}}}],\"scattermapbox\":[{\"type\":\"scattermapbox\",\"marker\":{\"colorbar\":{\"outlinewidth\":0,\"ticks\":\"\"}}}],\"scatterternary\":[{\"type\":\"scatterternary\",\"marker\":{\"colorbar\":{\"outlinewidth\":0,\"ticks\":\"\"}}}],\"scattercarpet\":[{\"type\":\"scattercarpet\",\"marker\":{\"colorbar\":{\"outlinewidth\":0,\"ticks\":\"\"}}}],\"carpet\":[{\"aaxis\":{\"endlinecolor\":\"#2a3f5f\",\"gridcolor\":\"white\",\"linecolor\":\"white\",\"minorgridcolor\":\"white\",\"startlinecolor\":\"#2a3f5f\"},\"baxis\":{\"endlinecolor\":\"#2a3f5f\",\"gridcolor\":\"white\",\"linecolor\":\"white\",\"minorgridcolor\":\"white\",\"startlinecolor\":\"#2a3f5f\"},\"type\":\"carpet\"}],\"table\":[{\"cells\":{\"fill\":{\"color\":\"#EBF0F8\"},\"line\":{\"color\":\"white\"}},\"header\":{\"fill\":{\"color\":\"#C8D4E3\"},\"line\":{\"color\":\"white\"}},\"type\":\"table\"}],\"barpolar\":[{\"marker\":{\"line\":{\"color\":\"#E5ECF6\",\"width\":0.5},\"pattern\":{\"fillmode\":\"overlay\",\"size\":10,\"solidity\":0.2}},\"type\":\"barpolar\"}],\"pie\":[{\"automargin\":true,\"type\":\"pie\"}]},\"layout\":{\"autotypenumbers\":\"strict\",\"colorway\":[\"#636efa\",\"#EF553B\",\"#00cc96\",\"#ab63fa\",\"#FFA15A\",\"#19d3f3\",\"#FF6692\",\"#B6E880\",\"#FF97FF\",\"#FECB52\"],\"font\":{\"color\":\"#2a3f5f\"},\"hovermode\":\"closest\",\"hoverlabel\":{\"align\":\"left\"},\"paper_bgcolor\":\"white\",\"plot_bgcolor\":\"#E5ECF6\",\"polar\":{\"bgcolor\":\"#E5ECF6\",\"angularaxis\":{\"gridcolor\":\"white\",\"linecolor\":\"white\",\"ticks\":\"\"},\"radialaxis\":{\"gridcolor\":\"white\",\"linecolor\":\"white\",\"ticks\":\"\"}},\"ternary\":{\"bgcolor\":\"#E5ECF6\",\"aaxis\":{\"gridcolor\":\"white\",\"linecolor\":\"white\",\"ticks\":\"\"},\"baxis\":{\"gridcolor\":\"white\",\"linecolor\":\"white\",\"ticks\":\"\"},\"caxis\":{\"gridcolor\":\"white\",\"linecolor\":\"white\",\"ticks\":\"\"}},\"coloraxis\":{\"colorbar\":{\"outlinewidth\":0,\"ticks\":\"\"}},\"colorscale\":{\"sequential\":[[0.0,\"#0d0887\"],[0.1111111111111111,\"#46039f\"],[0.2222222222222222,\"#7201a8\"],[0.3333333333333333,\"#9c179e\"],[0.4444444444444444,\"#bd3786\"],[0.5555555555555556,\"#d8576b\"],[0.6666666666666666,\"#ed7953\"],[0.7777777777777778,\"#fb9f3a\"],[0.8888888888888888,\"#fdca26\"],[1.0,\"#f0f921\"]],\"sequentialminus\":[[0.0,\"#0d0887\"],[0.1111111111111111,\"#46039f\"],[0.2222222222222222,\"#7201a8\"],[0.3333333333333333,\"#9c179e\"],[0.4444444444444444,\"#bd3786\"],[0.5555555555555556,\"#d8576b\"],[0.6666666666666666,\"#ed7953\"],[0.7777777777777778,\"#fb9f3a\"],[0.8888888888888888,\"#fdca26\"],[1.0,\"#f0f921\"]],\"diverging\":[[0,\"#8e0152\"],[0.1,\"#c51b7d\"],[0.2,\"#de77ae\"],[0.3,\"#f1b6da\"],[0.4,\"#fde0ef\"],[0.5,\"#f7f7f7\"],[0.6,\"#e6f5d0\"],[0.7,\"#b8e186\"],[0.8,\"#7fbc41\"],[0.9,\"#4d9221\"],[1,\"#276419\"]]},\"xaxis\":{\"gridcolor\":\"white\",\"linecolor\":\"white\",\"ticks\":\"\",\"title\":{\"standoff\":15},\"zerolinecolor\":\"white\",\"automargin\":true,\"zerolinewidth\":2},\"yaxis\":{\"gridcolor\":\"white\",\"linecolor\":\"white\",\"ticks\":\"\",\"title\":{\"standoff\":15},\"zerolinecolor\":\"white\",\"automargin\":true,\"zerolinewidth\":2},\"scene\":{\"xaxis\":{\"backgroundcolor\":\"#E5ECF6\",\"gridcolor\":\"white\",\"linecolor\":\"white\",\"showbackground\":true,\"ticks\":\"\",\"zerolinecolor\":\"white\",\"gridwidth\":2},\"yaxis\":{\"backgroundcolor\":\"#E5ECF6\",\"gridcolor\":\"white\",\"linecolor\":\"white\",\"showbackground\":true,\"ticks\":\"\",\"zerolinecolor\":\"white\",\"gridwidth\":2},\"zaxis\":{\"backgroundcolor\":\"#E5ECF6\",\"gridcolor\":\"white\",\"linecolor\":\"white\",\"showbackground\":true,\"ticks\":\"\",\"zerolinecolor\":\"white\",\"gridwidth\":2}},\"shapedefaults\":{\"line\":{\"color\":\"#2a3f5f\"}},\"annotationdefaults\":{\"arrowcolor\":\"#2a3f5f\",\"arrowhead\":0,\"arrowwidth\":1},\"geo\":{\"bgcolor\":\"white\",\"landcolor\":\"#E5ECF6\",\"subunitcolor\":\"white\",\"showland\":true,\"showlakes\":true,\"lakecolor\":\"white\"},\"title\":{\"x\":0.05},\"mapbox\":{\"style\":\"light\"}}},\"xaxis\":{\"anchor\":\"y\",\"domain\":[0.0,1.0],\"range\":[0,105],\"visible\":false},\"yaxis\":{\"anchor\":\"x\",\"domain\":[0.0,1.0],\"range\":[0,68],\"visible\":false},\"shapes\":[{\"line\":{\"color\":\"black\",\"width\":4},\"type\":\"circle\",\"x0\":63.0,\"x1\":42.0,\"xref\":\"x\",\"y0\":44.5,\"y1\":23.5,\"yref\":\"y\"},{\"line\":{\"color\":\"black\",\"width\":4},\"path\":\"M 16.459249641096918, 24.497247789053446L16.793053188464725, 24.697951614674288L17.1195233082764, 24.91037594172825L17.438248650972287, 25.134253117379465L17.748827625345694, 25.369301058300756L18.050868904544352, 25.615223606096226L18.34399191913892, 25.871710900458282L18.627827336637207, 26.13843976958899L18.90201752683996, 26.41507413739378L19.16621701245184, 26.701265446934435L19.420092904379874, 26.99665309960787L19.66332532117088, 27.300864909497264L19.89560779205933, 27.613517572323175L20.11664764311791, 27.93421714840362L20.326166366024186, 28.262559559014704L20.52389996897867, 28.59813109552639L20.709599309332265, 28.9405089406718L20.88303040750385, 29.289261701293384L21.04397474179256, 29.643949951894584L21.192229523713262, 30.004126788312227L21.32760795350832, 30.36933839081193L21.449939455513668, 30.7391245958971L21.559069893082718, 31.113019476110992L21.654861762797193, 31.490551927101343L21.737194367720278, 31.871246261207798L21.8059639694737, 32.25462280682431L21.861083918947244, 32.640198512781275L21.902484765475837, 33.02748755698585L21.930114344346837, 33.41600195855365L21.94393784252709, 33.8052521926605L21.94393784252709, 34.1947478073395L21.930114344346837, 34.58399804144635L21.902484765475837, 34.97251244301415L21.861083918947244, 35.359801487218725L21.8059639694737, 35.745377193175685L21.737194367720278, 36.1287537387922L21.654861762797196, 36.50944807289866L21.559069893082718, 36.886980523889L21.44993945551367, 37.2608754041029L21.32760795350832, 37.63066160918807L21.192229523713266, 37.99587321168777L21.04397474179256, 38.356050048105416L20.88303040750385, 38.710738298706616L20.70959930933227, 39.059491059328195L20.523899968978675, 39.40186890447361L20.32616636602419, 39.737440440985296L20.116647643117915, 40.06578285159638L19.89560779205933, 40.386482427676825L19.66332532117088, 40.699135090502736L19.420092904379878, 41.00334690039213L19.16621701245184, 41.298734553065565L18.90201752683996, 41.58492586260621L18.62782733663721, 41.86156023041101L18.343991919138922, 42.12828909954172L18.050868904544352, 42.38477639390377L17.748827625345694, 42.630698941699244L17.43824865097229, 42.865746882620535L17.119523308276403, 43.089624058271745L16.79305318846473, 43.30204838532571L16.459249641096918, 43.502752210946554\",\"type\":\"path\"},{\"line\":{\"color\":\"black\",\"width\":4},\"path\":\"M 88.54075035890308, 43.502752210946554L88.20694681153527, 43.30204838532571L87.8804766917236, 43.08962405827175L87.56175134902772, 42.86574688262054L87.2511723746543, 42.630698941699244L86.94913109545566, 42.38477639390378L86.65600808086108, 42.12828909954172L86.37217266336279, 41.86156023041101L86.09798247316004, 41.58492586260622L85.83378298754816, 41.298734553065565L85.57990709562013, 41.00334690039214L85.33667467882913, 40.69913509050274L85.10439220794068, 40.386482427676825L84.88335235688209, 40.06578285159639L84.67383363397582, 39.737440440985296L84.47610003102133, 39.401868904473616L84.29040069066774, 39.0594910593282L84.11696959249615, 38.710738298706616L83.95602525820745, 38.356050048105416L83.80777047628673, 37.99587321168778L83.67239204649168, 37.630661609188074L83.55006054448633, 37.260875404102904L83.44093010691728, 36.88698052388901L83.3451382372028, 36.50944807289866L83.26280563227972, 36.128753738792206L83.1940360305263, 35.74537719317569L83.13891608105276, 35.35980148721873L83.09751523452417, 34.97251244301415L83.06988565565317, 34.58399804144636L83.05606215747291, 34.19474780733951L83.05606215747291, 33.805252192660504L83.06988565565317, 33.41600195855366L83.09751523452417, 33.027487556985854L83.13891608105276, 32.640198512781275L83.19403603052629, 32.254622806824315L83.26280563227972, 31.8712462612078L83.3451382372028, 31.49055192710135L83.44093010691728, 31.113019476111003L83.55006054448633, 30.739124595897103L83.67239204649168, 30.369338390811933L83.80777047628673, 30.004126788312234L83.95602525820743, 29.64394995189459L84.11696959249615, 29.28926170129339L84.29040069066772, 28.940508940671812L84.47610003102133, 28.598131095526398L84.67383363397582, 28.262559559014708L84.88335235688209, 27.934217148403626L85.10439220794068, 27.613517572323175L85.33667467882911, 27.30086490949727L85.57990709562011, 26.996653099607876L85.83378298754816, 26.70126544693444L86.09798247316004, 26.415074137393788L86.37217266336279, 26.138439769588995L86.65600808086108, 25.871710900458282L86.94913109545564, 25.61522360609623L87.2511723746543, 25.369301058300756L87.5617513490277, 25.134253117379465L87.8804766917236, 24.910375941728255L88.20694681153526, 24.697951614674295L88.54075035890308, 24.497247789053446\",\"type\":\"path\"}],\"height\":600,\"width\":800},                        {\"responsive\": true}                    ).then(function(){\n",
       "                            \n",
       "var gd = document.getElementById('3d49e4ad-d48f-4dc9-8986-93ee83977d59');\n",
       "var x = new MutationObserver(function (mutations, observer) {{\n",
       "        var display = window.getComputedStyle(gd).display;\n",
       "        if (!display || display === 'none') {{\n",
       "            console.log([gd, 'removed!']);\n",
       "            Plotly.purge(gd);\n",
       "            observer.disconnect();\n",
       "        }}\n",
       "}});\n",
       "\n",
       "// Listen for the removal of the full notebook cells\n",
       "var notebookContainer = gd.closest('#notebook-container');\n",
       "if (notebookContainer) {{\n",
       "    x.observe(notebookContainer, {childList: true});\n",
       "}}\n",
       "\n",
       "// Listen for the clearing of the current output cell\n",
       "var outputEl = gd.closest('.output');\n",
       "if (outputEl) {{\n",
       "    x.observe(outputEl, {childList: true});\n",
       "}}\n",
       "\n",
       "                        })                };            </script>        </div>"
      ]
     },
     "metadata": {},
     "output_type": "display_data"
    }
   ],
   "execution_count": 112
  },
  {
   "metadata": {},
   "cell_type": "code",
   "outputs": [],
   "execution_count": null,
   "source": "",
   "id": "12cdfc7fa344313b"
  },
  {
   "metadata": {
    "ExecuteTime": {
     "end_time": "2025-05-22T22:47:33.899617Z",
     "start_time": "2025-05-22T22:47:33.858081Z"
    }
   },
   "cell_type": "code",
   "source": [
    "from plotly_football_pitch import (\n",
    "    make_pitch_figure,\n",
    "    PitchDimensions,\n",
    "    SingleColourBackground, add_heatmap, PitchOrientation\n",
    ")\n",
    "\n",
    "\n",
    "dimensions = PitchDimensions()\n",
    "fig = make_pitch_figure(\n",
    "    dimensions,\n",
    "    pitch_background=SingleColourBackground(\"#81B622\"),\n",
    ")\n",
    "fig.show()"
   ],
   "id": "bf5576a00caad87e",
   "outputs": [
    {
     "data": {
      "text/html": [
       "<div>            <script src=\"https://cdnjs.cloudflare.com/ajax/libs/mathjax/2.7.5/MathJax.js?config=TeX-AMS-MML_SVG\"></script><script type=\"text/javascript\">if (window.MathJax && window.MathJax.Hub && window.MathJax.Hub.Config) {window.MathJax.Hub.Config({SVG: {font: \"STIX-Web\"}});}</script>                <script type=\"text/javascript\">window.PlotlyConfig = {MathJaxConfig: 'local'};</script>\n",
       "        <script charset=\"utf-8\" src=\"https://cdn.plot.ly/plotly-3.0.1.min.js\"></script>                <div id=\"00ab30c5-5b23-42f2-9d3c-e0db6f187668\" class=\"plotly-graph-div\" style=\"height:600px; width:800px;\"></div>            <script type=\"text/javascript\">                window.PLOTLYENV=window.PLOTLYENV || {};                                if (document.getElementById(\"00ab30c5-5b23-42f2-9d3c-e0db6f187668\")) {                    Plotly.newPlot(                        \"00ab30c5-5b23-42f2-9d3c-e0db6f187668\",                        [{\"hoverinfo\":\"skip\",\"line\":{\"color\":\"black\",\"width\":4},\"mode\":\"lines\",\"showlegend\":false,\"x\":[0,105,105,0,0],\"y\":[0,0,68,68,0],\"type\":\"scatter\"},{\"hoverinfo\":\"skip\",\"line\":{\"color\":\"black\",\"width\":4},\"mode\":\"lines\",\"showlegend\":false,\"x\":[52.5,52.5],\"y\":[0,68],\"type\":\"scatter\"},{\"hoverinfo\":\"skip\",\"line\":{\"color\":\"black\",\"width\":4},\"mode\":\"lines\",\"showlegend\":false,\"x\":[0,16.459249641096918,16.459249641096918,0],\"y\":[13.600000000000001,13.600000000000001,54.4,54.4],\"type\":\"scatter\"},{\"hoverinfo\":\"skip\",\"line\":{\"color\":\"black\",\"width\":4},\"mode\":\"lines\",\"showlegend\":false,\"x\":[105,88.54075035890308,88.54075035890308,105],\"y\":[13.600000000000001,13.600000000000001,54.4,54.4],\"type\":\"scatter\"},{\"hoverinfo\":\"skip\",\"line\":{\"color\":\"black\",\"width\":4},\"mode\":\"lines\",\"showlegend\":false,\"x\":[0,5.486416547032306,5.486416547032306,0],\"y\":[23.8,23.8,44.2,44.2],\"type\":\"scatter\"},{\"hoverinfo\":\"skip\",\"line\":{\"color\":\"black\",\"width\":4},\"mode\":\"lines\",\"showlegend\":false,\"x\":[105,99.5135834529677,99.5135834529677,105],\"y\":[23.8,23.8,44.2,44.2],\"type\":\"scatter\"},{\"hoverinfo\":\"skip\",\"line\":{\"color\":\"black\"},\"mode\":\"markers\",\"showlegend\":false,\"x\":[10.972833094064612],\"y\":[34.0],\"type\":\"scatter\"},{\"hoverinfo\":\"skip\",\"line\":{\"color\":\"black\"},\"mode\":\"markers\",\"showlegend\":false,\"x\":[94.02716690593539],\"y\":[34.0],\"type\":\"scatter\"},{\"hoverinfo\":\"skip\",\"line\":{\"color\":\"black\"},\"mode\":\"markers\",\"showlegend\":false,\"x\":[52.5],\"y\":[34.0],\"type\":\"scatter\"}],                        {\"template\":{\"data\":{\"histogram2dcontour\":[{\"type\":\"histogram2dcontour\",\"colorbar\":{\"outlinewidth\":0,\"ticks\":\"\"},\"colorscale\":[[0.0,\"#0d0887\"],[0.1111111111111111,\"#46039f\"],[0.2222222222222222,\"#7201a8\"],[0.3333333333333333,\"#9c179e\"],[0.4444444444444444,\"#bd3786\"],[0.5555555555555556,\"#d8576b\"],[0.6666666666666666,\"#ed7953\"],[0.7777777777777778,\"#fb9f3a\"],[0.8888888888888888,\"#fdca26\"],[1.0,\"#f0f921\"]]}],\"choropleth\":[{\"type\":\"choropleth\",\"colorbar\":{\"outlinewidth\":0,\"ticks\":\"\"}}],\"histogram2d\":[{\"type\":\"histogram2d\",\"colorbar\":{\"outlinewidth\":0,\"ticks\":\"\"},\"colorscale\":[[0.0,\"#0d0887\"],[0.1111111111111111,\"#46039f\"],[0.2222222222222222,\"#7201a8\"],[0.3333333333333333,\"#9c179e\"],[0.4444444444444444,\"#bd3786\"],[0.5555555555555556,\"#d8576b\"],[0.6666666666666666,\"#ed7953\"],[0.7777777777777778,\"#fb9f3a\"],[0.8888888888888888,\"#fdca26\"],[1.0,\"#f0f921\"]]}],\"heatmap\":[{\"type\":\"heatmap\",\"colorbar\":{\"outlinewidth\":0,\"ticks\":\"\"},\"colorscale\":[[0.0,\"#0d0887\"],[0.1111111111111111,\"#46039f\"],[0.2222222222222222,\"#7201a8\"],[0.3333333333333333,\"#9c179e\"],[0.4444444444444444,\"#bd3786\"],[0.5555555555555556,\"#d8576b\"],[0.6666666666666666,\"#ed7953\"],[0.7777777777777778,\"#fb9f3a\"],[0.8888888888888888,\"#fdca26\"],[1.0,\"#f0f921\"]]}],\"contourcarpet\":[{\"type\":\"contourcarpet\",\"colorbar\":{\"outlinewidth\":0,\"ticks\":\"\"}}],\"contour\":[{\"type\":\"contour\",\"colorbar\":{\"outlinewidth\":0,\"ticks\":\"\"},\"colorscale\":[[0.0,\"#0d0887\"],[0.1111111111111111,\"#46039f\"],[0.2222222222222222,\"#7201a8\"],[0.3333333333333333,\"#9c179e\"],[0.4444444444444444,\"#bd3786\"],[0.5555555555555556,\"#d8576b\"],[0.6666666666666666,\"#ed7953\"],[0.7777777777777778,\"#fb9f3a\"],[0.8888888888888888,\"#fdca26\"],[1.0,\"#f0f921\"]]}],\"surface\":[{\"type\":\"surface\",\"colorbar\":{\"outlinewidth\":0,\"ticks\":\"\"},\"colorscale\":[[0.0,\"#0d0887\"],[0.1111111111111111,\"#46039f\"],[0.2222222222222222,\"#7201a8\"],[0.3333333333333333,\"#9c179e\"],[0.4444444444444444,\"#bd3786\"],[0.5555555555555556,\"#d8576b\"],[0.6666666666666666,\"#ed7953\"],[0.7777777777777778,\"#fb9f3a\"],[0.8888888888888888,\"#fdca26\"],[1.0,\"#f0f921\"]]}],\"mesh3d\":[{\"type\":\"mesh3d\",\"colorbar\":{\"outlinewidth\":0,\"ticks\":\"\"}}],\"scatter\":[{\"fillpattern\":{\"fillmode\":\"overlay\",\"size\":10,\"solidity\":0.2},\"type\":\"scatter\"}],\"parcoords\":[{\"type\":\"parcoords\",\"line\":{\"colorbar\":{\"outlinewidth\":0,\"ticks\":\"\"}}}],\"scatterpolargl\":[{\"type\":\"scatterpolargl\",\"marker\":{\"colorbar\":{\"outlinewidth\":0,\"ticks\":\"\"}}}],\"bar\":[{\"error_x\":{\"color\":\"#2a3f5f\"},\"error_y\":{\"color\":\"#2a3f5f\"},\"marker\":{\"line\":{\"color\":\"#E5ECF6\",\"width\":0.5},\"pattern\":{\"fillmode\":\"overlay\",\"size\":10,\"solidity\":0.2}},\"type\":\"bar\"}],\"scattergeo\":[{\"type\":\"scattergeo\",\"marker\":{\"colorbar\":{\"outlinewidth\":0,\"ticks\":\"\"}}}],\"scatterpolar\":[{\"type\":\"scatterpolar\",\"marker\":{\"colorbar\":{\"outlinewidth\":0,\"ticks\":\"\"}}}],\"histogram\":[{\"marker\":{\"pattern\":{\"fillmode\":\"overlay\",\"size\":10,\"solidity\":0.2}},\"type\":\"histogram\"}],\"scattergl\":[{\"type\":\"scattergl\",\"marker\":{\"colorbar\":{\"outlinewidth\":0,\"ticks\":\"\"}}}],\"scatter3d\":[{\"type\":\"scatter3d\",\"line\":{\"colorbar\":{\"outlinewidth\":0,\"ticks\":\"\"}},\"marker\":{\"colorbar\":{\"outlinewidth\":0,\"ticks\":\"\"}}}],\"scattermap\":[{\"type\":\"scattermap\",\"marker\":{\"colorbar\":{\"outlinewidth\":0,\"ticks\":\"\"}}}],\"scattermapbox\":[{\"type\":\"scattermapbox\",\"marker\":{\"colorbar\":{\"outlinewidth\":0,\"ticks\":\"\"}}}],\"scatterternary\":[{\"type\":\"scatterternary\",\"marker\":{\"colorbar\":{\"outlinewidth\":0,\"ticks\":\"\"}}}],\"scattercarpet\":[{\"type\":\"scattercarpet\",\"marker\":{\"colorbar\":{\"outlinewidth\":0,\"ticks\":\"\"}}}],\"carpet\":[{\"aaxis\":{\"endlinecolor\":\"#2a3f5f\",\"gridcolor\":\"white\",\"linecolor\":\"white\",\"minorgridcolor\":\"white\",\"startlinecolor\":\"#2a3f5f\"},\"baxis\":{\"endlinecolor\":\"#2a3f5f\",\"gridcolor\":\"white\",\"linecolor\":\"white\",\"minorgridcolor\":\"white\",\"startlinecolor\":\"#2a3f5f\"},\"type\":\"carpet\"}],\"table\":[{\"cells\":{\"fill\":{\"color\":\"#EBF0F8\"},\"line\":{\"color\":\"white\"}},\"header\":{\"fill\":{\"color\":\"#C8D4E3\"},\"line\":{\"color\":\"white\"}},\"type\":\"table\"}],\"barpolar\":[{\"marker\":{\"line\":{\"color\":\"#E5ECF6\",\"width\":0.5},\"pattern\":{\"fillmode\":\"overlay\",\"size\":10,\"solidity\":0.2}},\"type\":\"barpolar\"}],\"pie\":[{\"automargin\":true,\"type\":\"pie\"}]},\"layout\":{\"autotypenumbers\":\"strict\",\"colorway\":[\"#636efa\",\"#EF553B\",\"#00cc96\",\"#ab63fa\",\"#FFA15A\",\"#19d3f3\",\"#FF6692\",\"#B6E880\",\"#FF97FF\",\"#FECB52\"],\"font\":{\"color\":\"#2a3f5f\"},\"hovermode\":\"closest\",\"hoverlabel\":{\"align\":\"left\"},\"paper_bgcolor\":\"white\",\"plot_bgcolor\":\"#E5ECF6\",\"polar\":{\"bgcolor\":\"#E5ECF6\",\"angularaxis\":{\"gridcolor\":\"white\",\"linecolor\":\"white\",\"ticks\":\"\"},\"radialaxis\":{\"gridcolor\":\"white\",\"linecolor\":\"white\",\"ticks\":\"\"}},\"ternary\":{\"bgcolor\":\"#E5ECF6\",\"aaxis\":{\"gridcolor\":\"white\",\"linecolor\":\"white\",\"ticks\":\"\"},\"baxis\":{\"gridcolor\":\"white\",\"linecolor\":\"white\",\"ticks\":\"\"},\"caxis\":{\"gridcolor\":\"white\",\"linecolor\":\"white\",\"ticks\":\"\"}},\"coloraxis\":{\"colorbar\":{\"outlinewidth\":0,\"ticks\":\"\"}},\"colorscale\":{\"sequential\":[[0.0,\"#0d0887\"],[0.1111111111111111,\"#46039f\"],[0.2222222222222222,\"#7201a8\"],[0.3333333333333333,\"#9c179e\"],[0.4444444444444444,\"#bd3786\"],[0.5555555555555556,\"#d8576b\"],[0.6666666666666666,\"#ed7953\"],[0.7777777777777778,\"#fb9f3a\"],[0.8888888888888888,\"#fdca26\"],[1.0,\"#f0f921\"]],\"sequentialminus\":[[0.0,\"#0d0887\"],[0.1111111111111111,\"#46039f\"],[0.2222222222222222,\"#7201a8\"],[0.3333333333333333,\"#9c179e\"],[0.4444444444444444,\"#bd3786\"],[0.5555555555555556,\"#d8576b\"],[0.6666666666666666,\"#ed7953\"],[0.7777777777777778,\"#fb9f3a\"],[0.8888888888888888,\"#fdca26\"],[1.0,\"#f0f921\"]],\"diverging\":[[0,\"#8e0152\"],[0.1,\"#c51b7d\"],[0.2,\"#de77ae\"],[0.3,\"#f1b6da\"],[0.4,\"#fde0ef\"],[0.5,\"#f7f7f7\"],[0.6,\"#e6f5d0\"],[0.7,\"#b8e186\"],[0.8,\"#7fbc41\"],[0.9,\"#4d9221\"],[1,\"#276419\"]]},\"xaxis\":{\"gridcolor\":\"white\",\"linecolor\":\"white\",\"ticks\":\"\",\"title\":{\"standoff\":15},\"zerolinecolor\":\"white\",\"automargin\":true,\"zerolinewidth\":2},\"yaxis\":{\"gridcolor\":\"white\",\"linecolor\":\"white\",\"ticks\":\"\",\"title\":{\"standoff\":15},\"zerolinecolor\":\"white\",\"automargin\":true,\"zerolinewidth\":2},\"scene\":{\"xaxis\":{\"backgroundcolor\":\"#E5ECF6\",\"gridcolor\":\"white\",\"linecolor\":\"white\",\"showbackground\":true,\"ticks\":\"\",\"zerolinecolor\":\"white\",\"gridwidth\":2},\"yaxis\":{\"backgroundcolor\":\"#E5ECF6\",\"gridcolor\":\"white\",\"linecolor\":\"white\",\"showbackground\":true,\"ticks\":\"\",\"zerolinecolor\":\"white\",\"gridwidth\":2},\"zaxis\":{\"backgroundcolor\":\"#E5ECF6\",\"gridcolor\":\"white\",\"linecolor\":\"white\",\"showbackground\":true,\"ticks\":\"\",\"zerolinecolor\":\"white\",\"gridwidth\":2}},\"shapedefaults\":{\"line\":{\"color\":\"#2a3f5f\"}},\"annotationdefaults\":{\"arrowcolor\":\"#2a3f5f\",\"arrowhead\":0,\"arrowwidth\":1},\"geo\":{\"bgcolor\":\"white\",\"landcolor\":\"#E5ECF6\",\"subunitcolor\":\"white\",\"showland\":true,\"showlakes\":true,\"lakecolor\":\"white\"},\"title\":{\"x\":0.05},\"mapbox\":{\"style\":\"light\"}}},\"xaxis\":{\"anchor\":\"y\",\"domain\":[0.0,1.0],\"range\":[0,105],\"visible\":false},\"yaxis\":{\"anchor\":\"x\",\"domain\":[0.0,1.0],\"range\":[0,68],\"visible\":false},\"shapes\":[{\"line\":{\"color\":\"black\",\"width\":4},\"type\":\"circle\",\"x0\":63.0,\"x1\":42.0,\"xref\":\"x\",\"y0\":44.5,\"y1\":23.5,\"yref\":\"y\"},{\"line\":{\"color\":\"black\",\"width\":4},\"path\":\"M 16.459249641096918, 24.497247789053446L16.793053188464725, 24.697951614674288L17.1195233082764, 24.91037594172825L17.438248650972287, 25.134253117379465L17.748827625345694, 25.369301058300756L18.050868904544352, 25.615223606096226L18.34399191913892, 25.871710900458282L18.627827336637207, 26.13843976958899L18.90201752683996, 26.41507413739378L19.16621701245184, 26.701265446934435L19.420092904379874, 26.99665309960787L19.66332532117088, 27.300864909497264L19.89560779205933, 27.613517572323175L20.11664764311791, 27.93421714840362L20.326166366024186, 28.262559559014704L20.52389996897867, 28.59813109552639L20.709599309332265, 28.9405089406718L20.88303040750385, 29.289261701293384L21.04397474179256, 29.643949951894584L21.192229523713262, 30.004126788312227L21.32760795350832, 30.36933839081193L21.449939455513668, 30.7391245958971L21.559069893082718, 31.113019476110992L21.654861762797193, 31.490551927101343L21.737194367720278, 31.871246261207798L21.8059639694737, 32.25462280682431L21.861083918947244, 32.640198512781275L21.902484765475837, 33.02748755698585L21.930114344346837, 33.41600195855365L21.94393784252709, 33.8052521926605L21.94393784252709, 34.1947478073395L21.930114344346837, 34.58399804144635L21.902484765475837, 34.97251244301415L21.861083918947244, 35.359801487218725L21.8059639694737, 35.745377193175685L21.737194367720278, 36.1287537387922L21.654861762797196, 36.50944807289866L21.559069893082718, 36.886980523889L21.44993945551367, 37.2608754041029L21.32760795350832, 37.63066160918807L21.192229523713266, 37.99587321168777L21.04397474179256, 38.356050048105416L20.88303040750385, 38.710738298706616L20.70959930933227, 39.059491059328195L20.523899968978675, 39.40186890447361L20.32616636602419, 39.737440440985296L20.116647643117915, 40.06578285159638L19.89560779205933, 40.386482427676825L19.66332532117088, 40.699135090502736L19.420092904379878, 41.00334690039213L19.16621701245184, 41.298734553065565L18.90201752683996, 41.58492586260621L18.62782733663721, 41.86156023041101L18.343991919138922, 42.12828909954172L18.050868904544352, 42.38477639390377L17.748827625345694, 42.630698941699244L17.43824865097229, 42.865746882620535L17.119523308276403, 43.089624058271745L16.79305318846473, 43.30204838532571L16.459249641096918, 43.502752210946554\",\"type\":\"path\"},{\"line\":{\"color\":\"black\",\"width\":4},\"path\":\"M 88.54075035890308, 43.502752210946554L88.20694681153527, 43.30204838532571L87.8804766917236, 43.08962405827175L87.56175134902772, 42.86574688262054L87.2511723746543, 42.630698941699244L86.94913109545566, 42.38477639390378L86.65600808086108, 42.12828909954172L86.37217266336279, 41.86156023041101L86.09798247316004, 41.58492586260622L85.83378298754816, 41.298734553065565L85.57990709562013, 41.00334690039214L85.33667467882913, 40.69913509050274L85.10439220794068, 40.386482427676825L84.88335235688209, 40.06578285159639L84.67383363397582, 39.737440440985296L84.47610003102133, 39.401868904473616L84.29040069066774, 39.0594910593282L84.11696959249615, 38.710738298706616L83.95602525820745, 38.356050048105416L83.80777047628673, 37.99587321168778L83.67239204649168, 37.630661609188074L83.55006054448633, 37.260875404102904L83.44093010691728, 36.88698052388901L83.3451382372028, 36.50944807289866L83.26280563227972, 36.128753738792206L83.1940360305263, 35.74537719317569L83.13891608105276, 35.35980148721873L83.09751523452417, 34.97251244301415L83.06988565565317, 34.58399804144636L83.05606215747291, 34.19474780733951L83.05606215747291, 33.805252192660504L83.06988565565317, 33.41600195855366L83.09751523452417, 33.027487556985854L83.13891608105276, 32.640198512781275L83.19403603052629, 32.254622806824315L83.26280563227972, 31.8712462612078L83.3451382372028, 31.49055192710135L83.44093010691728, 31.113019476111003L83.55006054448633, 30.739124595897103L83.67239204649168, 30.369338390811933L83.80777047628673, 30.004126788312234L83.95602525820743, 29.64394995189459L84.11696959249615, 29.28926170129339L84.29040069066772, 28.940508940671812L84.47610003102133, 28.598131095526398L84.67383363397582, 28.262559559014708L84.88335235688209, 27.934217148403626L85.10439220794068, 27.613517572323175L85.33667467882911, 27.30086490949727L85.57990709562011, 26.996653099607876L85.83378298754816, 26.70126544693444L86.09798247316004, 26.415074137393788L86.37217266336279, 26.138439769588995L86.65600808086108, 25.871710900458282L86.94913109545564, 25.61522360609623L87.2511723746543, 25.369301058300756L87.5617513490277, 25.134253117379465L87.8804766917236, 24.910375941728255L88.20694681153526, 24.697951614674295L88.54075035890308, 24.497247789053446\",\"type\":\"path\"},{\"fillcolor\":\"#81B622\",\"layer\":\"below\",\"type\":\"rect\",\"x0\":0,\"x1\":1,\"xref\":\"x domain\",\"y0\":0,\"y1\":68,\"yref\":\"y\"}],\"height\":600,\"width\":800},                        {\"responsive\": true}                    ).then(function(){\n",
       "                            \n",
       "var gd = document.getElementById('00ab30c5-5b23-42f2-9d3c-e0db6f187668');\n",
       "var x = new MutationObserver(function (mutations, observer) {{\n",
       "        var display = window.getComputedStyle(gd).display;\n",
       "        if (!display || display === 'none') {{\n",
       "            console.log([gd, 'removed!']);\n",
       "            Plotly.purge(gd);\n",
       "            observer.disconnect();\n",
       "        }}\n",
       "}});\n",
       "\n",
       "// Listen for the removal of the full notebook cells\n",
       "var notebookContainer = gd.closest('#notebook-container');\n",
       "if (notebookContainer) {{\n",
       "    x.observe(notebookContainer, {childList: true});\n",
       "}}\n",
       "\n",
       "// Listen for the clearing of the current output cell\n",
       "var outputEl = gd.closest('.output');\n",
       "if (outputEl) {{\n",
       "    x.observe(outputEl, {childList: true});\n",
       "}}\n",
       "\n",
       "                        })                };            </script>        </div>"
      ]
     },
     "metadata": {},
     "output_type": "display_data"
    }
   ],
   "execution_count": 122
  },
  {
   "metadata": {
    "ExecuteTime": {
     "end_time": "2025-05-22T22:50:28.039571Z",
     "start_time": "2025-05-22T22:50:28.000666Z"
    }
   },
   "cell_type": "code",
   "source": [
    "pitch_figure = make_pitch_figure(\n",
    "    dimensions=PitchDimensions(),\n",
    "    marking_colour=\"black\",\n",
    "    marking_width=2,\n",
    "    pitch_background=SingleColourBackground(\"#81B622\"),\n",
    "    figure_width_pixels=1200,\n",
    "    figure_height_pixels=600,\n",
    "    orientation=PitchOrientation.HORIZONTAL\n",
    ")"
   ],
   "id": "bd8900c464a418e5",
   "outputs": [],
   "execution_count": 126
  },
  {
   "metadata": {
    "ExecuteTime": {
     "end_time": "2025-05-22T22:48:28.729039Z",
     "start_time": "2025-05-22T22:48:28.680463Z"
    }
   },
   "cell_type": "code",
   "source": [
    "fw_heatmap = create_heatmap(fw_players)\n",
    "bk_heatmap = create_heatmap(bk_players)\n",
    "mf_heatmap = create_heatmap(mf_players)\n"
   ],
   "id": "fd52690b7fa8a956",
   "outputs": [],
   "execution_count": 124
  }
 ],
 "metadata": {
  "kernelspec": {
   "display_name": "Python 3",
   "language": "python",
   "name": "python3"
  },
  "language_info": {
   "codemirror_mode": {
    "name": "ipython",
    "version": 2
   },
   "file_extension": ".py",
   "mimetype": "text/x-python",
   "name": "python",
   "nbconvert_exporter": "python",
   "pygments_lexer": "ipython2",
   "version": "2.7.6"
  }
 },
 "nbformat": 4,
 "nbformat_minor": 5
}
